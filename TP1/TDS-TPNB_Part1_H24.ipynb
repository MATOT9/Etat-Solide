{
 "cells": [
  {
   "cell_type": "markdown",
   "metadata": {},
   "source": [
    "<h1 style=\"text-align:center\">Travail pratique numérique en thermodynamique statistique</h1>\n",
    "<h2 style=\"text-align:center\">PARTIE 1 : Cinétique des gaz parfaits</h2>\n",
    "\n",
    "Veuillez indiquer le nom des membres de votre équipe dans la cellule suivante."
   ]
  },
  {
   "cell_type": "markdown",
   "metadata": {},
   "source": [
    "<h1><center>Physique numérique (PHY-3500) - TP1</center></h1>\n",
    "<hr>\n",
    "<br><br>\n",
    "\n",
    "**Membres de l'équipe**\n",
    "| Nom | NI |\n",
    "| --- | :---: |\n",
    "| Maxime Tousignant-Tremblay | 536 772 369 |\n",
    "| Philippe Morin | 536 776 382 |\n",
    "| Alyx Olivier|  |\n",
    "| Anna-Kim Péron|  |"
   ]
  },
  {
   "cell_type": "markdown",
   "metadata": {},
   "source": [
    "# Atelier en classe : 31 janvier 2024 #\n",
    "### Discussion interdisciplinaire de sujets en probablilité & statistiques ###\n",
    "\n",
    "**Quelques fondements de mathématiques statistiques:** par exemple bien définir variables aléatoires, échantillon et population totale, estimateurs, fonction de distribution cumulative (répartition), densité de probabilité, moments, etc. - **Programme GPH**\n",
    "\n",
    "**Les distributions statistiques de particules indiscernables:** en particulier celle de Fermi-Dirac avec les notions de potentiel chimique et d’occupation des états en fonction de la température, en analogie avec le remplissage selon le principe principe d’Aufbau introduit en classe pour les atomes à température nulle. - **Programme PHY**\n",
    "\n",
    "**_Un point de bonus sera accordé à tous les étudiantes et étudiants qui participeront à l'atelier pour discuter des sujets ci-dessus et débuter le travail de la première partie ci-dessous._**"
   ]
  },
  {
   "cell_type": "markdown",
   "metadata": {
    "nteract": {
     "transient": {
      "deleting": false
     }
    }
   },
   "source": [
    "# Introduction #\n",
    "Ce travail révise d'abord quelques bases générales de mécanique statistique classique avec le script `TDS-2Dsimulation_HXX.py` qui simule la théorie cinétique des gaz parfaits en 2D. Cette simulation utilise le concept de sphères dures, mais ici pour le cas des particules d'un gaz afin d'introduire des collisions élastiques entre elles sur leurs trajectoires ballistiques. Notez qu'une sphère est colorée et grossie seulement pour l’effet visuel dans l'animation, la physique de l’algorithme codé considère bien des particules totalement identiques. Les questions sur cette simulation, à répondre directement dans les cellules du carnet _(Notebook)_ ici-même, explorent quelques paramètres de la thermodynamique statistique et introduisent de nouveaux termes utiles à l'étude de la dynamique des électrons dans la matière.\n",
    "\n",
    "_N.B._ \n",
    "- _Pour montrer les animations à l'écran, le script `TDS-2Dsimulation_HXX.py` importe la librairie `VPython` qu'il faut donc installer. Des liens vers sa documentation et de l'information complémentaire sont donnés dans la médiagraphie à la fin._\n",
    "- _Le code dans ce script est abusivement commenté dans notre contexte pédagogique, mais il serait bien sûr préférable de s’en tenir aux recommandations du <a href=\"https://www.python.org/dev/peps/pep-0008\"> PEP 8 — Style Guide for Python Code</a>._\n",
    "- _Notez finalement que la boucle principale à la fin du script laisse l'utilisateur voir l'animation aussi longtemps que souhaité, assurez-vous donc de savoir comment l'interrompre correctement avant de lancer la simulation ou de la remplacer par une boucle `for`._"
   ]
  },
  {
   "cell_type": "markdown",
   "metadata": {
    "nteract": {
     "transient": {
      "deleting": false
     }
    }
   },
   "source": [
    "# Cinétique CLASSIQUE des gaz parfaits #"
   ]
  },
  {
   "cell_type": "markdown",
   "metadata": {
    "nteract": {
     "transient": {
      "deleting": false
     }
    }
   },
   "source": [
    "### Simulation 2D ###"
   ]
  },
  {
   "cell_type": "code",
   "execution_count": 1,
   "metadata": {
    "scrolled": true
   },
   "outputs": [
    {
     "data": {
      "text/html": [
       "<div id=\"glowscript\" class=\"glowscript\"></div>"
      ],
      "text/plain": [
       "<IPython.core.display.HTML object>"
      ]
     },
     "metadata": {},
     "output_type": "display_data"
    },
    {
     "data": {
      "application/javascript": "if (typeof Jupyter !== \"undefined\") { window.__context = { glowscript_container: $(\"#glowscript\").removeAttr(\"id\")};}else{ element.textContent = ' ';}",
      "text/plain": [
       "<IPython.core.display.Javascript object>"
      ]
     },
     "metadata": {},
     "output_type": "display_data"
    }
   ],
   "source": [
    "import numpy as np\n",
    "import vpython as vp\n",
    "from scipy import constants as cte\n"
   ]
  },
  {
   "cell_type": "code",
   "execution_count": 3,
   "metadata": {},
   "outputs": [],
   "source": [
    "import TDS_H24\n",
    "\n",
    "q = TDS_H24.HardSphere()\n",
    "q.run(500)\n"
   ]
  },
  {
   "cell_type": "code",
   "execution_count": null,
   "metadata": {},
   "outputs": [],
   "source": [
    "%run TDS_2Dsimulation_H24.py\n"
   ]
  },
  {
   "cell_type": "markdown",
   "metadata": {},
   "source": [
    "### Questions statistiques ###"
   ]
  },
  {
   "cell_type": "markdown",
   "metadata": {},
   "source": [
    "**I.** _(3 points)_  &mdash; Utilisez la liste finale des vecteurs de quantité de mouvement $\\vec{p}$ de toutes les sphères pour trouver la moyenne de son carré $\\langle p^2\\rangle=\\langle\\vec{p}\\cdot\\vec{p}\\rangle$ et l'imprimer avec la fonction `print()` dans la cellule qui suit. "
   ]
  },
  {
   "cell_type": "code",
   "execution_count": 2,
   "metadata": {},
   "outputs": [
    {
     "name": "stdout",
     "output_type": "stream",
     "text": [
      "8.4e-47\n"
     ]
    }
   ],
   "source": [
    "def calculate_psquareMean(p):\n",
    "    \"\"\"Calcule <p^2> de la matrice p donnée.\"\"\"\n",
    "    # liste de <p^2> accumulée (hypothèse)\n",
    "    psquare_list = list(map(vp.dot, p, p))\n",
    "    psquare_mean = np.mean(psquare_list)\n",
    "    return psquare_mean\n",
    "\n",
    "\n",
    "# p à la fin de la simulation\n",
    "calculate_psquareMean(p)\n"
   ]
  },
  {
   "cell_type": "markdown",
   "metadata": {},
   "source": [
    "\n",
    "**II.** _(2 points)_  &mdash; La température $T$ (macroscopique) est proportionnelle à l'énergie cinétique moyenne $E_{cin}$ de l'ensemble des particules lorsque ce système est rendu à l'équilibre. Celle-ci peut se calculer classiquement selon son <a href=\"https://fr.wikipedia.org/wiki/%C3%89quipartition_de_l%27%C3%A9nergie\">principe d'équipartition</a>, _i.e._ répartissant l'énergie également sur chaque degré de liberté ici en translation seulement, d'où au total pour $i=1,2\\text{ ou } 3$ dimensions d'espace réel\n",
    "\\begin{equation}\n",
    "E_{cin}=\\frac{\\langle p^2 \\rangle}{2m}=i\\times\\frac{1}{2}k_BT\n",
    "\\end{equation}\n",
    "avec $k_B$, la constante de Boltzmann et $m$, la masse de chaque particule. Quelle est la température du gaz de sphères dures à la fin de la simulation? Est-ce qu'elle a changé significativement par rapport à sa valeur initiale?"
   ]
  },
  {
   "cell_type": "code",
   "execution_count": 3,
   "metadata": {},
   "outputs": [
    {
     "name": "stdout",
     "output_type": "stream",
     "text": [
      "456.30714251051495 156.30714251051495\n"
     ]
    }
   ],
   "source": [
    "def calculate_temperature(p2, m): #calcul la temperature en K en fonction de E_cin (p2 = <p^2>)\n",
    "    i = 2 #degré de liberté 2D en simulation\n",
    "    kB = cte.k #constante de Boltzman\n",
    "    T = p2/(kB*m*i)\n",
    "    return T\n",
    "\n",
    "TEnd = calculate_temperature(psquareEnd, mass)\n",
    "print(TEnd, TEnd-300)\n"
   ]
  },
  {
   "cell_type": "markdown",
   "metadata": {
    "nteract": {
     "transient": {
      "deleting": false
     }
    }
   },
   "source": [
    "**III.** _(10 points)_ &mdash; Modifiez le code de la simulation pour ajouter une fonction qui suit la trajectoire d'UNE SEULE particule, c'est-à-dire qu'elle doit enregistrer, dans une liste, des valeurs de variables pour cette particule et ce, à chacune de ses collisions avec une autre particule (_i.e._ excluez les collisions avec les parois de la boîte). Les deux variables scalaires à lister sont:\n",
    "- la distance que la particule a parcouru entre chaque collision,\n",
    "- le temps écoulé entre ces collisions.\n",
    "\n",
    "Copiez le code de votre fonction dans la cellule qui suit en y commentant clairement les variables pour ces listes qui devront persister après avoir interrompu l'exécution de la simulation. N'oubliez pas d'inclure votre fichier Python (`.py`) modifié avec la simulation complète lors de la remise."
   ]
  },
  {
   "cell_type": "code",
   "execution_count": 4,
   "metadata": {
    "nteract": {
     "transient": {
      "deleting": false
     }
    }
   },
   "outputs": [
    {
     "name": "stdout",
     "output_type": "stream",
     "text": [
      "Distance et temps parcourrue par l'atome 106. \n",
      "\n",
      "Distances: [0.016086106030513102, 0.32575290963906123, 0.08306095485871792, 0.01465142569366003, 0.02347745722967563, 0.06871442360693221, 0.08589302950866527, 0.008589302950866526, 0.09829144984784619, 0.031001914543042478, 0.006200382908608496, 0.2600511088501159, 0.01643517908582887, 0.1957759681202089, 0.008181425608415097, 0.03272570243366039, 0.008181425608415097, 0.008181425608415097, 0.015577338136638108, 0.2164250415974325, 0.012023613422079587, 0.012023613422079587, 0.012023613422079587, 0.04809445368831827, 0.012023613422079556, 0.012023613422079561, 0.024047226844159122, 0.012023613422079561, 0.012023613422079561, 0.04227835133529203, 0.010175434643356393, 0.03052630393006918, 0.010175434643356393, 0.16280695429370265, 0.010175434643356419, 0.010175434643356419, 0.01234863133861182, 0.14910748492909318, 0.010650534637792376, 0.010650534637792376, 0.008431813988959305, 0.049718400646230655, 0.009943680129246131, 0.011065506556277475, 0.14414479179310816, 0.12355267867980681, 0.010296056556650566, 0.010296056556650566, 0.020592113113301138, 0.02674125994138632, 0.03547003908959721, 0.04349966747859343, 0.014070008159443271, 0.211050122391649, 0.014070008159443273, 0.43617025294274125, 0.014070008159443278, 0.04221002447832982, 0.014070008159443264, 0.014070008159443264, 0.16884009791331916, 0.04221002447832979, 0.042101814297113564, 0.006510068987885428, 0.0034276862157139663, 0.042125385827029634, 0.011488741589189898, 0.030919648999606447, 0.009705882859777267, 0.009705882859777267, 0.14665412087296975, 0.22331453875065965, 0.017178041442358436, 0.10306824865415061, 0.15460237298122603, 0.017178041442358426, 0.01213452289982609, 0.008904880556577054, 0.2137171333578494, 0.008904880556577054, 0.21364304859790273, 0.008108717209785257, 0.008108717209785257, 0.040543586048926286, 0.008108717209785257, 0.048652303258711546, 0.008108717209785257, 0.08108717209785259, 0.008108717209785257, 0.010275960961750246, 0.025783859052338383, 0.008594619684112794, 0.06016233778878955, 0.008594619684112794, 0.017189239368225587, 0.008594619684112794, 0.017189239368225587, 0.1375139149458047, 0.008594619684112794, 0.017189239368225587, 0.008594619684112794, 0.041415188387537036, 0.0030263913953369505, 0.0030263913953369505, 0.0030263913953369505, 0.0030263913953369505, 0.0030263913953369505, 0.018158348372021703, 0.0030263913953369505, 0.0030263913953369505, 0.012105565581347802, 0.17420106137407165, 0.026110187803423876, 0.20888150242739092, 0.20888150242739095, 0.26110187803423884, 0.026110187803423876, 0.25932589307342463, 0.030783464357096207, 0.061566928714192413, 0.21548425049967343, 0.030783464357096207, 0.03898995285354452, 0.16194213931257131, 0.015483239539769482, 0.046449718619308446, 0.015483239539769484, 0.04644971861930849, 0.015483239539769498, 0.015483239539769496, 0.029706811671128514, 0.020102260275534158, 0.02623211156342347, 0.26001537220297266, 0.1376551970486324, 0.12630089382947934, 0.20672504133487074, 0.33806390035558165, 0.14180240963898283, 0.013545762918471939, 0.1625491550216634, 0.06636831140247489, 0.027540893706570913, 0.07119082474874014, 0.03057305589253582, 0.03057305589253582, 0.3668766707104299, 0.17665668252884303, 0.029490207655803003, 0.05302113547336475, 0.022226119819223535, 0.31116567746912954, 0.6185189553579076, 0.022093171719122513, 0.022093171719122513, 0.06627951515736755, 0.022093171719122513, 0.05457456968491242, 0.015340101983589479, 0.07759462941801325, 0.21343654000762732, 0.035809779344417515, 0.06963974572903939, 0.005547988698771975, 0.011097495007627993, 0.0010402731591378045, 0.0012794845759273182, 0.0012794845759273182, 0.0012794845759273182, 0.014074330335200502, 0.027986092742385667, 0.17929710618067338, 0.3472243782226156, 0.024032120749796056, 0.14419272449877635, 0.09612848299918422, 0.024032120749796056, 0.16822484524857237, 0.024032120749796056, 0.04806424149959211, 0.2389576465795918, 0.142554769948492, 0.2217518643643208, 0.015839418883165767, 0.0345130284303803, 0.002186642565572324, 0.2184470876638957, 0.12880512284898038, 0.003389608496025801, 0.009252239844893038, 0.005760664366000595, 0.005760664366000595, 0.005760664366000595, 0.03456398619600357, 0.005760664366000595, 0.01152132873200119].\n",
      "\n",
      "Temps: [1e-05, 0.00022, 5e-05, 1e-05, 1e-05, 8e-05, 0.0001, 1e-05, 0.00014000000000000001, 5e-05, 1e-05, 0.00015000000000000001, 1e-05, 0.00024, 1e-05, 4e-05, 1e-05, 1e-05, 1e-05, 0.00018, 1e-05, 1e-05, 1e-05, 4e-05, 1e-05, 1e-05, 2e-05, 1e-05, 1e-05, 2e-05, 1e-05, 3.0000000000000004e-05, 1e-05, 0.00016, 1e-05, 1e-05, 1e-05, 0.00014000000000000001, 1e-05, 1e-05, 1e-05, 5e-05, 1e-05, 1e-05, 0.00014000000000000001, 0.00012, 1e-05, 1e-05, 2e-05, 1e-05, 2e-05, 1e-05, 1e-05, 0.00015000000000000001, 1e-05, 0.00031000000000000016, 1e-05, 3.0000000000000004e-05, 1e-05, 1e-05, 0.00012, 3.0000000000000004e-05, 5e-05, 1e-05, 1e-05, 0.00011, 3.0000000000000004e-05, 2e-05, 1e-05, 1e-05, 7.000000000000001e-05, 0.00013000000000000002, 1e-05, 6e-05, 9e-05, 1e-05, 1e-05, 1e-05, 0.00024, 1e-05, 0.00025, 1e-05, 1e-05, 5e-05, 1e-05, 6e-05, 1e-05, 0.0001, 1e-05, 1e-05, 3.0000000000000004e-05, 1e-05, 7.000000000000001e-05, 1e-05, 2e-05, 1e-05, 2e-05, 0.00016, 1e-05, 2e-05, 1e-05, 0.0001, 1e-05, 1e-05, 1e-05, 1e-05, 1e-05, 6e-05, 1e-05, 1e-05, 4e-05, 6e-05, 1e-05, 8e-05, 8e-05, 0.0001, 1e-05, 8e-05, 1e-05, 2e-05, 7.000000000000001e-05, 1e-05, 1e-05, 0.0001, 1e-05, 3.0000000000000004e-05, 1e-05, 3.0000000000000004e-05, 1e-05, 1e-05, 1e-05, 1e-05, 2e-05, 0.00017, 9e-05, 8e-05, 7.000000000000001e-05, 0.00012, 0.0001, 1e-05, 0.00012, 2e-05, 1e-05, 2e-05, 1e-05, 1e-05, 0.00012, 6e-05, 1e-05, 2e-05, 1e-05, 0.00014000000000000001, 0.0002800000000000001, 1e-05, 1e-05, 3.0000000000000004e-05, 1e-05, 2e-05, 1e-05, 4e-05, 0.00014000000000000001, 3.0000000000000004e-05, 0.00011, 1e-05, 1e-05, 1e-05, 1e-05, 1e-05, 1e-05, 0.00011, 1e-05, 0.00012, 0.00014000000000000001, 1e-05, 6e-05, 4e-05, 1e-05, 7.000000000000001e-05, 1e-05, 2e-05, 0.00015000000000000001, 9e-05, 0.00014000000000000001, 1e-05, 6e-05, 1e-05, 0.000630000000000001, 0.00038000000000000035, 1e-05, 1e-05, 1e-05, 1e-05, 1e-05, 6e-05, 1e-05, 2e-05]\n"
     ]
    }
   ],
   "source": [
    "# Il faut initier les valeur analyseSphere, accuTime, accuDist, timeCollision et distanceCollision en début de code\n",
    "# Ces même valeur restent ensuite \n",
    "# Dans la boucle temporelle, on fait un check si analseSphere est dans hitlist, détermine si collison True or False\n",
    "\"\"\"\n",
    "def tracingParticule(sphere, list, dt, speed, tvec, distvec): #focntion ajoutee pour track la particule\n",
    "    v = (abs(speed.x) + abs(speed.y))**0.5\n",
    "    l1, l2 = [], []\n",
    "    for i in list:\n",
    "        l1.append(i[0])\n",
    "        l2.append(i[1])\n",
    "    tvec[-1] = tvec[-1] + dt\n",
    "    distvec[-1] = distvec[-1]+tvec[-1]*v\n",
    "    if sphere in l1 or sphere in l2:\n",
    "        distanceCollision.append(0)\n",
    "        timeCollision.append(0)\n",
    "    return tvec, distvec\n",
    "\"\"\"\n",
    "#print(distanceCollision, timeCollision)\n",
    "print(f\"Distance et temps parcourrue par l'atome {analyseSphere}. \\n\\nDistances: {distanceCollision}.\\n\\nTemps: {timeCollision}\")\n"
   ]
  },
  {
   "cell_type": "markdown",
   "metadata": {
    "nteract": {
     "transient": {
      "deleting": false
     }
    }
   },
   "source": [
    "**IV.** _(2 points)_ &mdash; Calculez le **libre parcours moyen** $l_{moy}$ et le **temps de collision** $\\tau$ qui sont les valeurs moyennes des deux listes compilées au numéro précédent.\n",
    "\n",
    "_(Pour votre information, le libre parcours moyen est de l’ordre de 100 nm dans l'air à température et pression ambiantes, mais_ $l_{moy}$ _peut dépasser 100 000 km dans une enceinte sous vide avec les technologies de pompes modernes!)_\n",
    "\n"
   ]
  },
  {
   "cell_type": "code",
   "execution_count": 5,
   "metadata": {
    "nteract": {
     "transient": {
      "deleting": false
     }
    }
   },
   "outputs": [
    {
     "name": "stdout",
     "output_type": "stream",
     "text": [
      "0.06856609344984174 5.0969387755102054e-05\n"
     ]
    }
   ],
   "source": [
    "lmoy = np.mean(distanceCollision) #m\n",
    "tau = np.mean(timeCollision) #s\n",
    "print(lmoy, tau)\n"
   ]
  },
  {
   "cell_type": "markdown",
   "metadata": {
    "nteract": {
     "transient": {
      "deleting": false
     }
    }
   },
   "source": [
    "**V.** _(2 points)_ Calculez la vitesse $\\vec{v}$ de la particule entre chaque paire de collisions. Quelle est la vitesse moyenne $\\langle\\vec{v}\\rangle$ de la particule?"
   ]
  },
  {
   "cell_type": "code",
   "execution_count": 6,
   "metadata": {
    "nteract": {
     "transient": {
      "deleting": false
     }
    }
   },
   "outputs": [
    {
     "name": "stdout",
     "output_type": "stream",
     "text": [
      "<0.00159266, 0.00310832, 0>\n"
     ]
    }
   ],
   "source": [
    "def calculate_speed_vector(histPosSphereX, histPosSphereY, timeCollision, dt):\n",
    "    v = []\n",
    "    idx_0 = 0\n",
    "    for i in range(len(timeCollision)-1):\n",
    "        idx_end = idx_0 + round(timeCollision[i]/dt)\n",
    "        v.append(vector(histPosSphereX[idx_end]-histPosSphereX[idx_0], histPosSphereY[idx_end]-histPosSphereY[idx_0],0))\n",
    "        idx_0 = idx_end\n",
    "    \n",
    "    return v\n",
    "v = calculate_speed_vector(histPosSphereX, histPosSphereY, timeCollision, dt)\n",
    "vecMoy = vector(0,0,0)\n",
    "for i in range(len(v)):\n",
    "    vecMoy = vecMoy + v[i]\n",
    "vecMoy = vecMoy/len(v)\n",
    "print(vecMoy)\n",
    "    \n",
    "#\n"
   ]
  },
  {
   "cell_type": "markdown",
   "metadata": {
    "nteract": {
     "transient": {
      "deleting": false
     }
    }
   },
   "source": [
    "**VI.** _(5 points)_ &mdash; Pour cette même liste de vitesses, comparez les distributions de la norme $||\\vec{v}||$, du carré $v^2$ et d’une de ses composantes $v_x^2$ en étalonnant l’abscisse pour contraster les histogrammes avec une échelle appropriée. Indiquez sur ce graphique la moyenne, le mode, la médiane et la moyenne quadratique des distributions."
   ]
  },
  {
   "cell_type": "code",
   "execution_count": 7,
   "metadata": {
    "nteract": {
     "transient": {
      "deleting": false
     }
    }
   },
   "outputs": [
    {
     "data": {
      "text/plain": [
       "(array([ 0.36274543,  0.        ,  0.36274543,  0.36274543,  0.        ,\n",
       "         0.36274543,  0.36274543,  0.        ,  0.72549085,  0.36274543,\n",
       "         0.        ,  0.36274543,  0.36274543,  0.36274543,  1.08823628,\n",
       "         0.36274543,  1.4509817 ,  2.17647256,  2.17647256,  5.44118139,\n",
       "        26.11767066, 13.42158076,  3.99019968,  2.90196341,  0.72549085,\n",
       "         1.81372713,  0.36274543,  0.36274543,  0.36274543,  0.72549085,\n",
       "         0.        ,  0.        ,  0.36274543,  0.72549085,  0.36274543,\n",
       "         0.72549085,  0.        ,  0.36274543,  0.        ,  0.36274543,\n",
       "         0.        ,  0.        ,  0.        ,  0.        ,  0.        ,\n",
       "         0.        ,  0.        ,  0.        ,  0.        ,  0.36274543]),\n",
       " array([-0.29418897, -0.28005176, -0.26591456, -0.25177736, -0.23764016,\n",
       "        -0.22350296, -0.20936576, -0.19522856, -0.18109136, -0.16695415,\n",
       "        -0.15281695, -0.13867975, -0.12454255, -0.11040535, -0.09626815,\n",
       "        -0.08213095, -0.06799374, -0.05385654, -0.03971934, -0.02558214,\n",
       "        -0.01144494,  0.00269226,  0.01682946,  0.03096667,  0.04510387,\n",
       "         0.05924107,  0.07337827,  0.08751547,  0.10165267,  0.11578987,\n",
       "         0.12992707,  0.14406428,  0.15820148,  0.17233868,  0.18647588,\n",
       "         0.20061308,  0.21475028,  0.22888748,  0.24302469,  0.25716189,\n",
       "         0.27129909,  0.28543629,  0.29957349,  0.31371069,  0.32784789,\n",
       "         0.3419851 ,  0.3561223 ,  0.3702595 ,  0.3843967 ,  0.3985339 ,\n",
       "         0.4126711 ]),\n",
       " <BarContainer object of 50 artists>)"
      ]
     },
     "execution_count": 7,
     "metadata": {},
     "output_type": "execute_result"
    },
    {
     "data": {
      "image/png": "[encoded data removed]",
      "text/plain": [
       "<Figure size 1500x400 with 3 Axes>"
      ]
     },
     "metadata": {},
     "output_type": "display_data"
    }
   ],
   "source": [
    "vNorm, v2Norm, vxNorm = np.zeros(len(v)), np.zeros(len(v)), np.zeros(len(v))\n",
    "for i in range(len(v)):\n",
    "    vecT = v[i]\n",
    "    vNorm[i] = sqrt((vecT.x)**2+(vecT.y)**2)\n",
    "    v2Norm[i] = dot(vecT, vecT)\n",
    "    vxNorm[i] = vecT.x\n",
    "\n",
    "NBINS = 50\n",
    "fig, axs = plt.subplots(1, 3, figsize=(15, 4))\n",
    "axs[0].hist(vNorm, NBINS, density=True, color=\"b\", label=\"Frequency\")\n",
    "axs[1].hist(v2Norm, NBINS, density=True, color=\"b\", label=\"Frequency\")\n",
    "axs[2].hist(vxNorm, NBINS, density=True, color=\"b\", label=\"Frequency\")\n",
    "#axs.set_xlabel(\"Time between samples [ms]\")\n",
    "#axs.set_ylabel(\"Relative frequency\")\n",
    "#axs.set_title(\"Dataset\")\n",
    "#axs.legend()\n",
    "    "
   ]
  },
  {
   "cell_type": "markdown",
   "metadata": {},
   "source": [
    "**Bonus.** _(4 points)_ &mdash; Montrez que \n",
    "- (a) le théorème central limite est satisfait par une des distributions de vitesse du numéro précédent,\n",
    "- (b) le système simulé est ergodique."
   ]
  },
  {
   "cell_type": "code",
   "execution_count": null,
   "metadata": {
    "nteract": {
     "transient": {
      "deleting": false
     }
    }
   },
   "outputs": [],
   "source": [
    "# la distciubtuon de v_x suit une loi normale dont en moyenne, vx = 0\n",
    "#\n"
   ]
  },
  {
   "cell_type": "markdown",
   "metadata": {
    "jp-MarkdownHeadingCollapsed": true,
    "nteract": {
     "transient": {
      "deleting": false
     }
    }
   },
   "source": [
    "# Médiagraphie #\n",
    " - La simulation utilise la librairie <a href=\"https://vpython.org\">VPython</a> conçue pour faciliter la visualisation de physique en 3D, avec les instructions d’installation <a href=\"https://vpython.org/presentation2018/install.html\">ici</a> et la documentation <a href=\"https://www.glowscript.org/docs/VPythonDocs/index.html\">ici</a>. Le code adapte en 2D et commente en détail l’exemple <a href=\"https://www.glowscript.org/#/user/GlowScriptDemos/folder/Examples/program/HardSphereGas-VPython\">HardSphereGas-VPython</a> du site interactif <a href=\"https://www.glowscript.org\">GlowScript</a> pour programmer des animations avec VPython directement en ligne."
   ]
  }
 ],
 "metadata": {
  "kernelspec": {
   "display_name": "Python 3 (ipykernel)",
   "language": "python",
   "name": "python3"
  },
  "language_info": {
   "codemirror_mode": {
    "name": "ipython",
    "version": 3
   },
   "file_extension": ".py",
   "mimetype": "text/x-python",
   "name": "python",
   "nbconvert_exporter": "python",
   "pygments_lexer": "ipython3",
   "version": "3.10.11"
  }
 },
 "nbformat": 4,
 "nbformat_minor": 4
}
