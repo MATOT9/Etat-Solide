{
 "cells": [
  {
   "cell_type": "markdown",
   "metadata": {},
   "source": [
    "<h1 style=\"text-align:center\">Travail pratique numérique en thermodynamique statistique</h1>\n",
    "<h2 style=\"text-align:center\">PARTIE 1 : Cinétique des gaz parfaits</h2>\n",
    "\n",
    "Veuillez indiquer le nom des membres de votre équipe dans la cellule suivante."
   ]
  },
  {
   "cell_type": "markdown",
   "metadata": {},
   "source": [
    "<h1><center>Physique numérique (PHY-3500) - TP1</center></h1>\n",
    "<hr>\n",
    "<br><br>\n",
    "\n",
    "**Membres de l'équipe**\n",
    "| Nom | NI |\n",
    "| --- | :---: |\n",
    "| Maxime Tousignant-Tremblay | 536 772 369 |\n",
    "| Philippe Morin | 536 776 382 |\n",
    "| Alyx Olivier| 536 772 782 |\n",
    "| Anna-Kim Péron|  |"
   ]
  },
  {
   "cell_type": "markdown",
   "metadata": {},
   "source": [
    "# Atelier en classe : 31 janvier 2024 #\n",
    "### Discussion interdisciplinaire de sujets en probablilité & statistiques ###\n",
    "\n",
    "**Quelques fondements de mathématiques statistiques:** par exemple bien définir variables aléatoires, échantillon et population totale, estimateurs, fonction de distribution cumulative (répartition), densité de probabilité, moments, etc. - **Programme GPH**\n",
    "\n",
    "**Les distributions statistiques de particules indiscernables:** en particulier celle de Fermi-Dirac avec les notions de potentiel chimique et d’occupation des états en fonction de la température, en analogie avec le remplissage selon le principe principe d’Aufbau introduit en classe pour les atomes à température nulle. - **Programme PHY**\n",
    "\n",
    "**_Un point de bonus sera accordé à tous les étudiantes et étudiants qui participeront à l'atelier pour discuter des sujets ci-dessus et débuter le travail de la première partie ci-dessous._**"
   ]
  },
  {
   "cell_type": "markdown",
   "metadata": {
    "nteract": {
     "transient": {
      "deleting": false
     }
    }
   },
   "source": [
    "# Introduction #\n",
    "Ce travail révise d'abord quelques bases générales de mécanique statistique classique avec le script `TDS-2Dsimulation_HXX.py` qui simule la théorie cinétique des gaz parfaits en 2D. Cette simulation utilise le concept de sphères dures, mais ici pour le cas des particules d'un gaz afin d'introduire des collisions élastiques entre elles sur leurs trajectoires ballistiques. Notez qu'une sphère est colorée et grossie seulement pour l’effet visuel dans l'animation, la physique de l’algorithme codé considère bien des particules totalement identiques. Les questions sur cette simulation, à répondre directement dans les cellules du carnet _(Notebook)_ ici-même, explorent quelques paramètres de la thermodynamique statistique et introduisent de nouveaux termes utiles à l'étude de la dynamique des électrons dans la matière.\n",
    "\n",
    "_N.B._ \n",
    "- _Pour montrer les animations à l'écran, le script `TDS-2Dsimulation_HXX.py` importe la librairie `VPython` qu'il faut donc installer. Des liens vers sa documentation et de l'information complémentaire sont donnés dans la médiagraphie à la fin._\n",
    "- _Le code dans ce script est abusivement commenté dans notre contexte pédagogique, mais il serait bien sûr préférable de s’en tenir aux recommandations du <a href=\"https://www.python.org/dev/peps/pep-0008\"> PEP 8 — Style Guide for Python Code</a>._\n",
    "- _Notez finalement que la boucle principale à la fin du script laisse l'utilisateur voir l'animation aussi longtemps que souhaité, assurez-vous donc de savoir comment l'interrompre correctement avant de lancer la simulation ou de la remplacer par une boucle `for`._"
   ]
  },
  {
   "cell_type": "markdown",
   "metadata": {
    "nteract": {
     "transient": {
      "deleting": false
     }
    }
   },
   "source": [
    "# Cinétique CLASSIQUE des gaz parfaits #"
   ]
  },
  {
   "cell_type": "markdown",
   "metadata": {
    "nteract": {
     "transient": {
      "deleting": false
     }
    }
   },
   "source": [
    "### Simulation 2D ###"
   ]
  },
  {
   "cell_type": "code",
   "execution_count": 1,
   "metadata": {
    "scrolled": true
   },
   "outputs": [
    {
     "data": {
      "text/html": [
       "<div id=\"glowscript\" class=\"glowscript\"></div>"
      ],
      "text/plain": [
       "<IPython.core.display.HTML object>"
      ]
     },
     "metadata": {},
     "output_type": "display_data"
    },
    {
     "data": {
      "application/javascript": [
       "if (typeof Jupyter !== \"undefined\") { window.__context = { glowscript_container: $(\"#glowscript\").removeAttr(\"id\")};}else{ element.textContent = ' ';}"
      ],
      "text/plain": [
       "<IPython.core.display.Javascript object>"
      ]
     },
     "metadata": {},
     "output_type": "display_data"
    }
   ],
   "source": [
    "import numpy as np\n",
    "import vpython as vp\n",
    "from scipy import constants as cte\n"
   ]
  },
  {
   "cell_type": "code",
   "execution_count": 2,
   "metadata": {},
   "outputs": [],
   "source": [
    "import TDS_H24\n",
    "\n",
    "q = TDS_H24.HardSphere()\n",
    "q.run(500)\n"
   ]
  },
  {
   "cell_type": "code",
   "execution_count": null,
   "metadata": {
    "scrolled": true
   },
   "outputs": [
    {
     "data": {
      "text/html": [
       "<div id=\"glowscript\" class=\"glowscript\"></div>"
      ],
      "text/plain": [
       "<IPython.core.display.HTML object>"
      ]
     },
     "metadata": {},
     "output_type": "display_data"
    },
    {
     "data": {
      "application/javascript": [
       "if (typeof Jupyter !== \"undefined\") { window.__context = { glowscript_container: $(\"#glowscript\").removeAttr(\"id\")};}else{ element.textContent = ' ';}"
      ],
      "text/plain": [
       "<IPython.core.display.Javascript object>"
      ]
     },
     "metadata": {},
     "output_type": "display_data"
    }
   ],
   "source": [
    "%run TDS_2Dsimulation_H24.py\n"
   ]
  },
  {
   "cell_type": "markdown",
   "metadata": {},
   "source": [
    "### Questions statistiques ###"
   ]
  },
  {
   "cell_type": "markdown",
   "metadata": {},
   "source": [
    "**I.** _(3 points)_  &mdash; Utilisez la liste finale des vecteurs de quantité de mouvement $\\vec{p}$ de toutes les sphères pour trouver la moyenne de son carré $\\langle p^2\\rangle=\\langle\\vec{p}\\cdot\\vec{p}\\rangle$ et l'imprimer avec la fonction `print()` dans la cellule qui suit. "
   ]
  },
  {
   "cell_type": "code",
   "execution_count": 4,
   "metadata": {},
   "outputs": [
    {
     "name": "stdout",
     "output_type": "stream",
     "text": [
      "5.50436370352612e-47\n"
     ]
    }
   ],
   "source": [
    "# p à la fin de la simulation\n",
    "psquare_mean = np.mean([vp.mag2(atome.p) for atome in atoms])\n",
    "print(psquare_mean)"
   ]
  },
  {
   "cell_type": "markdown",
   "metadata": {},
   "source": [
    "\n",
    "**II.** _(2 points)_  &mdash; La température $T$ (macroscopique) est proportionnelle à l'énergie cinétique moyenne $E_{cin}$ de l'ensemble des particules lorsque ce système est rendu à l'équilibre. Celle-ci peut se calculer classiquement selon son <a href=\"https://fr.wikipedia.org/wiki/%C3%89quipartition_de_l%27%C3%A9nergie\">principe d'équipartition</a>, _i.e._ répartissant l'énergie également sur chaque degré de liberté ici en translation seulement, d'où au total pour $i=1,2\\text{ ou } 3$ dimensions d'espace réel\n",
    "\\begin{equation}\n",
    "E_{cin}=\\frac{\\langle p^2 \\rangle}{2m}=i\\times\\frac{1}{2}k_BT\n",
    "\\end{equation}\n",
    "avec $k_B$, la constante de Boltzmann et $m$, la masse de chaque particule. Quelle est la température du gaz de sphères dures à la fin de la simulation? Est-ce qu'elle a changé significativement par rapport à sa valeur initiale?"
   ]
  },
  {
   "cell_type": "code",
   "execution_count": 5,
   "metadata": {},
   "outputs": [
    {
     "name": "stdout",
     "output_type": "stream",
     "text": [
      "299.9999999999999 -1.1368683772161603e-13\n"
     ]
    }
   ],
   "source": [
    "def calculate_temperature(p2, m): #calcul la temperature en K en fonction de E_cin (p2 = <p^2>)\n",
    "    i = 2 #degré de liberté 2D en simulation\n",
    "    kB = cte.k #constante de Boltzman\n",
    "    T = p2/(kB*m*i)\n",
    "    return T\n",
    "\n",
    "\n",
    "mass: float = cte.value(\"alpha particle mass\")\n",
    "TEnd = calculate_temperature(psquare_mean, mass)\n",
    "print(TEnd, TEnd-300)"
   ]
  },
  {
   "cell_type": "markdown",
   "metadata": {},
   "source": [
    "On voit que la température n'a essentiellement pas changée, ce qui est logique, puisque l'énergie est directement proportionnelle à la température et que c'est un système fermé, impliquant une conservation de l'énergie."
   ]
  },
  {
   "cell_type": "markdown",
   "metadata": {
    "nteract": {
     "transient": {
      "deleting": false
     }
    }
   },
   "source": [
    "**III.** _(10 points)_ &mdash; Modifiez le code de la simulation pour ajouter une fonction qui suit la trajectoire d'UNE SEULE particule, c'est-à-dire qu'elle doit enregistrer, dans une liste, des valeurs de variables pour cette particule et ce, à chacune de ses collisions avec une autre particule (_i.e._ excluez les collisions avec les parois de la boîte). Les deux variables scalaires à lister sont:\n",
    "- la distance que la particule a parcouru entre chaque collision,\n",
    "- le temps écoulé entre ces collisions.\n",
    "\n",
    "Copiez le code de votre fonction dans la cellule qui suit en y commentant clairement les variables pour ces listes qui devront persister après avoir interrompu l'exécution de la simulation. N'oubliez pas d'inclure votre fichier Python (`.py`) modifié avec la simulation complète lors de la remise."
   ]
  },
  {
   "cell_type": "code",
   "execution_count": 6,
   "metadata": {
    "nteract": {
     "transient": {
      "deleting": false
     }
    }
   },
   "outputs": [
    {
     "name": "stdout",
     "output_type": "stream",
     "text": [
      "Distance et temps parcourrue par l'atome 106. \n",
      "\n",
      "Distances: ['0.22545', '0.027391', '0.099256', '0.02899', '0.031154', '0.26836', '0.018359', '0.002564', '0.0247', '0.018768', '0.033379', '0.051671', '0.12654', '0.075164', '0.18138', '0.014233', '0.43235', '0.014182', '0.054307', '0.0055873', '0.040557', '0.040669', '0.081237', '0.030559', '0.069619', '0.029169', '0.0084841', '0.050436', '0.171', '0.015675', '0.16243', '0.049089', '0.0049089', '0.087045', '0.066142', '0.11006', '0.017622', '0.018407', '0.036597', '0.024528', '0.012962', '0.21612', '0.091176', '0.10633', '0.072307', '0.058023', '0.013366', '0.0066938', '0.28566', '0.042156', '0.099107', '0.086536', '0.010455', '0.027514', '0.0093242', '0.098631', '0.28777', '0.052578', '0.057958', '0.017777', '0.056682', '0.0069155', '0.0081731', '0.021174', '0.021734', '0.17981', '0.01856', '0.033918', '0.021132', '0.020944', '0.24195', '0.089755', '0.14372', '0.22717', '0.094253', '0.29657', '0.068483', '0.1665', '0.0097517', '0.069922', '0.02535', '0.046091', '0.032288', '0.021536', '0.083966', '0.092394', '0.031873', '0.014076', '0.011226', '0.035874', '0.068329', '0.027875', '0.20911', '0.047463', '0.033304', '0.011763', '0.016199', '0.081746', '0.027908', '0.020774', '0.069798', '0.1052', '0.058198', '0.16493', '0.064495', '0.074316', '0.012193', '0.072292', '0.022531', '0.020045', '0.051459', '0.05939', '0.10256', '0.06392', '0.33961', '0.0022702', '0.0012272', '0.056252', '0.029948', '0.076131', '0.020033', '0.054322', '0.11494', '0.1833'].\n",
      "\n",
      "Temps: ['0.0002', '1e-05', '0.00011', '5e-05', '6e-05', '0.00014', '1e-05', '1e-05', '0.00012', '5e-05', '3e-05', '6e-05', '0.00019', '6e-05', '0.00012', '1e-05', '0.00039', '6e-05', '7e-05', '1e-05', '3e-05', '3e-05', '6e-05', '5e-05', '0.00019', '0.0001', '5e-05', '8e-05', '0.0001', '1e-05', '0.00017', '0.0001', '1e-05', '0.00018', '7e-05', '0.00011', '2e-05', '4e-05', '3e-05', '2e-05', '1e-05', '0.00064', '0.00011', '0.00014', '7e-05', '5e-05', '5e-05', '1e-05', '0.00047', '3e-05', '5e-05', '4e-05', '8e-05', '4e-05', '1e-05', '8e-05', '0.00024', '9e-05', '6e-05', '1e-05', '0.0001', '1e-05', '1e-05', '1e-05', '1e-05', '0.0001', '2e-05', '0.0001', '1e-05', '2e-05', '0.00024', '9e-05', '9e-05', '0.00024', '6e-05', '0.00022', '7e-05', '0.00015', '1e-05', '0.0001', '3e-05', '3e-05', '2e-05', '1e-05', '7e-05', '8e-05', '7e-05', '2e-05', '1e-05', '1e-05', '4e-05', '2e-05', '0.00014', '4e-05', '8e-05', '2e-05', '2e-05', '9e-05', '3e-05', '2e-05', '6e-05', '9e-05', '6e-05', '0.00034', '4e-05', '7e-05', '3e-05', '0.0001', '0.00012', '6e-05', '0.00014', '4e-05', '7e-05', '4e-05', '0.00032', '1e-05', '2e-05', '4e-05', '5e-05', '8e-05', '1e-05', '4e-05', '8e-05', '9e-05']\n"
     ]
    }
   ],
   "source": [
    "# Il faut initier les valeur analyseSphere, accuTime, accuDist, timeCollision et distanceCollision en début de code\n",
    "# Ces même valeur restent ensuite \n",
    "# Dans la boucle temporelle, on fait un check si analseSphere est dans hitlist, détermine si collison True or False\n",
    "\"\"\"\n",
    "def trackingParticule(sphere: int, List: list[list[int]], count: int):\n",
    "    # Fonction ajoutée pour track la particule\n",
    "    # Liste de tous les index des sphères en collision\n",
    "    collisions: list[int] = []\n",
    "    [collisions.extend(elem) for elem in List]\n",
    "\n",
    "    # Ajoute le temps écoulé et la distance parcourue pendant le temps dt\n",
    "    # au total depuis la dernière collision\n",
    "    timeCollision[-1] += dt\n",
    "    \n",
    "    varX = histPosSphereX[count] - histPosSphereX[count - 1]\n",
    "    varY = histPosSphereY[count] - histPosSphereY[count - 1]\n",
    "    xCollision[-1] += varX\n",
    "    yCollision[-1] += varY\n",
    "    distanceCollision[-1] += np.sqrt(varX**2+varY**2)\n",
    "\n",
    "    # Si la sphère subit une collision, passer à la prochaine valeur\n",
    "    # de temps et de distance entre collisions\n",
    "    if sphere in collisions:\n",
    "        xCollision.append(0)\n",
    "        yCollision.append(0)\n",
    "        distanceCollision.append(0)\n",
    "        timeCollision.append(0)\n",
    "\"\"\"\n",
    "dOutput = [f\"{float(elem):.5}\" for elem in dScalaire]\n",
    "tOutput = [f\"{float(elem):.5}\" for elem in tCollision]\n",
    "print(f\"Distance et temps parcourrue par l'atome {analyseSphere}. \\n\\nDistances: {dOutput}.\\n\\nTemps: {tOutput}\")\n"
   ]
  },
  {
   "cell_type": "markdown",
   "metadata": {
    "nteract": {
     "transient": {
      "deleting": false
     }
    }
   },
   "source": [
    "**IV.** _(2 points)_ &mdash; Calculez le **libre parcours moyen** $l_{moy}$ et le **temps de collision** $\\tau$ qui sont les valeurs moyennes des deux listes compilées au numéro précédent.\n",
    "\n",
    "_(Pour votre information, le libre parcours moyen est de l’ordre de 100 nm dans l'air à température et pression ambiantes, mais_ $l_{moy}$ _peut dépasser 100 000 km dans une enceinte sous vide avec les technologies de pompes modernes!)_\n",
    "\n"
   ]
  },
  {
   "cell_type": "code",
   "execution_count": 7,
   "metadata": {
    "nteract": {
     "transient": {
      "deleting": false
     }
    }
   },
   "outputs": [
    {
     "name": "stdout",
     "output_type": "stream",
     "text": [
      "0.073033, 8.0645e-05\n"
     ]
    }
   ],
   "source": [
    "lmoy = np.mean(dScalaire) #m\n",
    "tau = np.mean(tCollision) #s\n",
    "print(f\"{lmoy:.5}, {tau:.5}\")"
   ]
  },
  {
   "cell_type": "markdown",
   "metadata": {
    "nteract": {
     "transient": {
      "deleting": false
     }
    }
   },
   "source": [
    "**V.** _(2 points)_ Calculez la vitesse $\\vec{v}$ de la particule entre chaque paire de collisions. Quelle est la vitesse moyenne $\\langle\\vec{v}\\rangle$ de la particule?"
   ]
  },
  {
   "cell_type": "code",
   "execution_count": 8,
   "metadata": {
    "nteract": {
     "transient": {
      "deleting": false
     }
    }
   },
   "outputs": [
    {
     "name": "stdout",
     "output_type": "stream",
     "text": [
      "[<-474.112, -1016.3, 0>, <696.471, 2649.04, 0>, <-165.09, 881.16, 0>, <-475.689, 331.068, 0>, <222.424, -436.044, 0>, <816.928, -258.775, 0>, <-1835.88, -7.70534, 0>, <-152.116, -206.396, 0>, <200.911, -7.26967, 0>, <153.816, -297.201, 0>, <-599.982, -936.86, 0>, <-385.566, -769.203, 0>, <-387.409, -494.506, 0>, <-808.619, 956.798, 0>, <1111.89, -1003.42, 0>, <1405.99, -221.269, 0>, <-654.52, 409.857, 0>, <177.506, -145.182, 0>, <139.808, 762.949, 0>, <-450.445, 330.572, 0>, <-560.44, -1230.26, 0>, <-563.422, -1233.01, 0>, <-612.235, -1205.87, 0>, <12.4085, -601.171, 0>, <-327.305, -163.622, 0>, <-203.382, -209.059, 0>, <-90.4049, 143.04, 0>, <559.078, -253.475, 0>, <807.924, 1486.46, 0>, <-158.364, 1559.51, 0>, <914.97, 271.258, 0>, <368.879, -323.891, 0>, <368.879, -323.891, 0>, <357.115, -323.847, 0>, <-890.799, -314.564, 0>, <-956.222, -291.587, 0>, <-810.952, -340.181, 0>, <-381.407, 257.199, 0>, <-1005.51, 684.185, 0>, <-1012.97, 672.102, 0>, <1262.37, -294.264, 0>, <244.751, 227, 0>, <-796.75, 227.391, 0>, <-321.084, 688.101, 0>, <-571.661, 859.67, 0>, <-723.596, 904.794, 0>, <53.1081, 261.987, 0>, <509.032, -434.689, 0>, <-244.708, -548.522, 0>, <-1386.58, -213.674, 0>, <-1776.94, 873.464, 0>, <-1386.93, 1660.32, 0>, <-52.7949, -71.7963, 0>, <-521.28, 448.783, 0>, <62.8551, -930.296, 0>, <-581.203, -1085.77, 0>, <-231.174, -1158.83, 0>, <-581.394, 37.2353, 0>, <882.8, 387.705, 0>, <-1664.58, -624.01, 0>, <-556.222, -109.087, 0>, <-570.066, -391.488, 0>, <-269.359, -771.644, 0>, <1150.63, 1777.49, 0>, <1833.18, -1167.5, 0>, <1532.84, -939.124, 0>, <498.241, 782.161, 0>, <249.839, 229.391, 0>, <-154.284, 2107.56, 0>, <-77.0136, 1035.26, 0>, <-1004.29, -25.7259, 0>, <-691.977, -710.979, 0>, <-527.76, -1499.85, 0>, <705.748, -548.957, 0>, <534.43, 1476.37, 0>, <848.25, 1047.32, 0>, <963.494, -168.051, 0>, <1074.67, -276.17, 0>, <897.384, -381.663, 0>, <-98.7484, -685.36, 0>, <-708.048, -459.192, 0>, <1209.42, -942.069, 0>, <101.732, -1610.99, 0>, <180.591, -2146.02, 0>, <799.421, -894.297, 0>, <780.248, -850.411, 0>, <436.912, -127.74, 0>, <-19.9224, -630.252, 0>, <-280.24, -1087.02, 0>, <2159.96, -2864.27, 0>, <656.149, 654.484, 0>, <982.383, 842.473, 0>, <509.912, 1403.53, 0>, <-418.463, 1107.66, 0>, <-263.009, 322.591, 0>, <-134.414, 572.58, 0>, <-334.013, 727.92, 0>, <-478.066, 756.021, 0>, <-881.569, -294.008, 0>, <-852.121, -573.742, 0>, <-711.134, -912.943, 0>, <73.9996, -1161.97, 0>, <-259.136, -920.757, 0>, <201.824, -438.845, 0>, <-191.818, -496.653, 0>, <-940.265, 154.869, 0>, <-17.0523, -296.068, 0>, <708.511, 136.435, 0>, <-71.8949, -168.794, 0>, <163.437, 190.396, 0>, <296.896, 191.931, 0>, <-534.152, 1378.99, 0>, <-870.01, 1178.51, 0>, <-1343.57, 861.386, 0>, <-359.366, 997.97, 0>, <-203.574, -100.471, 0>, <19.3671, -43.5806, 0>, <92.4439, 1402.64, 0>, <527.568, 233.558, 0>, <517.411, 798.59, 0>, <-1990.69, 224.795, 0>, <-1058.78, 846.141, 0>, <-998.285, -1030.03, 0>, <-1718.03, -1093.82, 0>]\n",
      "<v> = <-57.7832, -37.9735, 0>\n",
      "sqrt(<v^2>) = 905.6064473806007\n"
     ]
    }
   ],
   "source": [
    "vVec = [d/t for d, t in zip(dVec, tCollision)]\n",
    "vMoy = sum(dVec, vp.vector(0, 0, 0)) / (dt*timeLoopLen)\n",
    "\n",
    "print(vVec)\n",
    "print(f\"<v> = {vMoy}\")\n",
    "print(f\"sqrt(<v^2>) = {lmoy/tau}\")"
   ]
  },
  {
   "cell_type": "markdown",
   "metadata": {
    "nteract": {
     "transient": {
      "deleting": false
     }
    }
   },
   "source": [
    "**VI.** _(5 points)_ &mdash; Pour cette même liste de vitesses, comparez les distributions de la norme $||\\vec{v}||$, du carré $v^2$ et d’une de ses composantes $v_x^2$ en étalonnant l’abscisse pour contraster les histogrammes avec une échelle appropriée. Indiquez sur ce graphique la moyenne, le mode, la médiane et la moyenne quadratique des distributions."
   ]
  },
  {
   "cell_type": "code",
   "execution_count": 9,
   "metadata": {
    "nteract": {
     "transient": {
      "deleting": false
     }
    }
   },
   "outputs": [
    {
     "data": {
      "text/plain": [
       "<matplotlib.legend.Legend at 0x7f6503ff7e90>"
      ]
     },
     "execution_count": 9,
     "metadata": {},
     "output_type": "execute_result"
    },
    {
     "data": {
      "image/png": "[encoded data removed]",
      "text/plain": [
       "<Figure size 1500x400 with 3 Axes>"
      ]
     },
     "metadata": {},
     "output_type": "display_data"
    }
   ],
   "source": [
    "import matplotlib.pyplot as plt\n",
    "%matplotlib inline\n",
    "\n",
    "vNorm = [vp.mag(v) for v in vVec]\n",
    "v2Norm = [vp.mag2(v) for v in vVec]\n",
    "vxNorm = [v.x**2 for v in vVec]\n",
    "\n",
    "NBINS = 50\n",
    "fig, axs = plt.subplots(1, 3, figsize=(15, 4))\n",
    "axs[0].hist(vNorm, NBINS, density=True, color=\"b\", label=\"Frequency\")\n",
    "axs[1].hist(v2Norm, NBINS, density=True, color=\"b\", label=\"Frequency\")\n",
    "axs[2].hist(vxNorm, NBINS, density=True, color=\"b\", label=\"Frequency\")\n",
    "axs[0].set_xlabel(r\"$|\\mathbf{v}|$\")\n",
    "axs[1].set_xlabel(r\"$\\mathbf{v}^2$\")\n",
    "axs[2].set_xlabel(r\"$\\mathbf{v}_x^2$\")\n",
    "[axs[i].set_ylabel(\"Fréquence relative\") for i in range(2)]\n",
    "#axs[0].set_title(\"Dataset\")\n",
    "axs[0].legend()"
   ]
  },
  {
   "cell_type": "markdown",
   "metadata": {},
   "source": [
    "**Bonus.** _(4 points)_ &mdash; Montrez que \n",
    "- (a) le théorème central limite est satisfait par une des distributions de vitesse du numéro précédent,\n",
    "- (b) le système simulé est ergodique."
   ]
  },
  {
   "cell_type": "code",
   "execution_count": 10,
   "metadata": {
    "nteract": {
     "transient": {
      "deleting": false
     }
    }
   },
   "outputs": [],
   "source": [
    "# la distciubtuon de v_x suit une loi normale dont en moyenne, vx = 0\n",
    "#\n"
   ]
  },
  {
   "cell_type": "markdown",
   "metadata": {
    "jp-MarkdownHeadingCollapsed": true,
    "nteract": {
     "transient": {
      "deleting": false
     }
    }
   },
   "source": [
    "# Médiagraphie #\n",
    " - La simulation utilise la librairie <a href=\"https://vpython.org\">VPython</a> conçue pour faciliter la visualisation de physique en 3D, avec les instructions d’installation <a href=\"https://vpython.org/presentation2018/install.html\">ici</a> et la documentation <a href=\"https://www.glowscript.org/docs/VPythonDocs/index.html\">ici</a>. Le code adapte en 2D et commente en détail l’exemple <a href=\"https://www.glowscript.org/#/user/GlowScriptDemos/folder/Examples/program/HardSphereGas-VPython\">HardSphereGas-VPython</a> du site interactif <a href=\"https://www.glowscript.org\">GlowScript</a> pour programmer des animations avec VPython directement en ligne."
   ]
  }
 ],
 "metadata": {
  "kernelspec": {
   "display_name": "Python 3 (ipykernel)",
   "language": "python",
   "name": "python3"
  },
  "language_info": {
   "codemirror_mode": {
    "name": "ipython",
    "version": 3
   },
   "file_extension": ".py",
   "mimetype": "text/x-python",
   "name": "python",
   "nbconvert_exporter": "python",
   "pygments_lexer": "ipython3",
   "version": "3.11.8"
  }
 },
 "nbformat": 4,
 "nbformat_minor": 4
}
