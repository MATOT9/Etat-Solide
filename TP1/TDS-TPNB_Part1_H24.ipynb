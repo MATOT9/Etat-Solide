{
 "cells": [
  {
   "cell_type": "markdown",
   "metadata": {},
   "source": [
    "<h1 style=\"text-align:center\">Travail pratique numérique en thermodynamique statistique</h1>\n",
    "<h2 style=\"text-align:center\">PARTIE 1 : Cinétique des gaz parfaits</h2>\n",
    "\n",
    "Veuillez indiquer le nom des membres de votre équipe dans la cellule suivante."
   ]
  },
  {
   "cell_type": "markdown",
   "metadata": {},
   "source": [
    "<h1><center>Physique numérique (PHY-3500) - TP1</center></h1>\n",
    "<hr>\n",
    "<br><br>\n",
    "\n",
    "**Membres de l'équipe**\n",
    "| Nom | NI |\n",
    "| --- | :---: |\n",
    "| Maxime Tousignant-Tremblay | 536 772 369 |\n",
    "| Philippe Morin | 536 776 382 |\n",
    "| Alyx Olivier| 536 772 782 |\n",
    "| Anna-Kim Péron| 536 852 157 |"
   ]
  },
  {
   "cell_type": "markdown",
   "metadata": {},
   "source": [
    "# Atelier en classe : 31 janvier 2024 #\n",
    "### Discussion interdisciplinaire de sujets en probablilité & statistiques ###\n",
    "\n",
    "**Quelques fondements de mathématiques statistiques:** par exemple bien définir variables aléatoires, échantillon et population totale, estimateurs, fonction de distribution cumulative (répartition), densité de probabilité, moments, etc. - **Programme GPH**\n",
    "\n",
    "**Les distributions statistiques de particules indiscernables:** en particulier celle de Fermi-Dirac avec les notions de potentiel chimique et d’occupation des états en fonction de la température, en analogie avec le remplissage selon le principe principe d’Aufbau introduit en classe pour les atomes à température nulle. - **Programme PHY**\n",
    "\n",
    "**_Un point de bonus sera accordé à tous les étudiantes et étudiants qui participeront à l'atelier pour discuter des sujets ci-dessus et débuter le travail de la première partie ci-dessous._**"
   ]
  },
  {
   "cell_type": "markdown",
   "metadata": {
    "nteract": {
     "transient": {
      "deleting": false
     }
    }
   },
   "source": [
    "# Introduction #\n",
    "Ce travail révise d'abord quelques bases générales de mécanique statistique classique avec le script `TDS-2Dsimulation_HXX.py` qui simule la théorie cinétique des gaz parfaits en 2D. Cette simulation utilise le concept de sphères dures, mais ici pour le cas des particules d'un gaz afin d'introduire des collisions élastiques entre elles sur leurs trajectoires ballistiques. Notez qu'une sphère est colorée et grossie seulement pour l’effet visuel dans l'animation, la physique de l’algorithme codé considère bien des particules totalement identiques. Les questions sur cette simulation, à répondre directement dans les cellules du carnet _(Notebook)_ ici-même, explorent quelques paramètres de la thermodynamique statistique et introduisent de nouveaux termes utiles à l'étude de la dynamique des électrons dans la matière.\n",
    "\n",
    "_N.B._ \n",
    "- _Pour montrer les animations à l'écran, le script `TDS-2Dsimulation_HXX.py` importe la librairie `VPython` qu'il faut donc installer. Des liens vers sa documentation et de l'information complémentaire sont donnés dans la médiagraphie à la fin._\n",
    "- _Le code dans ce script est abusivement commenté dans notre contexte pédagogique, mais il serait bien sûr préférable de s’en tenir aux recommandations du <a href=\"https://www.python.org/dev/peps/pep-0008\"> PEP 8 — Style Guide for Python Code</a>._\n",
    "- _Notez finalement que la boucle principale à la fin du script laisse l'utilisateur voir l'animation aussi longtemps que souhaité, assurez-vous donc de savoir comment l'interrompre correctement avant de lancer la simulation ou de la remplacer par une boucle `for`._"
   ]
  },
  {
   "cell_type": "markdown",
   "metadata": {
    "nteract": {
     "transient": {
      "deleting": false
     }
    }
   },
   "source": [
    "# Cinétique CLASSIQUE des gaz parfaits #"
   ]
  },
  {
   "cell_type": "markdown",
   "metadata": {
    "nteract": {
     "transient": {
      "deleting": false
     }
    }
   },
   "source": [
    "### Simulation 2D ###"
   ]
  },
  {
   "cell_type": "code",
   "execution_count": 1,
   "metadata": {
    "scrolled": true
   },
   "outputs": [
    {
     "data": {
      "text/html": [
       "<div id=\"glowscript\" class=\"glowscript\"></div>"
      ],
      "text/plain": [
       "<IPython.core.display.HTML object>"
      ]
     },
     "metadata": {},
     "output_type": "display_data"
    },
    {
     "data": {
      "application/javascript": [
       "if (typeof Jupyter !== \"undefined\") { window.__context = { glowscript_container: $(\"#glowscript\").removeAttr(\"id\")};}else{ element.textContent = ' ';}"
      ],
      "text/plain": [
       "<IPython.core.display.Javascript object>"
      ]
     },
     "metadata": {},
     "output_type": "display_data"
    }
   ],
   "source": [
    "import numpy as np\n",
    "import vpython as vp\n",
    "from scipy import constants as cte\n"
   ]
  },
  {
   "cell_type": "code",
   "execution_count": 2,
   "metadata": {
    "scrolled": true
   },
   "outputs": [
    {
     "data": {
      "text/html": [
       "<div id=\"glowscript\" class=\"glowscript\"></div>"
      ],
      "text/plain": [
       "<IPython.core.display.HTML object>"
      ]
     },
     "metadata": {},
     "output_type": "display_data"
    },
    {
     "data": {
      "application/javascript": [
       "if (typeof Jupyter !== \"undefined\") { window.__context = { glowscript_container: $(\"#glowscript\").removeAttr(\"id\")};}else{ element.textContent = ' ';}"
      ],
      "text/plain": [
       "<IPython.core.display.Javascript object>"
      ]
     },
     "metadata": {},
     "output_type": "display_data"
    },
    {
     "data": {
      "application/javascript": [
       "if (typeof Jupyter !== \"undefined\") {require.undef(\"nbextensions/vpython_libraries/glow.min\");}else{element.textContent = ' ';}"
      ],
      "text/plain": [
       "<IPython.core.display.Javascript object>"
      ]
     },
     "metadata": {},
     "output_type": "display_data"
    },
    {
     "data": {
      "application/javascript": [
       "if (typeof Jupyter !== \"undefined\") {require.undef(\"nbextensions/vpython_libraries/glowcomm\");}else{element.textContent = ' ';}"
      ],
      "text/plain": [
       "<IPython.core.display.Javascript object>"
      ]
     },
     "metadata": {},
     "output_type": "display_data"
    },
    {
     "data": {
      "application/javascript": [
       "if (typeof Jupyter !== \"undefined\") {require.undef(\"nbextensions/vpython_libraries/jquery-ui.custom.min\");}else{element.textContent = ' ';}"
      ],
      "text/plain": [
       "<IPython.core.display.Javascript object>"
      ]
     },
     "metadata": {},
     "output_type": "display_data"
    },
    {
     "data": {
      "application/javascript": [
       "if (typeof Jupyter !== \"undefined\") {require([\"nbextensions/vpython_libraries/glow.min\"], function(){console.log(\"GLOW LOADED\");});}else{element.textContent = ' ';}"
      ],
      "text/plain": [
       "<IPython.core.display.Javascript object>"
      ]
     },
     "metadata": {},
     "output_type": "display_data"
    },
    {
     "data": {
      "application/javascript": [
       "if (typeof Jupyter !== \"undefined\") {require([\"nbextensions/vpython_libraries/glowcomm\"], function(){console.log(\"GLOWCOMM LOADED\");});}else{element.textContent = ' ';}"
      ],
      "text/plain": [
       "<IPython.core.display.Javascript object>"
      ]
     },
     "metadata": {},
     "output_type": "display_data"
    },
    {
     "data": {
      "application/javascript": [
       "if (typeof Jupyter !== \"undefined\") {require([\"nbextensions/vpython_libraries/jquery-ui.custom.min\"], function(){console.log(\"JQUERY LOADED\");});}else{element.textContent = ' ';}"
      ],
      "text/plain": [
       "<IPython.core.display.Javascript object>"
      ]
     },
     "metadata": {},
     "output_type": "display_data"
    }
   ],
   "source": [
    "# codes recquis pour faire rouler la simulation (TDS_2Dsimulation_H24.py et Particules.py)\n",
    "%run TDS_2Dsimulation_H24.py 1000\n",
    "\n",
    "#(pour faire rouler la simulation sans vpython,)\n",
    "#import TDS_H24_novpython as tds\n",
    "\n",
    "#hs = tds.HardSphere()\n",
    "# hs.p # get momentum\n",
    "# hs.p2  # get p^2\n",
    "# hs.vel # get particles velocity\n",
    "#hs.run() # run simulation"
   ]
  },
  {
   "cell_type": "markdown",
   "metadata": {},
   "source": [
    "### Questions statistiques ###"
   ]
  },
  {
   "cell_type": "markdown",
   "metadata": {},
   "source": [
    "**I.** _(3 points)_  &mdash; Utilisez la liste finale des vecteurs de quantité de mouvement $\\vec{p}$ de toutes les sphères pour trouver la moyenne de son carré $\\langle p^2\\rangle=\\langle\\vec{p}\\cdot\\vec{p}\\rangle$ et l'imprimer avec la fonction `print()` dans la cellule qui suit. "
   ]
  },
  {
   "cell_type": "code",
   "execution_count": 3,
   "metadata": {},
   "outputs": [
    {
     "name": "stdout",
     "output_type": "stream",
     "text": [
      "5.504363703526121e-47\n"
     ]
    }
   ],
   "source": [
    "# p à la fin de la simulation\n",
    "psquare_mean = np.mean([vp.mag2(atome.p) for atome in atoms])\n",
    "print(psquare_mean)"
   ]
  },
  {
   "cell_type": "markdown",
   "metadata": {},
   "source": [
    "\n",
    "**II.** _(2 points)_  &mdash; La température $T$ (macroscopique) est proportionnelle à l'énergie cinétique moyenne $E_{cin}$ de l'ensemble des particules lorsque ce système est rendu à l'équilibre. Celle-ci peut se calculer classiquement selon son <a href=\"https://fr.wikipedia.org/wiki/%C3%89quipartition_de_l%27%C3%A9nergie\">principe d'équipartition</a>, _i.e._ répartissant l'énergie également sur chaque degré de liberté ici en translation seulement, d'où au total pour $i=1,2\\text{ ou } 3$ dimensions d'espace réel\n",
    "\\begin{equation}\n",
    "E_{cin}=\\frac{\\langle p^2 \\rangle}{2m}=i\\times\\frac{1}{2}k_BT\n",
    "\\end{equation}\n",
    "avec $k_B$, la constante de Boltzmann et $m$, la masse de chaque particule. Quelle est la température du gaz de sphères dures à la fin de la simulation? Est-ce qu'elle a changé significativement par rapport à sa valeur initiale?"
   ]
  },
  {
   "cell_type": "code",
   "execution_count": 4,
   "metadata": {},
   "outputs": [
    {
     "name": "stdout",
     "output_type": "stream",
     "text": [
      "299.99999999999994 -5.684341886080802e-14\n"
     ]
    }
   ],
   "source": [
    "def calculate_temperature(p2, m): #calcul la temperature en K en fonction de E_cin (p2 = <p^2>)\n",
    "    i = 2 #degré de liberté 2D en simulation\n",
    "    kB = cte.k #constante de Boltzman\n",
    "    T = p2/(kB*m*i)\n",
    "    return T\n",
    "\n",
    "\n",
    "mass: float = cte.value(\"alpha particle mass\")\n",
    "TEnd = calculate_temperature(psquare_mean, mass)\n",
    "print(TEnd, TEnd-300)"
   ]
  },
  {
   "cell_type": "markdown",
   "metadata": {},
   "source": [
    "On voit que la température n'a essentiellement pas changée, ce qui est logique, puisque l'énergie est directement proportionnelle à la température et que c'est un système fermé, impliquant une conservation de l'énergie."
   ]
  },
  {
   "cell_type": "markdown",
   "metadata": {
    "nteract": {
     "transient": {
      "deleting": false
     }
    }
   },
   "source": [
    "**III.** _(10 points)_ &mdash; Modifiez le code de la simulation pour ajouter une fonction qui suit la trajectoire d'UNE SEULE particule, c'est-à-dire qu'elle doit enregistrer, dans une liste, des valeurs de variables pour cette particule et ce, à chacune de ses collisions avec une autre particule (_i.e._ excluez les collisions avec les parois de la boîte). Les deux variables scalaires à lister sont:\n",
    "- la distance que la particule a parcouru entre chaque collision,\n",
    "- le temps écoulé entre ces collisions.\n",
    "\n",
    "Copiez le code de votre fonction dans la cellule qui suit en y commentant clairement les variables pour ces listes qui devront persister après avoir interrompu l'exécution de la simulation. N'oubliez pas d'inclure votre fichier Python (`.py`) modifié avec la simulation complète lors de la remise."
   ]
  },
  {
   "cell_type": "code",
   "execution_count": 5,
   "metadata": {
    "nteract": {
     "transient": {
      "deleting": false
     }
    }
   },
   "outputs": [
    {
     "name": "stdout",
     "output_type": "stream",
     "text": [
      "Distance et temps parcourrue par l'atome 106. \n",
      "\n",
      "Distances: ['0.2363', '0.015231', '0.078878', '0.25637', '0.02409', '0.24469', '0.0034333', '0.026059', '0.03974', '0.17694', '0.25707', '0.094922', '0.015001', '0.032533', '0.021666', '0.030897', '0.021156', '0.040078', '0.055136', '0.033007', '0.016181', '0.21384', '0.10144', '0.34062', '0.10188', '0.37481', '0.11702', '0.10933', '0.043918', '0.037842', '0.10701', '0.14481', '0.20651', '0.028505', '0.1967', '0.0073879', '0.17193', '0.10844', '0.062561', '0.083556', '0.031002', '0.12947', '0.037608', '0.012313', '0.090711', '0.066805', '0.11454', '0.082621', '0.030295', '0.085738', '0.023798', '0.054467', '0.0032286', '0.029308', '0.012845', '0.018271', '0.0063536', '0.1561', '0.082731', '0.51559', '0.068652', '0.052636', '0.0055284', '0.0029268', '0.036938', '0.093733', '0.016758', '0.097166', '0.086585', '0.018719', '0.028723', '0.20396', '0.30129', '0.013398', '0.047775', '0.021497', '0.15684', '0.39447', '0.0067994', '0.16343', '0.19828', '0.091843', '0.021129', '0.054744', '0.078721', '0.039662', '0.080475', '0.12967', '0.030982', '0.23864', '0.0046511', '0.10863', '0.24803', '0.0719', '0.062832', '0.039885', '0.13942', '0.029853', '0.032749', '0.015383', '0.0'].\n",
      "\n",
      "Temps: ['0.00021', '1e-05', '4e-05', '0.0003', '3e-05', '0.00025', '1e-05', '8e-05', '6e-05', '0.00024', '0.00015', '5e-05', '1e-05', '9e-05', '0.00018', '1e-05', '2e-05', '4e-05', '6e-05', '5e-05', '0.0002', '0.00018', '8e-05', '0.00019', '0.00013', '0.00033', '7e-05', '0.00022', '7e-05', '3e-05', '0.00018', '0.00016', '0.00012', '6e-05', '0.00012', '1e-05', '0.00014', '9e-05', '5e-05', '0.00045', '2e-05', '8e-05', '8e-05', '1e-05', '8e-05', '6e-05', '9e-05', '6e-05', '7e-05', '0.00011', '3e-05', '7e-05', '1e-05', '6e-05', '1e-05', '1e-05', '1e-05', '9e-05', '7e-05', '0.00028', '7e-05', '5e-05', '1e-05', '1e-05', '6e-05', '0.00012', '1e-05', '6e-05', '7e-05', '3e-05', '5e-05', '0.00014', '0.00022', '1e-05', '7e-05', '3e-05', '0.00018', '0.0007', '1e-05', '0.00024', '0.00022', '0.00012', '4e-05', '8e-05', '0.0001', '3e-05', '6e-05', '8e-05', '2e-05', '0.00038', '1e-05', '7e-05', '0.00015', '7e-05', '9e-05', '5e-05', '0.00014', '6e-05', '1e-05', '1e-05', '0.0']\n"
     ]
    }
   ],
   "source": [
    "#Code repris du script TDS_2Dsimulation_H24.py, car génère par défaut les objets nécessaires\n",
    "\"\"\"\n",
    "# Met à jour la liste des variables à suivre\n",
    "# Unpack les paires de collisions\n",
    "collisions: list[int] = []\n",
    "[collisions.extend(paire) for paire in hitlist]\n",
    "\n",
    "# Calcule le déplacement de analyseSphere et met à jour\n",
    "# lastPos pour l'utiliser à la prochaine itération\n",
    "deplacementVec: vp.vector = atoms[analyseSphere].pos - lastPos\n",
    "deplacementScalaire: float = vp.mag(deplacementVec)\n",
    "lastPos = atoms[analyseSphere].pos\n",
    "\n",
    "# Ajoute le temps écoulé et la distance parcourue pendant le temps dt\n",
    "# au total depuis la dernière collision\n",
    "dVec[-1] += deplacementVec\n",
    "dScalaire[-1] += deplacementScalaire\n",
    "tCollision[-1] += dt\n",
    "\n",
    "# Si la sphère est impliquée dans une collision, passer à la prochaine\n",
    "# valeur de temps et de distance entre collisions\n",
    "if analyseSphere in collisions:\n",
    "    dVec.append(vp.vector(0, 0, 0))\n",
    "    dScalaire.append(0)\n",
    "    tCollision.append(0)\n",
    "\"\"\"\n",
    "dOutput = [f\"{float(elem):.5}\" for elem in dScalaire]\n",
    "tOutput = [f\"{float(elem):.5}\" for elem in tCollision]\n",
    "print(f\"Distance et temps parcourrue par l'atome {analyseSphere}. \\n\\nDistances: {dOutput}.\\n\\nTemps: {tOutput}\")\n"
   ]
  },
  {
   "cell_type": "markdown",
   "metadata": {
    "nteract": {
     "transient": {
      "deleting": false
     }
    }
   },
   "source": [
    "**IV.** _(2 points)_ &mdash; Calculez le **libre parcours moyen** $l_{moy}$ et le **temps de collision** $\\tau$ qui sont les valeurs moyennes des deux listes compilées au numéro précédent.\n",
    "\n",
    "_(Pour votre information, le libre parcours moyen est de l’ordre de 100 nm dans l'air à température et pression ambiantes, mais_ $l_{moy}$ _peut dépasser 100 000 km dans une enceinte sous vide avec les technologies de pompes modernes!)_\n",
    "\n"
   ]
  },
  {
   "cell_type": "code",
   "execution_count": 6,
   "metadata": {
    "nteract": {
     "transient": {
      "deleting": false
     }
    }
   },
   "outputs": [
    {
     "name": "stdout",
     "output_type": "stream",
     "text": [
      "0.093035, 9.901e-05\n"
     ]
    }
   ],
   "source": [
    "lmoy = deepcopy(np.mean(dScalaire)) #m\n",
    "tau = deepcopy(np.mean(tCollision)) #s\n",
    "print(f\"{lmoy:.5}, {tau:.5}\")"
   ]
  },
  {
   "cell_type": "markdown",
   "metadata": {
    "nteract": {
     "transient": {
      "deleting": false
     }
    }
   },
   "source": [
    "**V.** _(2 points)_ Calculez la vitesse $\\vec{v}$ de la particule entre chaque paire de collisions. Quelle est la vitesse moyenne $\\langle\\vec{v}\\rangle$ de la particule?"
   ]
  },
  {
   "cell_type": "code",
   "execution_count": 7,
   "metadata": {
    "nteract": {
     "transient": {
      "deleting": false
     }
    }
   },
   "outputs": [
    {
     "name": "stdout",
     "output_type": "stream",
     "text": [
      "[<98.4435, 738.323, 0>, <360.371, 1479.81, 0>, <431.595, 1923.92, 0>, <52.5675, 81.2686, 0>, <673.391, -289.859, 0>, <576.176, -791.138, 0>, <311.301, 144.795, 0>, <183.027, 268.962, 0>, <-661.229, -34.0486, 0>, <723.145, -85.2527, 0>, <1021.5, -1375.84, 0>, <270.252, 356.254, 0>, <136.079, -1493.87, 0>, <348.076, 96.816, 0>, <-39.6545, 6.4862, 0>, <-2620.6, 1636.61, 0>, <-1039.51, 118.669, 0>, <-705.95, -651.267, 0>, <309.064, -308.71, 0>, <-504.58, -186.789, 0>, <-46.9517, -28.3663, 0>, <-1026.98, 531.335, 0>, <-1084, 637.188, 0>, <-1129.88, -269.631, 0>, <-213.151, -66.668, 0>, <445.968, 361.577, 0>, <-1541.31, 646.328, 0>, <-306.129, 382.241, 0>, <275.741, -33.9541, 0>, <-1226.21, 179.981, 0>, <343.011, -423.502, 0>, <857.741, 281.331, 0>, <1075, 1342.09, 0>, <171.027, -404.29, 0>, <1118.61, 1198.15, 0>, <688.815, -267.113, 0>, <367.188, -1171.3, 0>, <528.938, -1082.52, 0>, <482.265, -1154.51, 0>, <-139.426, -49.0339, 0>, <1443.45, -558.396, 0>, <548.738, -1520.8, 0>, <-367.527, -278.641, 0>, <-343.834, -1182.28, 0>, <1121.24, -168.783, 0>, <1103.84, -97.6397, 0>, <150.501, 1255.36, 0>, <629.856, 1215.63, 0>, <-146.224, 303.088, 0>, <-563.202, -538.758, 0>, <-16.6928, -772.777, 0>, <350.865, -626.57, 0>, <-322.284, 19.203, 0>, <286.527, -287.717, 0>, <1047.3, 743.745, 0>, <-222.814, -1813.51, 0>, <560.936, -298.382, 0>, <1363.36, 1057.82, 0>, <912.646, 319.68, 0>, <-1205.88, 1390.1, 0>, <163.901, 966.706, 0>, <50.1098, 1048.45, 0>, <508.73, -216.388, 0>, <-244.156, 161.407, 0>, <-552.002, -242.782, 0>, <-389.321, -670.368, 0>, <-1343.03, 1002.2, 0>, <-1286.67, 953.001, 0>, <-598.434, 1077.78, 0>, <-293.233, 174.607, 0>, <401.852, -403.381, 0>, <1216.32, -787.52, 0>, <1347.4, 239.585, 0>, <-876.552, 1013.27, 0>, <-666.918, 6.06065, 0>, <-338.595, 511.206, 0>, <832.733, 239.993, 0>, <-435.291, -203.353, 0>, <-498.606, 462.294, 0>, <-508.143, 452.553, 0>, <-154.611, 887.872, 0>, <-99.5836, 292.648, 0>, <123.911, 426.077, 0>, <-578.268, -179.752, 0>, <-668.225, -381.9, 0>, <-739.679, -1095.09, 0>, <-776.482, -1088.72, 0>, <-626.057, -1493.61, 0>, <-377.913, -1502.23, 0>, <-169.517, 601.487, 0>, <439.25, 152.938, 0>, <-1372.98, -719.776, 0>, <-57.8892, 674.996, 0>, <-955.446, -334.228, 0>, <73.0486, 253.754, 0>, <653.027, -287.172, 0>, <4.37887, -995.861, 0>, <36.8675, 492.278, 0>, <-3271.35, 152.26, 0>, <-1535.82, 87.8132, 0>]\n",
      "<v> = <-5.309, 68.5614, 0>\n",
      "sqrt(<v^2>) = 939.65786004766\n"
     ]
    }
   ],
   "source": [
    "# Si le dernier élément est nul, l'enlever\n",
    "while True:\n",
    "    if tCollision[-1] == 0:\n",
    "        tCollision.pop()\n",
    "        dVec.pop()\n",
    "    else:\n",
    "        break\n",
    "vVec = [d/t for d, t in zip(dVec, tCollision)]\n",
    "vMoy = sum(dVec, vp.vector(0, 0, 0)) / (dt*timeLoopLen)\n",
    "\n",
    "print(vVec)\n",
    "print(f\"<v> = {vMoy}\")\n",
    "print(f\"sqrt(<v^2>) = {lmoy/tau}\")"
   ]
  },
  {
   "cell_type": "markdown",
   "metadata": {
    "nteract": {
     "transient": {
      "deleting": false
     }
    }
   },
   "source": [
    "**VI.** _(5 points)_ &mdash; Pour cette même liste de vitesses, comparez les distributions de la norme $||\\vec{v}||$, du carré $v^2$ et d’une de ses composantes $v_x^2$ en étalonnant l’abscisse pour contraster les histogrammes avec une échelle appropriée. Indiquez sur ce graphique la moyenne, le mode, la médiane et la moyenne quadratique des distributions."
   ]
  },
  {
   "cell_type": "code",
   "execution_count": 17,
   "metadata": {
    "nteract": {
     "transient": {
      "deleting": false
     }
    }
   },
   "outputs": [
    {
     "data": {
      "text/plain": [
       "Text(0.5, 0.98, 'Distributions de $|\\\\mathbf{v}|$, de $\\\\mathbf{v}^2$ et de $v_x^2$ pour la particule 106')"
      ]
     },
     "execution_count": 17,
     "metadata": {},
     "output_type": "execute_result"
    },
    {
     "data": {
      "image/png": "[encoded data removed]",
      "text/plain": [
       "<Figure size 1500x400 with 3 Axes>"
      ]
     },
     "metadata": {},
     "output_type": "display_data"
    }
   ],
   "source": [
    "import matplotlib.pyplot as plt\n",
    "%matplotlib inline\n",
    "\n",
    "vNorm = [vp.mag(v) for v in vVec]\n",
    "v2Norm = [vp.mag2(v) for v in vVec]\n",
    "vxNorm = [v.x**2 for v in vVec]\n",
    "\n",
    "NBINS = 50\n",
    "fig, axs = plt.subplots(1, 3, figsize=(15, 4))\n",
    "axs[0].hist(vNorm, NBINS, density=True, color=\"b\", label=\"Frequency\")\n",
    "axs[1].hist(v2Norm, NBINS, density=True, color=\"b\", label=\"Frequency\")\n",
    "axs[2].hist(vxNorm, NBINS, density=True, color=\"b\", label=\"Frequency\")\n",
    "axs[0].set_xlabel(r\"$|\\mathbf{v}|$\")\n",
    "axs[1].set_xlabel(r\"$\\mathbf{v}^2$\")\n",
    "axs[2].set_xlabel(r\"$v_x^2$\")\n",
    "[axs[i].set_ylabel(\"Fréquence relative\") for i in range(2)]\n",
    "#axs[0].set_title(\"Dataset\")\n",
    "fig.suptitle(r\"Distributions de $|\\mathbf{v}|$, de $\\mathbf{v}^2$ et de $v_x^2$ pour la particule\"+f\" {analyseSphere}\")"
   ]
  },
  {
   "cell_type": "markdown",
   "metadata": {},
   "source": [
    "**Bonus.** _(4 points)_ &mdash; Montrez que \n",
    "- (a) le théorème central limite est satisfait par une des distributions de vitesse du numéro précédent,\n",
    "- (b) le système simulé est ergodique."
   ]
  },
  {
   "cell_type": "code",
   "execution_count": 20,
   "metadata": {
    "nteract": {
     "transient": {
      "deleting": false
     }
    }
   },
   "outputs": [
    {
     "data": {
      "text/html": [
       "<div id=\"glowscript\" class=\"glowscript\"></div>"
      ],
      "text/plain": [
       "<IPython.core.display.HTML object>"
      ]
     },
     "metadata": {},
     "output_type": "display_data"
    },
    {
     "data": {
      "application/javascript": [
       "if (typeof Jupyter !== \"undefined\") { window.__context = { glowscript_container: $(\"#glowscript\").removeAttr(\"id\")};}else{ element.textContent = ' ';}"
      ],
      "text/plain": [
       "<IPython.core.display.Javascript object>"
      ]
     },
     "metadata": {},
     "output_type": "display_data"
    },
    {
     "data": {
      "image/png": "[encoded data removed]",
      "text/plain": [
       "<Figure size 640x480 with 1 Axes>"
      ]
     },
     "metadata": {},
     "output_type": "display_data"
    }
   ],
   "source": [
    "# (a)\n",
    "# On roule le code avec un grand nombre d'itérations pour\n",
    "# pour avoir une belle gaussienne, N > 100 absolument\n",
    "%run TDS_2Dsimulation_H24.py 10000\n",
    "# On élimine le début de la simulation pour laisser\n",
    "# le temps aux particules de se distribuer selon MB\n",
    "S_n = S_n[100:]\n",
    "\n",
    "# On fait la moyenne de |v| pour tous les atomes à chaque\n",
    "# intervalle de temps et on calcule la moyenne et la variance\n",
    "# de la distribution résultante\n",
    "mu = np.mean(S_n)\n",
    "sigma = np.std(S_n)\n",
    "\n",
    "# On centre et réduit la distribution\n",
    "centreReduit = [(S_i-mu)/sigma for S_i in S_n]\n",
    "\n",
    "# On affiche l'histogramme et on le compare à N(0,1)\n",
    "x = np.linspace(-10, 10, 1000)\n",
    "y = lambda x: np.e**(-x**2/2)/np.sqrt(2*np.pi)\n",
    "\n",
    "NBINS = 50\n",
    "plt.hist(centreReduit, NBINS, density=True, label=r\"Histogramme de $\\langle |\\mathbf{v}| \\rangle$\")\n",
    "plt.plot(x, y(x), label=\"Distribution normale centrée réduite\")\n",
    "plt.xlabel(r\"$x$\")\n",
    "plt.ylabel(\"Densité de probabilité\")\n",
    "plt.title(r\"Densité de probabilité centrée réduite de $\\langle |v| \\rangle$ pour 200 atomes\")\n",
    "plt.legend()\n",
    "plt.xlim(-4, 4)\n",
    "plt.ylim(0, 0.5)\n",
    "plt.show()"
   ]
  },
  {
   "cell_type": "markdown",
   "metadata": {},
   "source": [
    "On voit bien que la somme de 200 distributions Maxwell-Boltzmann (la distribution de $|\\mathbf{v}|$) approxime bien une distribution gaussienne"
   ]
  },
  {
   "cell_type": "code",
   "execution_count": 21,
   "metadata": {},
   "outputs": [
    {
     "data": {
      "text/html": [
       "<div id=\"glowscript\" class=\"glowscript\"></div>"
      ],
      "text/plain": [
       "<IPython.core.display.HTML object>"
      ]
     },
     "metadata": {},
     "output_type": "display_data"
    },
    {
     "data": {
      "application/javascript": [
       "if (typeof Jupyter !== \"undefined\") { window.__context = { glowscript_container: $(\"#glowscript\").removeAttr(\"id\")};}else{ element.textContent = ' ';}"
      ],
      "text/plain": [
       "<IPython.core.display.Javascript object>"
      ]
     },
     "metadata": {},
     "output_type": "display_data"
    },
    {
     "data": {
      "text/html": [
       "<div id=\"glowscript\" class=\"glowscript\"></div>"
      ],
      "text/plain": [
       "<IPython.core.display.HTML object>"
      ]
     },
     "metadata": {},
     "output_type": "display_data"
    },
    {
     "data": {
      "application/javascript": [
       "if (typeof Jupyter !== \"undefined\") { window.__context = { glowscript_container: $(\"#glowscript\").removeAttr(\"id\")};}else{ element.textContent = ' ';}"
      ],
      "text/plain": [
       "<IPython.core.display.Javascript object>"
      ]
     },
     "metadata": {},
     "output_type": "display_data"
    },
    {
     "data": {
      "text/plain": [
       "<Figure size 640x480 with 0 Axes>"
      ]
     },
     "metadata": {},
     "output_type": "display_data"
    },
    {
     "data": {
      "text/html": [
       "<div id=\"glowscript\" class=\"glowscript\"></div>"
      ],
      "text/plain": [
       "<IPython.core.display.HTML object>"
      ]
     },
     "metadata": {},
     "output_type": "display_data"
    },
    {
     "data": {
      "application/javascript": [
       "if (typeof Jupyter !== \"undefined\") { window.__context = { glowscript_container: $(\"#glowscript\").removeAttr(\"id\")};}else{ element.textContent = ' ';}"
      ],
      "text/plain": [
       "<IPython.core.display.Javascript object>"
      ]
     },
     "metadata": {},
     "output_type": "display_data"
    },
    {
     "data": {
      "text/html": [
       "<div id=\"glowscript\" class=\"glowscript\"></div>"
      ],
      "text/plain": [
       "<IPython.core.display.HTML object>"
      ]
     },
     "metadata": {},
     "output_type": "display_data"
    },
    {
     "data": {
      "application/javascript": [
       "if (typeof Jupyter !== \"undefined\") { window.__context = { glowscript_container: $(\"#glowscript\").removeAttr(\"id\")};}else{ element.textContent = ' ';}"
      ],
      "text/plain": [
       "<IPython.core.display.Javascript object>"
      ]
     },
     "metadata": {},
     "output_type": "display_data"
    },
    {
     "data": {
      "text/html": [
       "<div id=\"glowscript\" class=\"glowscript\"></div>"
      ],
      "text/plain": [
       "<IPython.core.display.HTML object>"
      ]
     },
     "metadata": {},
     "output_type": "display_data"
    },
    {
     "data": {
      "application/javascript": [
       "if (typeof Jupyter !== \"undefined\") { window.__context = { glowscript_container: $(\"#glowscript\").removeAttr(\"id\")};}else{ element.textContent = ' ';}"
      ],
      "text/plain": [
       "<IPython.core.display.Javascript object>"
      ]
     },
     "metadata": {},
     "output_type": "display_data"
    },
    {
     "data": {
      "text/html": [
       "<div id=\"glowscript\" class=\"glowscript\"></div>"
      ],
      "text/plain": [
       "<IPython.core.display.HTML object>"
      ]
     },
     "metadata": {},
     "output_type": "display_data"
    },
    {
     "data": {
      "application/javascript": [
       "if (typeof Jupyter !== \"undefined\") { window.__context = { glowscript_container: $(\"#glowscript\").removeAttr(\"id\")};}else{ element.textContent = ' ';}"
      ],
      "text/plain": [
       "<IPython.core.display.Javascript object>"
      ]
     },
     "metadata": {},
     "output_type": "display_data"
    },
    {
     "data": {
      "text/html": [
       "<div id=\"glowscript\" class=\"glowscript\"></div>"
      ],
      "text/plain": [
       "<IPython.core.display.HTML object>"
      ]
     },
     "metadata": {},
     "output_type": "display_data"
    },
    {
     "data": {
      "application/javascript": [
       "if (typeof Jupyter !== \"undefined\") { window.__context = { glowscript_container: $(\"#glowscript\").removeAttr(\"id\")};}else{ element.textContent = ' ';}"
      ],
      "text/plain": [
       "<IPython.core.display.Javascript object>"
      ]
     },
     "metadata": {},
     "output_type": "display_data"
    },
    {
     "data": {
      "text/html": [
       "<div id=\"glowscript\" class=\"glowscript\"></div>"
      ],
      "text/plain": [
       "<IPython.core.display.HTML object>"
      ]
     },
     "metadata": {},
     "output_type": "display_data"
    },
    {
     "data": {
      "application/javascript": [
       "if (typeof Jupyter !== \"undefined\") { window.__context = { glowscript_container: $(\"#glowscript\").removeAttr(\"id\")};}else{ element.textContent = ' ';}"
      ],
      "text/plain": [
       "<IPython.core.display.Javascript object>"
      ]
     },
     "metadata": {},
     "output_type": "display_data"
    },
    {
     "data": {
      "text/html": [
       "<div id=\"glowscript\" class=\"glowscript\"></div>"
      ],
      "text/plain": [
       "<IPython.core.display.HTML object>"
      ]
     },
     "metadata": {},
     "output_type": "display_data"
    },
    {
     "data": {
      "application/javascript": [
       "if (typeof Jupyter !== \"undefined\") { window.__context = { glowscript_container: $(\"#glowscript\").removeAttr(\"id\")};}else{ element.textContent = ' ';}"
      ],
      "text/plain": [
       "<IPython.core.display.Javascript object>"
      ]
     },
     "metadata": {},
     "output_type": "display_data"
    },
    {
     "data": {
      "text/html": [
       "<div id=\"glowscript\" class=\"glowscript\"></div>"
      ],
      "text/plain": [
       "<IPython.core.display.HTML object>"
      ]
     },
     "metadata": {},
     "output_type": "display_data"
    },
    {
     "data": {
      "application/javascript": [
       "if (typeof Jupyter !== \"undefined\") { window.__context = { glowscript_container: $(\"#glowscript\").removeAttr(\"id\")};}else{ element.textContent = ' ';}"
      ],
      "text/plain": [
       "<IPython.core.display.Javascript object>"
      ]
     },
     "metadata": {},
     "output_type": "display_data"
    },
    {
     "data": {
      "text/plain": [
       "Text(0.5, 0, \"Nombre d'ittérations de la simualtion [s]\")"
      ]
     },
     "execution_count": 21,
     "metadata": {},
     "output_type": "execute_result"
    },
    {
     "data": {
      "image/png": "[encoded data removed]",
      "text/plain": [
       "<Figure size 640x480 with 2 Axes>"
      ]
     },
     "metadata": {},
     "output_type": "display_data"
    }
   ],
   "source": [
    "#(b) Pour prouver que le système est ergodique, prouvons que les observables les plus pertinents de\n",
    "# la simulation, soit la moyenne de temps et de distance entre chaque collision, converge après \n",
    "#plusieurs simulations (10) vers la même valeur\n",
    "\n",
    "%run TDS_2Dsimulation_H24.py 1000\n",
    "lmoy1 = deepcopy(np.mean(dScalaire)) #m\n",
    "tau1 = deepcopy(np.mean(tCollision)) #s\n",
    "%run TDS_2Dsimulation_H24.py 1000\n",
    "lmoy2 = deepcopy(np.mean(dScalaire)) #m\n",
    "tau2 = deepcopy(np.mean(tCollision)) #s\n",
    "%run TDS_2Dsimulation_H24.py 1000\n",
    "lmoy3 = deepcopy(np.mean(dScalaire)) #m\n",
    "tau3 = deepcopy(np.mean(tCollision)) #s\n",
    "%run TDS_2Dsimulation_H24.py 1000\n",
    "lmoy4 = deepcopy(np.mean(dScalaire)) #m\n",
    "tau4 = deepcopy(np.mean(tCollision)) #s\n",
    "%run TDS_2Dsimulation_H24.py 1000\n",
    "lmoy5 = deepcopy(np.mean(dScalaire)) #m\n",
    "tau5 = deepcopy(np.mean(tCollision)) #s\n",
    "%run TDS_2Dsimulation_H24.py 1000\n",
    "lmoy6 = deepcopy(np.mean(dScalaire)) #m\n",
    "tau6 = deepcopy(np.mean(tCollision)) #s\n",
    "%run TDS_2Dsimulation_H24.py 1000\n",
    "lmoy7 = deepcopy(np.mean(dScalaire)) #m\n",
    "tau7 = deepcopy(np.mean(tCollision)) #s\n",
    "%run TDS_2Dsimulation_H24.py 1000\n",
    "lmoy8 = deepcopy(np.mean(dScalaire)) #m\n",
    "tau8 = deepcopy(np.mean(tCollision)) #s\n",
    "%run TDS_2Dsimulation_H24.py 1000\n",
    "lmoy9 = deepcopy(np.mean(dScalaire)) #m\n",
    "tau9 = deepcopy(np.mean(tCollision)) #s\n",
    "%run TDS_2Dsimulation_H24.py 1000\n",
    "\n",
    "lMoyVec = [lmoy, lmoy1, lmoy2, lmoy3, lmoy4, lmoy5, lmoy6, lmoy7, lmoy8, lmoy9]\n",
    "tauVec = [tau, tau1, tau2, tau3, tau4, tau5, tau6, tau7, tau8, tau9]\n",
    "\n",
    "lMoyErgo, tauMoyErgo = np.zeros(10), np.zeros(10)\n",
    "for step in range(10): \n",
    "    lMoyErgo[step] = np.mean(lMoyVec[0:step+1])\n",
    "    tauMoyErgo[step] = np.mean(tauVec[0:step+1])\n",
    "\n",
    "fig, axs = plt.subplots(2)\n",
    "fig.suptitle('Évolution de la moyenne des moyennes des paramètres observables')\n",
    "axs[0].plot(range(1, 11), lMoyErgo, 'bo')\n",
    "axs[0].set_ylabel(\"Distance intercollisionnelle moyenne [m]\")\n",
    "\n",
    "axs[1].plot(range(1, 11), tauMoyErgo, 'ro')\n",
    "axs[1].set_ylabel(\"Temps intercollisionnel moyen\")\n",
    "axs[1].set_xlabel(\"Nombre d'ittérations de la simualtion [s]\")\n"
   ]
  },
  {
   "cell_type": "markdown",
   "metadata": {},
   "source": [
    "Tel que suggéré par les graphiques ci-dessus, la valeur de la moyenne tend à se stabiliser vers une valeur constante, ce qui démontre que le système est bel et bien ergodique."
   ]
  },
  {
   "cell_type": "markdown",
   "metadata": {
    "jp-MarkdownHeadingCollapsed": true,
    "nteract": {
     "transient": {
      "deleting": false
     }
    }
   },
   "source": [
    "# Médiagraphie #\n",
    " - La simulation utilise la librairie <a href=\"https://vpython.org\">VPython</a> conçue pour faciliter la visualisation de physique en 3D, avec les instructions d’installation <a href=\"https://vpython.org/presentation2018/install.html\">ici</a> et la documentation <a href=\"https://www.glowscript.org/docs/VPythonDocs/index.html\">ici</a>. Le code adapte en 2D et commente en détail l’exemple <a href=\"https://www.glowscript.org/#/user/GlowScriptDemos/folder/Examples/program/HardSphereGas-VPython\">HardSphereGas-VPython</a> du site interactif <a href=\"https://www.glowscript.org\">GlowScript</a> pour programmer des animations avec VPython directement en ligne."
   ]
  }
 ],
 "metadata": {
  "kernelspec": {
   "display_name": "Python 3 (ipykernel)",
   "language": "python",
   "name": "python3"
  },
  "language_info": {
   "codemirror_mode": {
    "name": "ipython",
    "version": 3
   },
   "file_extension": ".py",
   "mimetype": "text/x-python",
   "name": "python",
   "nbconvert_exporter": "python",
   "pygments_lexer": "ipython3",
   "version": "3.11.8"
  }
 },
 "nbformat": 4,
 "nbformat_minor": 4
}
