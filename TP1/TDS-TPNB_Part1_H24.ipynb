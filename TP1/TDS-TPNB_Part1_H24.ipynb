{
 "cells": [
  {
   "cell_type": "markdown",
   "metadata": {},
   "source": [
    "<h1 style=\"text-align:center\">Travail pratique numérique en thermodynamique statistique</h1>\n",
    "<h2 style=\"text-align:center\">PARTIE 1 : Cinétique des gaz parfaits</h2>\n",
    "\n",
    "Veuillez indiquer le nom des membres de votre équipe dans la cellule suivante."
   ]
  },
  {
   "cell_type": "markdown",
   "metadata": {},
   "source": [
    "<h1><center>Physique numérique (PHY-3500) - TP1</center></h1>\n",
    "<hr>\n",
    "<br><br>\n",
    "\n",
    "**Membres de l'équipe**\n",
    "| Nom | NI |\n",
    "| --- | :---: |\n",
    "| Maxime Tousignant-Tremblay | 536 772 369 |\n",
    "| Philippe Morin | 536 776 382 |\n",
    "| Alyx Olivier| 536 772 782 |\n",
    "| Anna-Kim Péron| 536 852 157 |"
   ]
  },
  {
   "cell_type": "markdown",
   "metadata": {},
   "source": [
    "# Atelier en classe : 31 janvier 2024 #\n",
    "### Discussion interdisciplinaire de sujets en probablilité & statistiques ###\n",
    "\n",
    "**Quelques fondements de mathématiques statistiques:** par exemple bien définir variables aléatoires, échantillon et population totale, estimateurs, fonction de distribution cumulative (répartition), densité de probabilité, moments, etc. - **Programme GPH**\n",
    "\n",
    "**Les distributions statistiques de particules indiscernables:** en particulier celle de Fermi-Dirac avec les notions de potentiel chimique et d’occupation des états en fonction de la température, en analogie avec le remplissage selon le principe principe d’Aufbau introduit en classe pour les atomes à température nulle. - **Programme PHY**\n",
    "\n",
    "**_Un point de bonus sera accordé à tous les étudiantes et étudiants qui participeront à l'atelier pour discuter des sujets ci-dessus et débuter le travail de la première partie ci-dessous._**"
   ]
  },
  {
   "cell_type": "markdown",
   "metadata": {
    "nteract": {
     "transient": {
      "deleting": false
     }
    }
   },
   "source": [
    "# Introduction #\n",
    "Ce travail révise d'abord quelques bases générales de mécanique statistique classique avec le script `TDS-2Dsimulation_HXX.py` qui simule la théorie cinétique des gaz parfaits en 2D. Cette simulation utilise le concept de sphères dures, mais ici pour le cas des particules d'un gaz afin d'introduire des collisions élastiques entre elles sur leurs trajectoires ballistiques. Notez qu'une sphère est colorée et grossie seulement pour l’effet visuel dans l'animation, la physique de l’algorithme codé considère bien des particules totalement identiques. Les questions sur cette simulation, à répondre directement dans les cellules du carnet _(Notebook)_ ici-même, explorent quelques paramètres de la thermodynamique statistique et introduisent de nouveaux termes utiles à l'étude de la dynamique des électrons dans la matière.\n",
    "\n",
    "_N.B._ \n",
    "- _Pour montrer les animations à l'écran, le script `TDS-2Dsimulation_HXX.py` importe la librairie `VPython` qu'il faut donc installer. Des liens vers sa documentation et de l'information complémentaire sont donnés dans la médiagraphie à la fin._\n",
    "- _Le code dans ce script est abusivement commenté dans notre contexte pédagogique, mais il serait bien sûr préférable de s’en tenir aux recommandations du <a href=\"https://www.python.org/dev/peps/pep-0008\"> PEP 8 — Style Guide for Python Code</a>._\n",
    "- _Notez finalement que la boucle principale à la fin du script laisse l'utilisateur voir l'animation aussi longtemps que souhaité, assurez-vous donc de savoir comment l'interrompre correctement avant de lancer la simulation ou de la remplacer par une boucle `for`._"
   ]
  },
  {
   "cell_type": "markdown",
   "metadata": {
    "nteract": {
     "transient": {
      "deleting": false
     }
    }
   },
   "source": [
    "# Cinétique CLASSIQUE des gaz parfaits #"
   ]
  },
  {
   "cell_type": "markdown",
   "metadata": {
    "nteract": {
     "transient": {
      "deleting": false
     }
    }
   },
   "source": [
    "### Simulation 2D ###"
   ]
  },
  {
   "cell_type": "code",
   "execution_count": 1,
   "metadata": {
    "scrolled": true
   },
   "outputs": [
    {
     "data": {
      "text/html": [
       "<div id=\"glowscript\" class=\"glowscript\"></div>"
      ],
      "text/plain": [
       "<IPython.core.display.HTML object>"
      ]
     },
     "metadata": {},
     "output_type": "display_data"
    },
    {
     "data": {
      "application/javascript": "if (typeof Jupyter !== \"undefined\") { window.__context = { glowscript_container: $(\"#glowscript\").removeAttr(\"id\")};}else{ element.textContent = ' ';}",
      "text/plain": [
       "<IPython.core.display.Javascript object>"
      ]
     },
     "metadata": {},
     "output_type": "display_data"
    }
   ],
   "source": [
    "import numpy as np\n",
    "import vpython as vp\n",
    "from scipy import constants as cte\n"
   ]
  },
  {
   "cell_type": "code",
   "execution_count": 2,
   "metadata": {
    "scrolled": true
   },
   "outputs": [
    {
     "data": {
      "text/html": [
       "<div id=\"glowscript\" class=\"glowscript\"></div>"
      ],
      "text/plain": [
       "<IPython.core.display.HTML object>"
      ]
     },
     "metadata": {},
     "output_type": "display_data"
    },
    {
     "data": {
      "application/javascript": "if (typeof Jupyter !== \"undefined\") { window.__context = { glowscript_container: $(\"#glowscript\").removeAttr(\"id\")};}else{ element.textContent = ' ';}",
      "text/plain": [
       "<IPython.core.display.Javascript object>"
      ]
     },
     "metadata": {},
     "output_type": "display_data"
    },
    {
     "data": {
      "application/javascript": "if (typeof Jupyter !== \"undefined\") {require.undef(\"nbextensions/vpython_libraries/glow.min\");}else{element.textContent = ' ';}",
      "text/plain": [
       "<IPython.core.display.Javascript object>"
      ]
     },
     "metadata": {},
     "output_type": "display_data"
    },
    {
     "data": {
      "application/javascript": "if (typeof Jupyter !== \"undefined\") {require.undef(\"nbextensions/vpython_libraries/glowcomm\");}else{element.textContent = ' ';}",
      "text/plain": [
       "<IPython.core.display.Javascript object>"
      ]
     },
     "metadata": {},
     "output_type": "display_data"
    },
    {
     "data": {
      "application/javascript": "if (typeof Jupyter !== \"undefined\") {require.undef(\"nbextensions/vpython_libraries/jquery-ui.custom.min\");}else{element.textContent = ' ';}",
      "text/plain": [
       "<IPython.core.display.Javascript object>"
      ]
     },
     "metadata": {},
     "output_type": "display_data"
    },
    {
     "data": {
      "application/javascript": "if (typeof Jupyter !== \"undefined\") {require([\"nbextensions/vpython_libraries/glow.min\"], function(){console.log(\"GLOW LOADED\");});}else{element.textContent = ' ';}",
      "text/plain": [
       "<IPython.core.display.Javascript object>"
      ]
     },
     "metadata": {},
     "output_type": "display_data"
    },
    {
     "data": {
      "application/javascript": "if (typeof Jupyter !== \"undefined\") {require([\"nbextensions/vpython_libraries/glowcomm\"], function(){console.log(\"GLOWCOMM LOADED\");});}else{element.textContent = ' ';}",
      "text/plain": [
       "<IPython.core.display.Javascript object>"
      ]
     },
     "metadata": {},
     "output_type": "display_data"
    },
    {
     "data": {
      "application/javascript": "if (typeof Jupyter !== \"undefined\") {require([\"nbextensions/vpython_libraries/jquery-ui.custom.min\"], function(){console.log(\"JQUERY LOADED\");});}else{element.textContent = ' ';}",
      "text/plain": [
       "<IPython.core.display.Javascript object>"
      ]
     },
     "metadata": {},
     "output_type": "display_data"
    }
   ],
   "source": [
    "# codes recquis pour faire rouler la simulation (TDS_2Dsimulation_H24.py et Particules.py)\n",
    "%run TDS_2Dsimulation_H24.py 1000\n",
    "\n",
    "#(pour faire rouler la simulation sans vpython,)\n",
    "#import TDS_H24_novpython as tds\n",
    "\n",
    "#hs = tds.HardSphere()\n",
    "# hs.p # get momentum\n",
    "# hs.p2  # get p^2\n",
    "# hs.vel # get particles velocity\n",
    "#hs.run() # run simulation"
   ]
  },
  {
   "cell_type": "markdown",
   "metadata": {},
   "source": [
    "### Questions statistiques ###"
   ]
  },
  {
   "cell_type": "markdown",
   "metadata": {},
   "source": [
    "**I.** _(3 points)_  &mdash; Utilisez la liste finale des vecteurs de quantité de mouvement $\\vec{p}$ de toutes les sphères pour trouver la moyenne de son carré $\\langle p^2\\rangle=\\langle\\vec{p}\\cdot\\vec{p}\\rangle$ et l'imprimer avec la fonction `print()` dans la cellule qui suit. "
   ]
  },
  {
   "cell_type": "code",
   "execution_count": 3,
   "metadata": {},
   "outputs": [
    {
     "name": "stdout",
     "output_type": "stream",
     "text": [
      "5.504363703526123e-47\n"
     ]
    }
   ],
   "source": [
    "# p à la fin de la simulation\n",
    "psquare_mean = np.mean([vp.mag2(atome.p) for atome in atoms])\n",
    "print(psquare_mean)"
   ]
  },
  {
   "cell_type": "markdown",
   "metadata": {},
   "source": [
    "\n",
    "**II.** _(2 points)_  &mdash; La température $T$ (macroscopique) est proportionnelle à l'énergie cinétique moyenne $E_{cin}$ de l'ensemble des particules lorsque ce système est rendu à l'équilibre. Celle-ci peut se calculer classiquement selon son <a href=\"https://fr.wikipedia.org/wiki/%C3%89quipartition_de_l%27%C3%A9nergie\">principe d'équipartition</a>, _i.e._ répartissant l'énergie également sur chaque degré de liberté ici en translation seulement, d'où au total pour $i=1,2\\text{ ou } 3$ dimensions d'espace réel\n",
    "\\begin{equation}\n",
    "E_{cin}=\\frac{\\langle p^2 \\rangle}{2m}=i\\times\\frac{1}{2}k_BT\n",
    "\\end{equation}\n",
    "avec $k_B$, la constante de Boltzmann et $m$, la masse de chaque particule. Quelle est la température du gaz de sphères dures à la fin de la simulation? Est-ce qu'elle a changé significativement par rapport à sa valeur initiale?"
   ]
  },
  {
   "cell_type": "code",
   "execution_count": 4,
   "metadata": {},
   "outputs": [
    {
     "name": "stdout",
     "output_type": "stream",
     "text": [
      "300.00000000000006 5.684341886080802e-14\n"
     ]
    }
   ],
   "source": [
    "def calculate_temperature(p2, m): #calcul la temperature en K en fonction de E_cin (p2 = <p^2>)\n",
    "    i = 2 #degré de liberté 2D en simulation\n",
    "    kB = cte.k #constante de Boltzman\n",
    "    T = p2/(kB*m*i)\n",
    "    return T\n",
    "\n",
    "\n",
    "mass: float = cte.value(\"alpha particle mass\")\n",
    "TEnd = calculate_temperature(psquare_mean, mass)\n",
    "print(TEnd, TEnd-300)"
   ]
  },
  {
   "cell_type": "markdown",
   "metadata": {},
   "source": [
    "On voit que la température n'a essentiellement pas changée, ce qui est logique, puisque l'énergie est directement proportionnelle à la température et que c'est un système fermé, impliquant une conservation de l'énergie."
   ]
  },
  {
   "cell_type": "markdown",
   "metadata": {
    "nteract": {
     "transient": {
      "deleting": false
     }
    }
   },
   "source": [
    "**III.** _(10 points)_ &mdash; Modifiez le code de la simulation pour ajouter une fonction qui suit la trajectoire d'UNE SEULE particule, c'est-à-dire qu'elle doit enregistrer, dans une liste, des valeurs de variables pour cette particule et ce, à chacune de ses collisions avec une autre particule (_i.e._ excluez les collisions avec les parois de la boîte). Les deux variables scalaires à lister sont:\n",
    "- la distance que la particule a parcouru entre chaque collision,\n",
    "- le temps écoulé entre ces collisions.\n",
    "\n",
    "Copiez le code de votre fonction dans la cellule qui suit en y commentant clairement les variables pour ces listes qui devront persister après avoir interrompu l'exécution de la simulation. N'oubliez pas d'inclure votre fichier Python (`.py`) modifié avec la simulation complète lors de la remise."
   ]
  },
  {
   "cell_type": "code",
   "execution_count": 5,
   "metadata": {
    "nteract": {
     "transient": {
      "deleting": false
     }
    }
   },
   "outputs": [
    {
     "name": "stdout",
     "output_type": "stream",
     "text": [
      "Distance et temps parcourrue par l'atome 106. \n",
      "\n",
      "Distances: ['0.13689', '0.21552', '0.063735', '0.012718', '0.021825', '0.0064574', '0.3774', '0.16825', '0.04221', '0.011033', '0.18806', '0.067422', '0.015034', '0.10014', '0.22387', '0.021999', '0.030067', '0.048909', '0.015516', '0.029815', '0.01632', '0.030125', '0.031515', '0.16143', '0.16843', '0.13523', '0.017774', '0.012435', '0.018209', '0.022332', '0.096355', '0.011921', '0.073908', '0.095578', '0.024347', '0.090298', '0.090554', '0.082647', '0.036228', '0.11289', '0.17147', '0.062286', '0.0082824', '0.032265', '0.040024', '0.014705', '0.38457', '0.07043', '0.082378', '0.024212', '0.07179', '0.56975', '0.60252', '0.075921', '0.059247', '0.046872', '0.14612', '0.1059', '0.0098263', '0.015532', '0.017639', '0.14876', '0.031638', '0.25126', '0.010832', '0.085368', '0.10235', '0.13275', '0.015034', '0.15602', '0.059982', '0.20452', '0.18205', '0.022704', '0.0088463', '0.024406', '0.24562', '0.38142', '0.01903', '0.027481', '0.11412', '0.075265', '0.045564', '0.093645', '0.052795', '0.0040364', '0.028043', '0.0040949', '0.20219', '0.088597'].\n",
      "\n",
      "Temps: ['0.00012', '0.00015', '8e-05', '1e-05', '1e-05', '3e-05', '0.0003', '0.00014', '8e-05', '1e-05', '0.00025', '8e-05', '2e-05', '0.00014', '0.00017', '3e-05', '1e-05', '5e-05', '1e-05', '2e-05', '1e-05', '2e-05', '2e-05', '0.00047', '0.00012', '0.00023', '3e-05', '2e-05', '1e-05', '1e-05', '0.00011', '3e-05', '0.00014', '0.00011', '2e-05', '8e-05', '8e-05', '8e-05', '0.0001', '0.00076', '0.00018', '5e-05', '1e-05', '0.00014', '3e-05', '1e-05', '0.00027', '9e-05', '0.00033', '3e-05', '7e-05', '0.00055', '0.00075', '9e-05', '4e-05', '3e-05', '9e-05', '9e-05', '1e-05', '1e-05', '1e-05', '0.00021', '3e-05', '0.00016', '2e-05', '6e-05', '8e-05', '7e-05', '1e-05', '0.0001', '9e-05', '0.0001', '0.0001', '2e-05', '1e-05', '2e-05', '0.00019', '0.00039', '0.0001', '7e-05', '0.00014', '0.0001', '6e-05', '0.0001', '7e-05', '1e-05', '7e-05', '1e-05', '0.00045', '0.00012']\n"
     ]
    }
   ],
   "source": [
    "#Code repris du script TDS_2Dsimulation_H24.py, car génère par défaut les objets nécessaires\n",
    "\"\"\"\n",
    "# Met à jour la liste des variables à suivre\n",
    "# Unpack les paires de collisions\n",
    "collisions: list[int] = []\n",
    "[collisions.extend(paire) for paire in hitlist]\n",
    "\n",
    "# Calcule le déplacement de analyseSphere et met à jour\n",
    "# lastPos pour l'utiliser à la prochaine itération\n",
    "deplacementVec: vp.vector = atoms[analyseSphere].pos - lastPos\n",
    "deplacementScalaire: float = vp.mag(deplacementVec)\n",
    "lastPos = atoms[analyseSphere].pos\n",
    "\n",
    "# Ajoute le temps écoulé et la distance parcourue pendant le temps dt\n",
    "# au total depuis la dernière collision\n",
    "dVec[-1] += deplacementVec\n",
    "dScalaire[-1] += deplacementScalaire\n",
    "tCollision[-1] += dt\n",
    "\n",
    "# Si la sphère est impliquée dans une collision, passer à la prochaine\n",
    "# valeur de temps et de distance entre collisions\n",
    "if analyseSphere in collisions:\n",
    "    dVec.append(vp.vector(0, 0, 0))\n",
    "    dScalaire.append(0)\n",
    "    tCollision.append(0)\n",
    "\"\"\"\n",
    "dOutput = [f\"{float(elem):.5}\" for elem in dScalaire]\n",
    "tOutput = [f\"{float(elem):.5}\" for elem in tCollision]\n",
    "print(f\"Distance et temps parcourrue par l'atome {analyseSphere}. \\n\\nDistances: {dOutput}.\\n\\nTemps: {tOutput}\")\n"
   ]
  },
  {
   "cell_type": "markdown",
   "metadata": {
    "nteract": {
     "transient": {
      "deleting": false
     }
    }
   },
   "source": [
    "**IV.** _(2 points)_ &mdash; Calculez le **libre parcours moyen** $l_{moy}$ et le **temps de collision** $\\tau$ qui sont les valeurs moyennes des deux listes compilées au numéro précédent.\n",
    "\n",
    "_(Pour votre information, le libre parcours moyen est de l’ordre de 100 nm dans l'air à température et pression ambiantes, mais_ $l_{moy}$ _peut dépasser 100 000 km dans une enceinte sous vide avec les technologies de pompes modernes!)_\n",
    "\n"
   ]
  },
  {
   "cell_type": "code",
   "execution_count": 6,
   "metadata": {
    "nteract": {
     "transient": {
      "deleting": false
     }
    }
   },
   "outputs": [
    {
     "name": "stdout",
     "output_type": "stream",
     "text": [
      "0.095062, 0.00011111\n"
     ]
    }
   ],
   "source": [
    "lmoy = deepcopy(np.mean(dScalaire)) #m\n",
    "tau = deepcopy(np.mean(tCollision)) #s\n",
    "print(f\"{lmoy:.5}, {tau:.5}\")"
   ]
  },
  {
   "cell_type": "markdown",
   "metadata": {
    "nteract": {
     "transient": {
      "deleting": false
     }
    }
   },
   "source": [
    "**V.** _(2 points)_ Calculez la vitesse $\\vec{v}$ de la particule entre chaque paire de collisions. Quelle est la vitesse moyenne $\\langle\\vec{v}\\rangle$ de la particule?"
   ]
  },
  {
   "cell_type": "code",
   "execution_count": 7,
   "metadata": {
    "nteract": {
     "transient": {
      "deleting": false
     }
    }
   },
   "outputs": [
    {
     "name": "stdout",
     "output_type": "stream",
     "text": [
      "[<170.227, 1120.91, 0>, <702.744, 1251.59, 0>, <6.25269, -397.631, 0>, <-1013.4, -768.384, 0>, <1442.41, 1637.97, 0>, <209.961, -9.60314, 0>, <1113.93, -584.473, 0>, <1033.45, -612.879, 0>, <387.246, -358.347, 0>, <175.852, -1089.19, 0>, <-542.126, -510.267, 0>, <802.913, 227.816, 0>, <676.589, -323.473, 0>, <670.278, -230.491, 0>, <345.265, 1257.01, 0>, <84.7524, 313.045, 0>, <-2797.91, 1100.92, 0>, <-731.355, 476.579, 0>, <1349.16, -766.244, 0>, <1324.11, -675.814, 0>, <1372.16, -883.437, 0>, <122.035, -902.395, 0>, <-766.113, -1376.76, 0>, <-93.5358, 330.113, 0>, <122.332, 1166.29, 0>, <-474.291, -287.069, 0>, <-485.947, -338.314, 0>, <-363.051, -421.669, 0>, <706.93, -1678.1, 0>, <-2180.98, 480.15, 0>, <-659.202, -560.891, 0>, <-230.726, 322.903, 0>, <-384.671, 351.244, 0>, <628.29, 502.59, 0>, <229.389, -1195.11, 0>, <35.9692, -1067.63, 0>, <-1088.57, -309.834, 0>, <-474.981, 917.057, 0>, <71.7391, 348.543, 0>, <-141.608, -33.6875, 0>, <-479.441, 363.129, 0>, <-808.725, -938.614, 0>, <-695.968, -449.003, 0>, <0.151912, 108.566, 0>, <181.307, -1312.9, 0>, <553.543, -1362.3, 0>, <639.397, -1266.91, 0>, <768.734, 145.791, 0>, <-155.809, 136.224, 0>, <802.556, -83.5133, 0>, <536.646, -863.819, 0>, <-339.861, -949.542, 0>, <-481.927, 228.049, 0>, <842.961, -5.79421, 0>, <983.575, -1096.48, 0>, <495.193, -1481.39, 0>, <-832.384, -796.466, 0>, <103.977, 1171.63, 0>, <962.316, 198.768, 0>, <1495.3, -419.95, 0>, <-1259.34, -1235, 0>, <575.692, -409.334, 0>, <978.408, -155.854, 0>, <1215.1, 735.713, 0>, <93.9085, 532.054, 0>, <1013.5, 996.279, 0>, <1175.07, 501.717, 0>, <1165.01, -1471.09, 0>, <1115.33, -1008.04, 0>, <1323.28, -826.345, 0>, <336.009, 89.6198, 0>, <-78.4448, 808.958, 0>, <327.64, 1789.73, 0>, <-121.432, 1122.67, 0>, <-257.711, 846.258, 0>, <680.028, 1009.73, 0>, <-720.115, 748.589, 0>, <-109.23, -109.271, 0>, <118.683, 147.637, 0>, <255.674, 265.887, 0>, <-738.786, 343.009, 0>, <-603.174, 450.134, 0>, <218.796, 715.418, 0>, <-230.548, 896.844, 0>, <-605.008, 404.617, 0>, <24.5962, 402.893, 0>, <108.456, 367.517, 0>, <355.597, 203.049, 0>, <-301.881, -331.171, 0>, <-64.3377, -735.5, 0>]\n",
      "<v> = <21.4675, -11.7347, 0>\n",
      "sqrt(<v^2>) = 855.5537436963682\n"
     ]
    }
   ],
   "source": [
    "vVec = [d/t for d, t in zip(dVec, tCollision)]\n",
    "vMoy = sum(dVec, vp.vector(0, 0, 0)) / (dt*timeLoopLen)\n",
    "\n",
    "print(vVec)\n",
    "print(f\"<v> = {vMoy}\")\n",
    "print(f\"sqrt(<v^2>) = {lmoy/tau}\")"
   ]
  },
  {
   "cell_type": "markdown",
   "metadata": {
    "nteract": {
     "transient": {
      "deleting": false
     }
    }
   },
   "source": [
    "**VI.** _(5 points)_ &mdash; Pour cette même liste de vitesses, comparez les distributions de la norme $||\\vec{v}||$, du carré $v^2$ et d’une de ses composantes $v_x^2$ en étalonnant l’abscisse pour contraster les histogrammes avec une échelle appropriée. Indiquez sur ce graphique la moyenne, le mode, la médiane et la moyenne quadratique des distributions."
   ]
  },
  {
   "cell_type": "code",
   "execution_count": 8,
   "metadata": {
    "nteract": {
     "transient": {
      "deleting": false
     }
    }
   },
   "outputs": [
    {
     "data": {
      "text/plain": [
       "<matplotlib.legend.Legend at 0x1759e746f10>"
      ]
     },
     "execution_count": 8,
     "metadata": {},
     "output_type": "execute_result"
    },
    {
     "data": {
      "image/png": "[encoded data removed]",
      "text/plain": [
       "<Figure size 1500x400 with 3 Axes>"
      ]
     },
     "metadata": {},
     "output_type": "display_data"
    }
   ],
   "source": [
    "import matplotlib.pyplot as plt\n",
    "%matplotlib inline\n",
    "\n",
    "vNorm = [vp.mag(v) for v in vVec]\n",
    "v2Norm = [vp.mag2(v) for v in vVec]\n",
    "vxNorm = [v.x**2 for v in vVec]\n",
    "\n",
    "NBINS = 50\n",
    "fig, axs = plt.subplots(1, 3, figsize=(15, 4))\n",
    "axs[0].hist(vNorm, NBINS, density=True, color=\"b\", label=\"Frequency\")\n",
    "axs[1].hist(v2Norm, NBINS, density=True, color=\"b\", label=\"Frequency\")\n",
    "axs[2].hist(vxNorm, NBINS, density=True, color=\"b\", label=\"Frequency\")\n",
    "axs[0].set_xlabel(r\"$|\\mathbf{v}|$\")\n",
    "axs[1].set_xlabel(r\"$\\mathbf{v}^2$\")\n",
    "axs[2].set_xlabel(r\"$\\mathbf{v}_x^2$\")\n",
    "[axs[i].set_ylabel(\"Fréquence relative\") for i in range(2)]\n",
    "#axs[0].set_title(\"Dataset\")\n",
    "axs[0].legend()"
   ]
  },
  {
   "cell_type": "markdown",
   "metadata": {},
   "source": [
    "**Bonus.** _(4 points)_ &mdash; Montrez que \n",
    "- (a) le théorème central limite est satisfait par une des distributions de vitesse du numéro précédent,\n",
    "- (b) le système simulé est ergodique."
   ]
  },
  {
   "cell_type": "code",
   "execution_count": 2,
   "metadata": {
    "nteract": {
     "transient": {
      "deleting": false
     }
    }
   },
   "outputs": [
    {
     "data": {
      "text/html": [
       "<div id=\"glowscript\" class=\"glowscript\"></div>"
      ],
      "text/plain": [
       "<IPython.core.display.HTML object>"
      ]
     },
     "metadata": {},
     "output_type": "display_data"
    },
    {
     "data": {
      "application/javascript": "if (typeof Jupyter !== \"undefined\") { window.__context = { glowscript_container: $(\"#glowscript\").removeAttr(\"id\")};}else{ element.textContent = ' ';}",
      "text/plain": [
       "<IPython.core.display.Javascript object>"
      ]
     },
     "metadata": {},
     "output_type": "display_data"
    },
    {
     "ename": "KeyboardInterrupt",
     "evalue": "",
     "output_type": "error",
     "traceback": [
      "\u001b[1;31m---------------------------------------------------------------------------\u001b[0m",
      "\u001b[1;31mKeyboardInterrupt\u001b[0m                         Traceback (most recent call last)",
      "File \u001b[1;32m~\\Etat-Solide\\Etat-Solide\\TP1\\TDS_2Dsimulation_H24.py:96\u001b[0m\n\u001b[0;32m     94\u001b[0m dt: \u001b[38;5;28mfloat\u001b[39m \u001b[38;5;241m=\u001b[39m \u001b[38;5;241m1e-5\u001b[39m         \u001b[38;5;66;03m# pas d'incrémentation temporel\u001b[39;00m\n\u001b[0;32m     95\u001b[0m analyseSphere: \u001b[38;5;28mint\u001b[39m \u001b[38;5;241m=\u001b[39m \u001b[38;5;241m106\u001b[39m \u001b[38;5;66;03m# à changer si analyse autre atome He (int [0, 199])\u001b[39;00m\n\u001b[1;32m---> 96\u001b[0m atoms, dVec, dScalaire, tCollision, S_n \u001b[38;5;241m=\u001b[39m \u001b[43mmain\u001b[49m\u001b[43m(\u001b[49m\u001b[43mdt\u001b[49m\u001b[43m,\u001b[49m\u001b[43m \u001b[49m\u001b[43mtimeLoopLen\u001b[49m\u001b[43m,\u001b[49m\u001b[43m \u001b[49m\u001b[43manalyseSphere\u001b[49m\u001b[43m)\u001b[49m\n",
      "File \u001b[1;32m~\\Etat-Solide\\Etat-Solide\\TP1\\TDS_2Dsimulation_H24.py:55\u001b[0m, in \u001b[0;36mmain\u001b[1;34m(dt, timeLoopLen, analyseSphere)\u001b[0m\n\u001b[0;32m     52\u001b[0m [atom\u001b[38;5;241m.\u001b[39mupdate(dt, L) \u001b[38;5;28;01mfor\u001b[39;00m atom \u001b[38;5;129;01min\u001b[39;00m atoms]\n\u001b[0;32m     54\u001b[0m \u001b[38;5;66;03m# LET'S FIND THESE COLLISIONS!!!\u001b[39;00m\n\u001b[1;32m---> 55\u001b[0m hitlist: \u001b[38;5;28mlist\u001b[39m[\u001b[38;5;28mlist\u001b[39m[\u001b[38;5;28mint\u001b[39m]] \u001b[38;5;241m=\u001b[39m \u001b[43mParticule\u001b[49m\u001b[38;5;241;43m.\u001b[39;49m\u001b[43mcheckCollisionsAtomes\u001b[49m\u001b[43m(\u001b[49m\u001b[43matoms\u001b[49m\u001b[43m)\u001b[49m\n\u001b[0;32m     57\u001b[0m \u001b[38;5;66;03m# Calcule le résultat des collisions et bouge les atomes\u001b[39;00m\n\u001b[0;32m     58\u001b[0m \u001b[38;5;28;01mfor\u001b[39;00m i, j \u001b[38;5;129;01min\u001b[39;00m hitlist:\n",
      "File \u001b[1;32m~\\Etat-Solide\\Etat-Solide\\TP1\\Particules.py:66\u001b[0m, in \u001b[0;36mParticule.checkCollisionsAtomes\u001b[1;34m(atomes)\u001b[0m\n\u001b[0;32m     62\u001b[0m posj: vp\u001b[38;5;241m.\u001b[39mvector \u001b[38;5;241m=\u001b[39m atomes[j]\u001b[38;5;241m.\u001b[39mpos\n\u001b[0;32m     64\u001b[0m \u001b[38;5;66;03m# la boucle dans une boucle itère pour calculer cette distance\u001b[39;00m\n\u001b[0;32m     65\u001b[0m \u001b[38;5;66;03m# vectorielle dr entre chaque paire de sphère\u001b[39;00m\n\u001b[1;32m---> 66\u001b[0m dr: vp\u001b[38;5;241m.\u001b[39mvector \u001b[38;5;241m=\u001b[39m \u001b[43mposi\u001b[49m\u001b[43m \u001b[49m\u001b[38;5;241;43m-\u001b[39;49m\u001b[43m \u001b[49m\u001b[43mposj\u001b[49m\n\u001b[0;32m     67\u001b[0m \u001b[38;5;28;01mif\u001b[39;00m vp\u001b[38;5;241m.\u001b[39mmag2(dr) \u001b[38;5;241m<\u001b[39m r2:\n\u001b[0;32m     68\u001b[0m     \u001b[38;5;66;03m# liste numérotant toutes les paires de sphères en collision\u001b[39;00m\n\u001b[0;32m     69\u001b[0m     hitlist\u001b[38;5;241m.\u001b[39mappend([i,j])\n",
      "File \u001b[1;32m~\\AppData\\Local\\Programs\\Python\\Python311\\Lib\\site-packages\\vpython\\vector.py:63\u001b[0m, in \u001b[0;36mvector.__sub__\u001b[1;34m(self, other)\u001b[0m\n\u001b[0;32m     61\u001b[0m \u001b[38;5;28;01mdef\u001b[39;00m \u001b[38;5;21m__sub__\u001b[39m(\u001b[38;5;28mself\u001b[39m, other):\n\u001b[0;32m     62\u001b[0m     \u001b[38;5;28;01mif\u001b[39;00m \u001b[38;5;28mtype\u001b[39m(other) \u001b[38;5;129;01mis\u001b[39;00m vector:\n\u001b[1;32m---> 63\u001b[0m         \u001b[38;5;28;01mreturn\u001b[39;00m \u001b[43mvector\u001b[49m\u001b[43m(\u001b[49m\u001b[38;5;28;43mself\u001b[39;49m\u001b[38;5;241;43m.\u001b[39;49m\u001b[43m_x\u001b[49m\u001b[43m \u001b[49m\u001b[38;5;241;43m-\u001b[39;49m\u001b[43m \u001b[49m\u001b[43mother\u001b[49m\u001b[38;5;241;43m.\u001b[39;49m\u001b[43m_x\u001b[49m\u001b[43m,\u001b[49m\u001b[43m \u001b[49m\u001b[38;5;28;43mself\u001b[39;49m\u001b[38;5;241;43m.\u001b[39;49m\u001b[43m_y\u001b[49m\u001b[43m \u001b[49m\u001b[38;5;241;43m-\u001b[39;49m\u001b[43m \u001b[49m\u001b[43mother\u001b[49m\u001b[38;5;241;43m.\u001b[39;49m\u001b[43m_y\u001b[49m\u001b[43m,\u001b[49m\u001b[43m \u001b[49m\u001b[38;5;28;43mself\u001b[39;49m\u001b[38;5;241;43m.\u001b[39;49m\u001b[43m_z\u001b[49m\u001b[43m \u001b[49m\u001b[38;5;241;43m-\u001b[39;49m\u001b[43m \u001b[49m\u001b[43mother\u001b[49m\u001b[38;5;241;43m.\u001b[39;49m\u001b[43m_z\u001b[49m\u001b[43m)\u001b[49m\n\u001b[0;32m     64\u001b[0m     \u001b[38;5;28;01mreturn\u001b[39;00m \u001b[38;5;28mNotImplemented\u001b[39m\n",
      "\u001b[1;31mKeyboardInterrupt\u001b[0m: "
     ]
    },
    {
     "ename": "NameError",
     "evalue": "name 'S_n' is not defined",
     "output_type": "error",
     "traceback": [
      "\u001b[1;31m---------------------------------------------------------------------------\u001b[0m",
      "\u001b[1;31mNameError\u001b[0m                                 Traceback (most recent call last)",
      "Cell \u001b[1;32mIn[2], line 7\u001b[0m\n\u001b[0;32m      4\u001b[0m get_ipython()\u001b[38;5;241m.\u001b[39mrun_line_magic(\u001b[38;5;124m'\u001b[39m\u001b[38;5;124mrun\u001b[39m\u001b[38;5;124m'\u001b[39m, \u001b[38;5;124m'\u001b[39m\u001b[38;5;124mTDS_2Dsimulation_H24.py 10000\u001b[39m\u001b[38;5;124m'\u001b[39m)\n\u001b[0;32m      5\u001b[0m \u001b[38;5;66;03m# On élimine le début de la simulation pour laisser\u001b[39;00m\n\u001b[0;32m      6\u001b[0m \u001b[38;5;66;03m# le temps aux particules de se distribuer selon MB\u001b[39;00m\n\u001b[1;32m----> 7\u001b[0m S_n \u001b[38;5;241m=\u001b[39m \u001b[43mS_n\u001b[49m[\u001b[38;5;241m100\u001b[39m:]\n\u001b[0;32m      9\u001b[0m \u001b[38;5;66;03m# On fait la moyenne de |v| pour tous les électrons à chaque\u001b[39;00m\n\u001b[0;32m     10\u001b[0m \u001b[38;5;66;03m# intervalle de temps et on calcule la moyenne et la variance\u001b[39;00m\n\u001b[0;32m     11\u001b[0m \u001b[38;5;66;03m# de la distribution résultante\u001b[39;00m\n\u001b[0;32m     12\u001b[0m mu \u001b[38;5;241m=\u001b[39m np\u001b[38;5;241m.\u001b[39mmean(S_n)\n",
      "\u001b[1;31mNameError\u001b[0m: name 'S_n' is not defined"
     ]
    }
   ],
   "source": [
    "# (a)\n",
    "# On roule le conde avec un grand nombre d'itérations pour\n",
    "# pour avoir une belle gaussienne, N > 100 absolument\n",
    "%run TDS_2Dsimulation_H24.py 10000\n",
    "# On élimine le début de la simulation pour laisser\n",
    "# le temps aux particules de se distribuer selon MB\n",
    "S_n = S_n[100:]\n",
    "\n",
    "# On fait la moyenne de |v| pour tous les électrons à chaque\n",
    "# intervalle de temps et on calcule la moyenne et la variance\n",
    "# de la distribution résultante\n",
    "mu = np.mean(S_n)\n",
    "sigma = np.std(S_n)\n",
    "\n",
    "# On centre et réduit la distribution\n",
    "centreReduit = [(S_i-mu)/sigma for S_i in S_n]\n",
    "\n",
    "# On affiche l'histogramme et on le compare à N(0,1)\n",
    "x = np.linspace(-10, 10, 1000)\n",
    "y = lambda x: np.e**(-x**2/2)/np.sqrt(2*np.pi)\n",
    "\n",
    "plt.hist(centreReduit, NBINS, density=True, label=r\"Histogramme de $\\langle |\\mathbf{v}| \\rangle$\")\n",
    "plt.plot(x, y(x), label=\"Distribution normale centrée réduite\")\n",
    "plt.xlabel(r\"$x$\")\n",
    "plt.ylabel(\"Densité de probabilité\")\n",
    "plt.legend()\n",
    "plt.xlim(-4, 4)\n",
    "plt.ylim(0, 0.5)\n",
    "plt.show()"
   ]
  },
  {
   "cell_type": "code",
   "execution_count": 9,
   "metadata": {},
   "outputs": [
    {
     "data": {
      "text/html": [
       "<div id=\"glowscript\" class=\"glowscript\"></div>"
      ],
      "text/plain": [
       "<IPython.core.display.HTML object>"
      ]
     },
     "metadata": {},
     "output_type": "display_data"
    },
    {
     "data": {
      "application/javascript": "if (typeof Jupyter !== \"undefined\") { window.__context = { glowscript_container: $(\"#glowscript\").removeAttr(\"id\")};}else{ element.textContent = ' ';}",
      "text/plain": [
       "<IPython.core.display.Javascript object>"
      ]
     },
     "metadata": {},
     "output_type": "display_data"
    },
    {
     "data": {
      "text/html": [
       "<div id=\"glowscript\" class=\"glowscript\"></div>"
      ],
      "text/plain": [
       "<IPython.core.display.HTML object>"
      ]
     },
     "metadata": {},
     "output_type": "display_data"
    },
    {
     "data": {
      "application/javascript": "if (typeof Jupyter !== \"undefined\") { window.__context = { glowscript_container: $(\"#glowscript\").removeAttr(\"id\")};}else{ element.textContent = ' ';}",
      "text/plain": [
       "<IPython.core.display.Javascript object>"
      ]
     },
     "metadata": {},
     "output_type": "display_data"
    },
    {
     "data": {
      "text/plain": [
       "<Figure size 640x480 with 0 Axes>"
      ]
     },
     "metadata": {},
     "output_type": "display_data"
    },
    {
     "data": {
      "text/html": [
       "<div id=\"glowscript\" class=\"glowscript\"></div>"
      ],
      "text/plain": [
       "<IPython.core.display.HTML object>"
      ]
     },
     "metadata": {},
     "output_type": "display_data"
    },
    {
     "data": {
      "application/javascript": "if (typeof Jupyter !== \"undefined\") { window.__context = { glowscript_container: $(\"#glowscript\").removeAttr(\"id\")};}else{ element.textContent = ' ';}",
      "text/plain": [
       "<IPython.core.display.Javascript object>"
      ]
     },
     "metadata": {},
     "output_type": "display_data"
    },
    {
     "data": {
      "text/html": [
       "<div id=\"glowscript\" class=\"glowscript\"></div>"
      ],
      "text/plain": [
       "<IPython.core.display.HTML object>"
      ]
     },
     "metadata": {},
     "output_type": "display_data"
    },
    {
     "data": {
      "application/javascript": "if (typeof Jupyter !== \"undefined\") { window.__context = { glowscript_container: $(\"#glowscript\").removeAttr(\"id\")};}else{ element.textContent = ' ';}",
      "text/plain": [
       "<IPython.core.display.Javascript object>"
      ]
     },
     "metadata": {},
     "output_type": "display_data"
    },
    {
     "data": {
      "text/html": [
       "<div id=\"glowscript\" class=\"glowscript\"></div>"
      ],
      "text/plain": [
       "<IPython.core.display.HTML object>"
      ]
     },
     "metadata": {},
     "output_type": "display_data"
    },
    {
     "data": {
      "application/javascript": "if (typeof Jupyter !== \"undefined\") { window.__context = { glowscript_container: $(\"#glowscript\").removeAttr(\"id\")};}else{ element.textContent = ' ';}",
      "text/plain": [
       "<IPython.core.display.Javascript object>"
      ]
     },
     "metadata": {},
     "output_type": "display_data"
    },
    {
     "data": {
      "text/html": [
       "<div id=\"glowscript\" class=\"glowscript\"></div>"
      ],
      "text/plain": [
       "<IPython.core.display.HTML object>"
      ]
     },
     "metadata": {},
     "output_type": "display_data"
    },
    {
     "data": {
      "application/javascript": "if (typeof Jupyter !== \"undefined\") { window.__context = { glowscript_container: $(\"#glowscript\").removeAttr(\"id\")};}else{ element.textContent = ' ';}",
      "text/plain": [
       "<IPython.core.display.Javascript object>"
      ]
     },
     "metadata": {},
     "output_type": "display_data"
    },
    {
     "data": {
      "text/html": [
       "<div id=\"glowscript\" class=\"glowscript\"></div>"
      ],
      "text/plain": [
       "<IPython.core.display.HTML object>"
      ]
     },
     "metadata": {},
     "output_type": "display_data"
    },
    {
     "data": {
      "application/javascript": "if (typeof Jupyter !== \"undefined\") { window.__context = { glowscript_container: $(\"#glowscript\").removeAttr(\"id\")};}else{ element.textContent = ' ';}",
      "text/plain": [
       "<IPython.core.display.Javascript object>"
      ]
     },
     "metadata": {},
     "output_type": "display_data"
    },
    {
     "data": {
      "text/html": [
       "<div id=\"glowscript\" class=\"glowscript\"></div>"
      ],
      "text/plain": [
       "<IPython.core.display.HTML object>"
      ]
     },
     "metadata": {},
     "output_type": "display_data"
    },
    {
     "data": {
      "application/javascript": "if (typeof Jupyter !== \"undefined\") { window.__context = { glowscript_container: $(\"#glowscript\").removeAttr(\"id\")};}else{ element.textContent = ' ';}",
      "text/plain": [
       "<IPython.core.display.Javascript object>"
      ]
     },
     "metadata": {},
     "output_type": "display_data"
    },
    {
     "data": {
      "text/html": [
       "<div id=\"glowscript\" class=\"glowscript\"></div>"
      ],
      "text/plain": [
       "<IPython.core.display.HTML object>"
      ]
     },
     "metadata": {},
     "output_type": "display_data"
    },
    {
     "data": {
      "application/javascript": "if (typeof Jupyter !== \"undefined\") { window.__context = { glowscript_container: $(\"#glowscript\").removeAttr(\"id\")};}else{ element.textContent = ' ';}",
      "text/plain": [
       "<IPython.core.display.Javascript object>"
      ]
     },
     "metadata": {},
     "output_type": "display_data"
    },
    {
     "data": {
      "text/html": [
       "<div id=\"glowscript\" class=\"glowscript\"></div>"
      ],
      "text/plain": [
       "<IPython.core.display.HTML object>"
      ]
     },
     "metadata": {},
     "output_type": "display_data"
    },
    {
     "data": {
      "application/javascript": "if (typeof Jupyter !== \"undefined\") { window.__context = { glowscript_container: $(\"#glowscript\").removeAttr(\"id\")};}else{ element.textContent = ' ';}",
      "text/plain": [
       "<IPython.core.display.Javascript object>"
      ]
     },
     "metadata": {},
     "output_type": "display_data"
    },
    {
     "data": {
      "text/plain": [
       "Text(0.5, 0, \"Nombre d'ittérations de la simualtion [s]\")"
      ]
     },
     "execution_count": 9,
     "metadata": {},
     "output_type": "execute_result"
    },
    {
     "data": {
      "image/png": "[encoded data removed]",
      "text/plain": [
       "<Figure size 640x480 with 2 Axes>"
      ]
     },
     "metadata": {},
     "output_type": "display_data"
    }
   ],
   "source": [
    "#(b) Pour prouver que le système est ergodique, prouvons que les observables les plus pertinents de\n",
    "# la simulation, soit la moyenne de temps et de distance entre chaque collision, converge après \n",
    "#plusieurs simulations (10) vers la même valeur\n",
    "\n",
    "%run TDS_2Dsimulation_H24.py 1000\n",
    "lmoy1 = deepcopy(np.mean(dScalaire)) #m\n",
    "tau1 = deepcopy(np.mean(tCollision)) #s\n",
    "%run TDS_2Dsimulation_H24.py 1000\n",
    "lmoy2 = deepcopy(np.mean(dScalaire)) #m\n",
    "tau2 = deepcopy(np.mean(tCollision)) #s\n",
    "%run TDS_2Dsimulation_H24.py 1000\n",
    "lmoy3 = deepcopy(np.mean(dScalaire)) #m\n",
    "tau3 = deepcopy(np.mean(tCollision)) #s\n",
    "%run TDS_2Dsimulation_H24.py 1000\n",
    "lmoy4 = deepcopy(np.mean(dScalaire)) #m\n",
    "tau4 = deepcopy(np.mean(tCollision)) #s\n",
    "%run TDS_2Dsimulation_H24.py 1000\n",
    "lmoy5 = deepcopy(np.mean(dScalaire)) #m\n",
    "tau5 = deepcopy(np.mean(tCollision)) #s\n",
    "%run TDS_2Dsimulation_H24.py 1000\n",
    "lmoy6 = deepcopy(np.mean(dScalaire)) #m\n",
    "tau6 = deepcopy(np.mean(tCollision)) #s\n",
    "%run TDS_2Dsimulation_H24.py 1000\n",
    "lmoy7 = deepcopy(np.mean(dScalaire)) #m\n",
    "tau7 = deepcopy(np.mean(tCollision)) #s\n",
    "%run TDS_2Dsimulation_H24.py 1000\n",
    "lmoy8 = deepcopy(np.mean(dScalaire)) #m\n",
    "tau8 = deepcopy(np.mean(tCollision)) #s\n",
    "%run TDS_2Dsimulation_H24.py 1000\n",
    "lmoy9 = deepcopy(np.mean(dScalaire)) #m\n",
    "tau9 = deepcopy(np.mean(tCollision)) #s\n",
    "%run TDS_2Dsimulation_H24.py 1000\n",
    "\n",
    "lMoyVec = [lmoy, lmoy1, lmoy2, lmoy3, lmoy4, lmoy5, lmoy6, lmoy7, lmoy8, lmoy9]\n",
    "tauVec = [tau, tau1, tau2, tau3, tau4, tau5, tau6, tau7, tau8, tau9]\n",
    "\n",
    "lMoyErgo, tauMoyErgo = np.zeros(10), np.zeros(10)\n",
    "for step in range(10): \n",
    "    lMoyErgo[step] = np.mean(lMoyVec[0:step+1])\n",
    "    tauMoyErgo[step] = np.mean(tauVec[0:step+1])\n",
    "\n",
    "fig, axs = plt.subplots(2)\n",
    "fig.suptitle('Évolution de la moyenne des moyennes des paramètres observables')\n",
    "axs[0].plot(range(1, 11), lMoyErgo, 'bo')\n",
    "axs[0].set_ylabel(\"Distance intercollisionnelle moyenne [m]\")\n",
    "\n",
    "axs[1].plot(range(1, 11), tauMoyErgo, 'ro')\n",
    "axs[1].set_ylabel(\"Temps intercollisionnel moyen\")\n",
    "axs[1].set_xlabel(\"Nombre d'ittérations de la simualtion [s]\")\n"
   ]
  },
  {
   "cell_type": "markdown",
   "metadata": {},
   "source": [
    "Tel que suggéré par les graphiques ci-dessus, la valeur de la moyenne tend à se stabiliser vers une valeur constante, ce qui démontre que le système est bel et bien ergodique."
   ]
  },
  {
   "cell_type": "markdown",
   "metadata": {
    "jp-MarkdownHeadingCollapsed": true,
    "nteract": {
     "transient": {
      "deleting": false
     }
    }
   },
   "source": [
    "# Médiagraphie #\n",
    " - La simulation utilise la librairie <a href=\"https://vpython.org\">VPython</a> conçue pour faciliter la visualisation de physique en 3D, avec les instructions d’installation <a href=\"https://vpython.org/presentation2018/install.html\">ici</a> et la documentation <a href=\"https://www.glowscript.org/docs/VPythonDocs/index.html\">ici</a>. Le code adapte en 2D et commente en détail l’exemple <a href=\"https://www.glowscript.org/#/user/GlowScriptDemos/folder/Examples/program/HardSphereGas-VPython\">HardSphereGas-VPython</a> du site interactif <a href=\"https://www.glowscript.org\">GlowScript</a> pour programmer des animations avec VPython directement en ligne."
   ]
  }
 ],
 "metadata": {
  "kernelspec": {
   "display_name": "Python 3 (ipykernel)",
   "language": "python",
   "name": "python3"
  },
  "language_info": {
   "codemirror_mode": {
    "name": "ipython",
    "version": 3
   },
   "file_extension": ".py",
   "mimetype": "text/x-python",
   "name": "python",
   "nbconvert_exporter": "python",
   "pygments_lexer": "ipython3",
   "version": "3.11.0"
  }
 },
 "nbformat": 4,
 "nbformat_minor": 4
}
