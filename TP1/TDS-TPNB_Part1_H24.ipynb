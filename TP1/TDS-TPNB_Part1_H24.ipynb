{
 "cells": [
  {
   "cell_type": "markdown",
   "metadata": {},
   "source": [
    "<h1 style=\"text-align:center\">Travail pratique numérique en thermodynamique statistique</h1>\n",
    "<h2 style=\"text-align:center\">PARTIE 1 : Cinétique des gaz parfaits</h2>\n",
    "\n",
    "Veuillez indiquer le nom des membres de votre équipe dans la cellule suivante."
   ]
  },
  {
   "cell_type": "markdown",
   "metadata": {},
   "source": [
    "<h1><center>Physique numérique (PHY-3500) - TP1</center></h1>\n",
    "<hr>\n",
    "<br><br>\n",
    "\n",
    "**Membres de l'équipe**\n",
    "| Nom | NI |\n",
    "| --- | :---: |\n",
    "| Maxime Tousignant-Tremblay | 536 772 369 |\n",
    "| Philippe Morin | 536 776 382 |\n",
    "| Alyx Olivier| 536 772 782 |\n",
    "| Anna-Kim Péron| 536 852 157 |"
   ]
  },
  {
   "cell_type": "markdown",
   "metadata": {},
   "source": [
    "# Atelier en classe : 31 janvier 2024 #\n",
    "### Discussion interdisciplinaire de sujets en probablilité & statistiques ###\n",
    "\n",
    "**Quelques fondements de mathématiques statistiques:** par exemple bien définir variables aléatoires, échantillon et population totale, estimateurs, fonction de distribution cumulative (répartition), densité de probabilité, moments, etc. - **Programme GPH**\n",
    "\n",
    "**Les distributions statistiques de particules indiscernables:** en particulier celle de Fermi-Dirac avec les notions de potentiel chimique et d’occupation des états en fonction de la température, en analogie avec le remplissage selon le principe principe d’Aufbau introduit en classe pour les atomes à température nulle. - **Programme PHY**\n",
    "\n",
    "**_Un point de bonus sera accordé à tous les étudiantes et étudiants qui participeront à l'atelier pour discuter des sujets ci-dessus et débuter le travail de la première partie ci-dessous._**"
   ]
  },
  {
   "cell_type": "markdown",
   "metadata": {
    "nteract": {
     "transient": {
      "deleting": false
     }
    }
   },
   "source": [
    "# Introduction #\n",
    "Ce travail révise d'abord quelques bases générales de mécanique statistique classique avec le script `TDS-2Dsimulation_HXX.py` qui simule la théorie cinétique des gaz parfaits en 2D. Cette simulation utilise le concept de sphères dures, mais ici pour le cas des particules d'un gaz afin d'introduire des collisions élastiques entre elles sur leurs trajectoires ballistiques. Notez qu'une sphère est colorée et grossie seulement pour l’effet visuel dans l'animation, la physique de l’algorithme codé considère bien des particules totalement identiques. Les questions sur cette simulation, à répondre directement dans les cellules du carnet _(Notebook)_ ici-même, explorent quelques paramètres de la thermodynamique statistique et introduisent de nouveaux termes utiles à l'étude de la dynamique des électrons dans la matière.\n",
    "\n",
    "_N.B._ \n",
    "- _Pour montrer les animations à l'écran, le script `TDS-2Dsimulation_HXX.py` importe la librairie `VPython` qu'il faut donc installer. Des liens vers sa documentation et de l'information complémentaire sont donnés dans la médiagraphie à la fin._\n",
    "- _Le code dans ce script est abusivement commenté dans notre contexte pédagogique, mais il serait bien sûr préférable de s’en tenir aux recommandations du <a href=\"https://www.python.org/dev/peps/pep-0008\"> PEP 8 — Style Guide for Python Code</a>._\n",
    "- _Notez finalement que la boucle principale à la fin du script laisse l'utilisateur voir l'animation aussi longtemps que souhaité, assurez-vous donc de savoir comment l'interrompre correctement avant de lancer la simulation ou de la remplacer par une boucle `for`._"
   ]
  },
  {
   "cell_type": "markdown",
   "metadata": {
    "nteract": {
     "transient": {
      "deleting": false
     }
    }
   },
   "source": [
    "# Cinétique CLASSIQUE des gaz parfaits #"
   ]
  },
  {
   "cell_type": "markdown",
   "metadata": {
    "nteract": {
     "transient": {
      "deleting": false
     }
    }
   },
   "source": [
    "### Simulation 2D ###"
   ]
  },
  {
   "cell_type": "code",
   "execution_count": 1,
   "metadata": {},
   "outputs": [
    {
     "data": {
      "text/html": [
       "<div id=\"glowscript\" class=\"glowscript\"></div>"
      ],
      "text/plain": [
       "<IPython.core.display.HTML object>"
      ]
     },
     "metadata": {},
     "output_type": "display_data"
    },
    {
     "data": {
      "application/javascript": [
       "if (typeof Jupyter !== \"undefined\") { window.__context = { glowscript_container: $(\"#glowscript\").removeAttr(\"id\")};}else{ element.textContent = ' ';}"
      ],
      "text/plain": [
       "<IPython.core.display.Javascript object>"
      ]
     },
     "metadata": {},
     "output_type": "display_data"
    }
   ],
   "source": [
    "import numpy as np\n",
    "import vpython as vp\n",
    "from scipy import constants as cte\n"
   ]
  },
  {
   "cell_type": "code",
   "execution_count": 2,
   "metadata": {},
   "outputs": [
    {
     "ename": "TypeError",
     "evalue": "dataclass() got an unexpected keyword argument 'slots'",
     "output_type": "error",
     "traceback": [
      "\u001b[0;31m---------------------------------------------------------------------------\u001b[0m",
      "\u001b[0;31mTypeError\u001b[0m                                 Traceback (most recent call last)",
      "Cell \u001b[0;32mIn[2], line 1\u001b[0m\n\u001b[0;32m----> 1\u001b[0m \u001b[38;5;28;01mimport\u001b[39;00m \u001b[38;5;21;01mTDS_H24\u001b[39;00m\n\u001b[1;32m      3\u001b[0m q \u001b[38;5;241m=\u001b[39m TDS_H24\u001b[38;5;241m.\u001b[39mHardSphere()\n\u001b[1;32m      4\u001b[0m q\u001b[38;5;241m.\u001b[39mrun(\u001b[38;5;241m500\u001b[39m)\n",
      "File \u001b[0;32m~/Etat-Solide/TP1/TDS_H24.py:19\u001b[0m\n\u001b[1;32m     13\u001b[0m \u001b[38;5;28;01mfrom\u001b[39;00m \u001b[38;5;21;01mscipy\u001b[39;00m \u001b[38;5;28;01mimport\u001b[39;00m constants \u001b[38;5;28;01mas\u001b[39;00m cte\n\u001b[1;32m     16\u001b[0m GRAY \u001b[38;5;241m=\u001b[39m vp\u001b[38;5;241m.\u001b[39mcolor\u001b[38;5;241m.\u001b[39mgray(\u001b[38;5;241m0.7\u001b[39m)\n\u001b[0;32m---> 19\u001b[0m \u001b[38;5;129m@dataclass\u001b[39m\u001b[43m(\u001b[49m\u001b[43mslots\u001b[49m\u001b[38;5;241;43m=\u001b[39;49m\u001b[38;5;28;43;01mTrue\u001b[39;49;00m\u001b[43m,\u001b[49m\u001b[43m \u001b[49m\u001b[38;5;28;43mrepr\u001b[39;49m\u001b[38;5;241;43m=\u001b[39;49m\u001b[38;5;28;43;01mFalse\u001b[39;49;00m\u001b[43m,\u001b[49m\u001b[43m \u001b[49m\u001b[43morder\u001b[49m\u001b[38;5;241;43m=\u001b[39;49m\u001b[38;5;28;43;01mFalse\u001b[39;49;00m\u001b[43m)\u001b[49m\n\u001b[1;32m     20\u001b[0m \u001b[38;5;28;01mclass\u001b[39;00m \u001b[38;5;21;01mHardSphere\u001b[39;00m:\n\u001b[1;32m     21\u001b[0m \u001b[38;5;250m    \u001b[39m\u001b[38;5;124;03m\"\"\"Hard-sphere gas simulation object.\"\"\"\u001b[39;00m\n\u001b[1;32m     23\u001b[0m     dt: \u001b[38;5;28mfloat\u001b[39m \u001b[38;5;241m=\u001b[39m \u001b[38;5;241m1e-5\u001b[39m\n",
      "\u001b[0;31mTypeError\u001b[0m: dataclass() got an unexpected keyword argument 'slots'"
     ]
    }
   ],
   "source": [
    "import TDS_H24\n",
    "\n",
    "q = TDS_H24.HardSphere()\n",
    "q.run(500)\n"
   ]
  },
  {
   "cell_type": "code",
   "execution_count": 3,
   "metadata": {},
   "outputs": [
    {
     "data": {
      "text/html": [
       "<div id=\"glowscript\" class=\"glowscript\"></div>"
      ],
      "text/plain": [
       "<IPython.core.display.HTML object>"
      ]
     },
     "metadata": {},
     "output_type": "display_data"
    },
    {
     "data": {
      "application/javascript": [
       "if (typeof Jupyter !== \"undefined\") { window.__context = { glowscript_container: $(\"#glowscript\").removeAttr(\"id\")};}else{ element.textContent = ' ';}"
      ],
      "text/plain": [
       "<IPython.core.display.Javascript object>"
      ]
     },
     "metadata": {},
     "output_type": "display_data"
    },
    {
     "data": {
      "application/javascript": [
       "if (typeof Jupyter !== \"undefined\") {require.undef(\"nbextensions/vpython_libraries/glow.min\");}else{element.textContent = ' ';}"
      ],
      "text/plain": [
       "<IPython.core.display.Javascript object>"
      ]
     },
     "metadata": {},
     "output_type": "display_data"
    },
    {
     "data": {
      "application/javascript": [
       "if (typeof Jupyter !== \"undefined\") {require.undef(\"nbextensions/vpython_libraries/glowcomm\");}else{element.textContent = ' ';}"
      ],
      "text/plain": [
       "<IPython.core.display.Javascript object>"
      ]
     },
     "metadata": {},
     "output_type": "display_data"
    },
    {
     "data": {
      "application/javascript": [
       "if (typeof Jupyter !== \"undefined\") {require.undef(\"nbextensions/vpython_libraries/jquery-ui.custom.min\");}else{element.textContent = ' ';}"
      ],
      "text/plain": [
       "<IPython.core.display.Javascript object>"
      ]
     },
     "metadata": {},
     "output_type": "display_data"
    },
    {
     "data": {
      "application/javascript": [
       "if (typeof Jupyter !== \"undefined\") {require([\"nbextensions/vpython_libraries/glow.min\"], function(){console.log(\"GLOW LOADED\");});}else{element.textContent = ' ';}"
      ],
      "text/plain": [
       "<IPython.core.display.Javascript object>"
      ]
     },
     "metadata": {},
     "output_type": "display_data"
    },
    {
     "data": {
      "application/javascript": [
       "if (typeof Jupyter !== \"undefined\") {require([\"nbextensions/vpython_libraries/glowcomm\"], function(){console.log(\"GLOWCOMM LOADED\");});}else{element.textContent = ' ';}"
      ],
      "text/plain": [
       "<IPython.core.display.Javascript object>"
      ]
     },
     "metadata": {},
     "output_type": "display_data"
    },
    {
     "data": {
      "application/javascript": [
       "if (typeof Jupyter !== \"undefined\") {require([\"nbextensions/vpython_libraries/jquery-ui.custom.min\"], function(){console.log(\"JQUERY LOADED\");});}else{element.textContent = ' ';}"
      ],
      "text/plain": [
       "<IPython.core.display.Javascript object>"
      ]
     },
     "metadata": {},
     "output_type": "display_data"
    }
   ],
   "source": [
    "%run TDS_2Dsimulation_H24.py 100\n"
   ]
  },
  {
   "cell_type": "markdown",
   "metadata": {},
   "source": [
    "### Questions statistiques ###"
   ]
  },
  {
   "cell_type": "markdown",
   "metadata": {},
   "source": [
    "**I.** _(3 points)_  &mdash; Utilisez la liste finale des vecteurs de quantité de mouvement $\\vec{p}$ de toutes les sphères pour trouver la moyenne de son carré $\\langle p^2\\rangle=\\langle\\vec{p}\\cdot\\vec{p}\\rangle$ et l'imprimer avec la fonction `print()` dans la cellule qui suit. "
   ]
  },
  {
   "cell_type": "code",
   "execution_count": 4,
   "metadata": {},
   "outputs": [
    {
     "name": "stdout",
     "output_type": "stream",
     "text": [
      "5.504363703526122e-47\n"
     ]
    }
   ],
   "source": [
    "# p à la fin de la simulation\n",
    "psquare_mean = np.mean([vp.mag2(atome.p) for atome in atoms])\n",
    "print(psquare_mean)"
   ]
  },
  {
   "cell_type": "markdown",
   "metadata": {},
   "source": [
    "\n",
    "**II.** _(2 points)_  &mdash; La température $T$ (macroscopique) est proportionnelle à l'énergie cinétique moyenne $E_{cin}$ de l'ensemble des particules lorsque ce système est rendu à l'équilibre. Celle-ci peut se calculer classiquement selon son <a href=\"https://fr.wikipedia.org/wiki/%C3%89quipartition_de_l%27%C3%A9nergie\">principe d'équipartition</a>, _i.e._ répartissant l'énergie également sur chaque degré de liberté ici en translation seulement, d'où au total pour $i=1,2\\text{ ou } 3$ dimensions d'espace réel\n",
    "\\begin{equation}\n",
    "E_{cin}=\\frac{\\langle p^2 \\rangle}{2m}=i\\times\\frac{1}{2}k_BT\n",
    "\\end{equation}\n",
    "avec $k_B$, la constante de Boltzmann et $m$, la masse de chaque particule. Quelle est la température du gaz de sphères dures à la fin de la simulation? Est-ce qu'elle a changé significativement par rapport à sa valeur initiale?"
   ]
  },
  {
   "cell_type": "code",
   "execution_count": 5,
   "metadata": {},
   "outputs": [
    {
     "name": "stdout",
     "output_type": "stream",
     "text": [
      "300.0 0.0\n"
     ]
    }
   ],
   "source": [
    "def calculate_temperature(p2, m): #calcul la temperature en K en fonction de E_cin (p2 = <p^2>)\n",
    "    i = 2 #degré de liberté 2D en simulation\n",
    "    kB = cte.k #constante de Boltzman\n",
    "    T = p2/(kB*m*i)\n",
    "    return T\n",
    "\n",
    "\n",
    "mass: float = cte.value(\"alpha particle mass\")\n",
    "TEnd = calculate_temperature(psquare_mean, mass)\n",
    "print(TEnd, TEnd-300)"
   ]
  },
  {
   "cell_type": "markdown",
   "metadata": {},
   "source": [
    "On voit que la température n'a essentiellement pas changée, ce qui est logique, puisque l'énergie est directement proportionnelle à la température et que c'est un système fermé, impliquant une conservation de l'énergie."
   ]
  },
  {
   "cell_type": "markdown",
   "metadata": {
    "nteract": {
     "transient": {
      "deleting": false
     }
    }
   },
   "source": [
    "**III.** _(10 points)_ &mdash; Modifiez le code de la simulation pour ajouter une fonction qui suit la trajectoire d'UNE SEULE particule, c'est-à-dire qu'elle doit enregistrer, dans une liste, des valeurs de variables pour cette particule et ce, à chacune de ses collisions avec une autre particule (_i.e._ excluez les collisions avec les parois de la boîte). Les deux variables scalaires à lister sont:\n",
    "- la distance que la particule a parcouru entre chaque collision,\n",
    "- le temps écoulé entre ces collisions.\n",
    "\n",
    "Copiez le code de votre fonction dans la cellule qui suit en y commentant clairement les variables pour ces listes qui devront persister après avoir interrompu l'exécution de la simulation. N'oubliez pas d'inclure votre fichier Python (`.py`) modifié avec la simulation complète lors de la remise."
   ]
  },
  {
   "cell_type": "code",
   "execution_count": 6,
   "metadata": {
    "nteract": {
     "transient": {
      "deleting": false
     }
    }
   },
   "outputs": [
    {
     "name": "stdout",
     "output_type": "stream",
     "text": [
      "Distance et temps parcourrue par l'atome 106. \n",
      "\n",
      "Distances: ['0.024741', '0.058297', '0.012592', '0.080878', '0.15829', '0.13562', '0.084842', '0.016957', '0.12302', '0.014123', '0.01522', '0.010263', '0.016026', '0.19163', '0.068951'].\n",
      "\n",
      "Temps: ['2e-05', '4e-05', '1e-05', '7e-05', '0.0001', '0.0002', '0.00015', '4e-05', '8e-05', '1e-05', '1e-05', '1e-05', '1e-05', '0.00017', '8e-05']\n"
     ]
    }
   ],
   "source": [
    "# Il faut initier les valeur analyseSphere, accuTime, accuDist, timeCollision et distanceCollision en début de code\n",
    "# Ces même valeur restent ensuite \n",
    "# Dans la boucle temporelle, on fait un check si analseSphere est dans hitlist, détermine si collison True or False\n",
    "\"\"\"\n",
    "def trackingParticule(sphere: int, List: list[list[int]], count: int):\n",
    "    # Fonction ajoutée pour track la particule\n",
    "    # Liste de tous les index des sphères en collision\n",
    "    collisions: list[int] = []\n",
    "    [collisions.extend(elem) for elem in List]\n",
    "\n",
    "    # Ajoute le temps écoulé et la distance parcourue pendant le temps dt\n",
    "    # au total depuis la dernière collision\n",
    "    timeCollision[-1] += dt\n",
    "    \n",
    "    varX = histPosSphereX[count] - histPosSphereX[count - 1]\n",
    "    varY = histPosSphereY[count] - histPosSphereY[count - 1]\n",
    "    xCollision[-1] += varX\n",
    "    yCollision[-1] += varY\n",
    "    distanceCollision[-1] += np.sqrt(varX**2+varY**2)\n",
    "\n",
    "    # Si la sphère subit une collision, passer à la prochaine valeur\n",
    "    # de temps et de distance entre collisions\n",
    "    if sphere in collisions:\n",
    "        xCollision.append(0)\n",
    "        yCollision.append(0)\n",
    "        distanceCollision.append(0)\n",
    "        timeCollision.append(0)\n",
    "\"\"\"\n",
    "dOutput = [f\"{float(elem):.5}\" for elem in dScalaire]\n",
    "tOutput = [f\"{float(elem):.5}\" for elem in tCollision]\n",
    "print(f\"Distance et temps parcourrue par l'atome {analyseSphere}. \\n\\nDistances: {dOutput}.\\n\\nTemps: {tOutput}\")\n"
   ]
  },
  {
   "cell_type": "markdown",
   "metadata": {
    "nteract": {
     "transient": {
      "deleting": false
     }
    }
   },
   "source": [
    "**IV.** _(2 points)_ &mdash; Calculez le **libre parcours moyen** $l_{moy}$ et le **temps de collision** $\\tau$ qui sont les valeurs moyennes des deux listes compilées au numéro précédent.\n",
    "\n",
    "_(Pour votre information, le libre parcours moyen est de l’ordre de 100 nm dans l'air à température et pression ambiantes, mais_ $l_{moy}$ _peut dépasser 100 000 km dans une enceinte sous vide avec les technologies de pompes modernes!)_\n",
    "\n"
   ]
  },
  {
   "cell_type": "code",
   "execution_count": 7,
   "metadata": {
    "nteract": {
     "transient": {
      "deleting": false
     }
    }
   },
   "outputs": [
    {
     "name": "stdout",
     "output_type": "stream",
     "text": [
      "0.067429, 6.6667e-05\n"
     ]
    }
   ],
   "source": [
    "lmoy = np.mean(dScalaire) #m\n",
    "tau = np.mean(tCollision) #s\n",
    "print(f\"{lmoy:.5}, {tau:.5}\")"
   ]
  },
  {
   "cell_type": "markdown",
   "metadata": {
    "nteract": {
     "transient": {
      "deleting": false
     }
    }
   },
   "source": [
    "**V.** _(2 points)_ Calculez la vitesse $\\vec{v}$ de la particule entre chaque paire de collisions. Quelle est la vitesse moyenne $\\langle\\vec{v}\\rangle$ de la particule?"
   ]
  },
  {
   "cell_type": "code",
   "execution_count": 8,
   "metadata": {
    "nteract": {
     "transient": {
      "deleting": false
     }
    }
   },
   "outputs": [
    {
     "name": "stdout",
     "output_type": "stream",
     "text": [
      "[<-720.531, 994.698, 0>, <-588.42, 1112.81, 0>, <229.316, 1238.11, 0>, <39.3927, 1154.06, 0>, <1219.52, 1008.2, 0>, <-666.207, 126.097, 0>, <-548.812, 136.407, 0>, <352.392, -218.067, 0>, <-990.632, -1176.08, 0>, <-1356.73, -392.243, 0>, <-427.161, 1460.87, 0>, <-842.414, 586.21, 0>, <780.912, 1399.42, 0>, <-110.621, 1120.21, 0>, <-284.819, -813.473, 0>]\n",
      "<v> = <-251.707, 357.164, 0>\n",
      "sqrt(<v^2>) = 1011.4408110517664\n"
     ]
    }
   ],
   "source": [
    "# Si la simulation termine sur une collision, il y aura une division\n",
    "# par 0, relancer la simulation dans ce cas\n",
    "vVec = [d/t for d, t in zip(dVec, tCollision)]\n",
    "vMoy = sum(dVec, vp.vector(0, 0, 0)) / (dt*timeLoopLen)\n",
    "\n",
    "print(vVec)\n",
    "print(f\"<v> = {vMoy}\")\n",
    "print(f\"sqrt(<v^2>) = {lmoy/tau}\")"
   ]
  },
  {
   "cell_type": "markdown",
   "metadata": {
    "nteract": {
     "transient": {
      "deleting": false
     }
    }
   },
   "source": [
    "**VI.** _(5 points)_ &mdash; Pour cette même liste de vitesses, comparez les distributions de la norme $||\\vec{v}||$, du carré $v^2$ et d’une de ses composantes $v_x^2$ en étalonnant l’abscisse pour contraster les histogrammes avec une échelle appropriée. Indiquez sur ce graphique la moyenne, le mode, la médiane et la moyenne quadratique des distributions."
   ]
  },
  {
   "cell_type": "code",
   "execution_count": 9,
   "metadata": {
    "nteract": {
     "transient": {
      "deleting": false
     }
    }
   },
   "outputs": [
    {
     "data": {
      "text/plain": [
       "<matplotlib.legend.Legend at 0x7f83dd1bcfd0>"
      ]
     },
     "execution_count": 9,
     "metadata": {},
     "output_type": "execute_result"
    },
    {
     "data": {
      "image/png": "[encoded data removed]",
      "text/plain": [
       "<Figure size 1500x400 with 3 Axes>"
      ]
     },
     "metadata": {},
     "output_type": "display_data"
    }
   ],
   "source": [
    "import matplotlib.pyplot as plt\n",
    "%matplotlib inline\n",
    "\n",
    "vNorm = [vp.mag(v) for v in vVec]\n",
    "v2Norm = [vp.mag2(v) for v in vVec]\n",
    "vxNorm = [v.x**2 for v in vVec]\n",
    "\n",
    "NBINS = 50\n",
    "fig, axs = plt.subplots(1, 3, figsize=(15, 4))\n",
    "axs[0].hist(vNorm, NBINS, density=True, color=\"b\", label=\"Frequency\")\n",
    "axs[1].hist(v2Norm, NBINS, density=True, color=\"b\", label=\"Frequency\")\n",
    "axs[2].hist(vxNorm, NBINS, density=True, color=\"b\", label=\"Frequency\")\n",
    "axs[0].set_xlabel(r\"$|\\mathbf{v}|$\")\n",
    "axs[1].set_xlabel(r\"$\\mathbf{v}^2$\")\n",
    "axs[2].set_xlabel(r\"$\\mathbf{v}_x^2$\")\n",
    "[axs[i].set_ylabel(\"Fréquence relative\") for i in range(2)]\n",
    "#axs[0].set_title(\"Dataset\")\n",
    "axs[0].legend()"
   ]
  },
  {
   "cell_type": "markdown",
   "metadata": {},
   "source": [
    "**Bonus.** _(4 points)_ &mdash; Montrez que \n",
    "- (a) le théorème central limite est satisfait par une des distributions de vitesse du numéro précédent,\n",
    "- (b) le système simulé est ergodique."
   ]
  },
  {
   "cell_type": "code",
   "execution_count": 32,
   "metadata": {
    "collapsed": true
   },
   "outputs": [
    {
     "data": {
      "text/html": [
       "<div id=\"glowscript\" class=\"glowscript\"></div>"
      ],
      "text/plain": [
       "<IPython.core.display.HTML object>"
      ]
     },
     "metadata": {},
     "output_type": "display_data"
    },
    {
     "data": {
      "application/javascript": [
       "if (typeof Jupyter !== \"undefined\") { window.__context = { glowscript_container: $(\"#glowscript\").removeAttr(\"id\")};}else{ element.textContent = ' ';}"
      ],
      "text/plain": [
       "<IPython.core.display.Javascript object>"
      ]
     },
     "metadata": {},
     "output_type": "display_data"
    },
    {
     "data": {
      "text/plain": [
       "<Figure size 640x480 with 0 Axes>"
      ]
     },
     "metadata": {},
     "output_type": "display_data"
    }
   ],
   "source": [
    "# On roule le conde avec un grand nombre d'itérations pour\n",
    "# pour avoir une belle gaussienne, N > 100 absolument\n",
    "%run TDS_2Dsimulation_H24.py 200\n",
    "# On élimine le début de la simulation pour laisser\n",
    "# le temps aux particules de se distribuer selon MB\n",
    "TCL = TCL[100:]"
   ]
  },
  {
   "cell_type": "code",
   "execution_count": 34,
   "metadata": {},
   "outputs": [
    {
     "data": {
      "text/plain": [
       "990.6071317631729"
      ]
     },
     "execution_count": 34,
     "metadata": {},
     "output_type": "execute_result"
    }
   ],
   "source": [
    "mu"
   ]
  },
  {
   "cell_type": "code",
   "execution_count": 40,
   "metadata": {
    "nteract": {
     "transient": {
      "deleting": false
     }
    }
   },
   "outputs": [],
   "source": [
    "# On calcule la moyenne et la variance de la distribution MB des atomes\n",
    "# sqrt(kT/m)\n",
    "#scale: float = np.sqrt(300*cte.k/mass)\n",
    "#mu: float = 2*scale*np.sqrt(2/np.pi)\n",
    "#mu = np.mean(TCL)\n",
    "#sigma2: float = scale**2 * (3*np.pi-8)/np.pi\n",
    "#sigma2 = np.var(TCL)\n",
    "\n",
    "# On centre et réduit la distribution de la moyenne de |v|\n",
    "# X_CR = (X_n - mu)/(sigma/sqrt(n))\n",
    "#vNormCR = (TCL-mu)/(np.sqrt(sigma2/len(atoms)))\n",
    "\n",
    "X_is = list(zip(*TCL))[0]\n",
    "mus = list(zip(*TCL))[1]\n",
    "sigma2s = list(zip(*TCL))[2]\n",
    "\n",
    "mu = sum(mus)/len(mus)\n",
    "sigma2 = sum(sigma2s)/len(sigma2s)\n",
    "\n",
    "centreReduit = [200*(X_i-mu)/np.sqrt(sigma2) for X_i in X_is]\n",
    "\n",
    "# On affiche l'histogramme et on le compare à N(0,1)\n",
    "x = np.linspace(-10, 10, 1000)\n",
    "y = lambda x: np.e**(-x**2/2)/np.sqrt(2*np.pi)\n",
    "\n",
    "#plt.hist(vNormCR, NBINS, density=True, label=r\"Histogramme de $|\\mathbf{v}|$\")\n",
    "plt.hist(centreReduit, NBINS, density=True)\n",
    "plt.plot(x, y(x), label=\"Distribution normale centrée réduite\")\n",
    "plt.xlabel(r\"$x$\")\n",
    "plt.ylabel(\"Densité de probabilité\")\n",
    "plt.legend()\n",
    "plt.xlim(-5, 5)\n",
    "plt.show()"
   ]
  },
  {
   "cell_type": "markdown",
   "metadata": {
    "jp-MarkdownHeadingCollapsed": true,
    "nteract": {
     "transient": {
      "deleting": false
     }
    }
   },
   "source": [
    "# Médiagraphie #\n",
    " - La simulation utilise la librairie <a href=\"https://vpython.org\">VPython</a> conçue pour faciliter la visualisation de physique en 3D, avec les instructions d’installation <a href=\"https://vpython.org/presentation2018/install.html\">ici</a> et la documentation <a href=\"https://www.glowscript.org/docs/VPythonDocs/index.html\">ici</a>. Le code adapte en 2D et commente en détail l’exemple <a href=\"https://www.glowscript.org/#/user/GlowScriptDemos/folder/Examples/program/HardSphereGas-VPython\">HardSphereGas-VPython</a> du site interactif <a href=\"https://www.glowscript.org\">GlowScript</a> pour programmer des animations avec VPython directement en ligne."
   ]
  }
 ],
 "metadata": {
  "kernelspec": {
   "display_name": "Python 3 (ipykernel)",
   "language": "python",
   "name": "python3"
  },
  "language_info": {
   "codemirror_mode": {
    "name": "ipython",
    "version": 3
   },
   "file_extension": ".py",
   "mimetype": "text/x-python",
   "name": "python",
   "nbconvert_exporter": "python",
   "pygments_lexer": "ipython3",
   "version": "3.9.2"
  }
 },
 "nbformat": 4,
 "nbformat_minor": 4
}
