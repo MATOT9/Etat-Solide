{
 "cells": [
  {
   "cell_type": "markdown",
   "metadata": {},
   "source": [
    "<h1 style=\"text-align:center\">Travail pratique numérique en thermodynamique statistique</h1>\n",
    "<h2 style=\"text-align:center\">PARTIE 1 : Cinétique des gaz parfaits</h2>\n",
    "\n",
    "Veuillez indiquer le nom des membres de votre équipe dans la cellule suivante."
   ]
  },
  {
   "cell_type": "markdown",
   "metadata": {},
   "source": [
    "<h1><center>Physique numérique (PHY-3500) - TP1</center></h1>\n",
    "<hr>\n",
    "<br><br>\n",
    "\n",
    "**Membres de l'équipe**\n",
    "| Nom | NI |\n",
    "| --- | :---: |\n",
    "| Maxime Tousignant-Tremblay | 536 772 369 |\n",
    "| Philippe Morin | 536 776 382 |\n",
    "| Alyx Olivier| 536 772 782 |\n",
    "| Anna-Kim Péron|  |"
   ]
  },
  {
   "cell_type": "markdown",
   "metadata": {},
   "source": [
    "# Atelier en classe : 31 janvier 2024 #\n",
    "### Discussion interdisciplinaire de sujets en probablilité & statistiques ###\n",
    "\n",
    "**Quelques fondements de mathématiques statistiques:** par exemple bien définir variables aléatoires, échantillon et population totale, estimateurs, fonction de distribution cumulative (répartition), densité de probabilité, moments, etc. - **Programme GPH**\n",
    "\n",
    "**Les distributions statistiques de particules indiscernables:** en particulier celle de Fermi-Dirac avec les notions de potentiel chimique et d’occupation des états en fonction de la température, en analogie avec le remplissage selon le principe principe d’Aufbau introduit en classe pour les atomes à température nulle. - **Programme PHY**\n",
    "\n",
    "**_Un point de bonus sera accordé à tous les étudiantes et étudiants qui participeront à l'atelier pour discuter des sujets ci-dessus et débuter le travail de la première partie ci-dessous._**"
   ]
  },
  {
   "cell_type": "markdown",
   "metadata": {
    "nteract": {
     "transient": {
      "deleting": false
     }
    }
   },
   "source": [
    "# Introduction #\n",
    "Ce travail révise d'abord quelques bases générales de mécanique statistique classique avec le script `TDS-2Dsimulation_HXX.py` qui simule la théorie cinétique des gaz parfaits en 2D. Cette simulation utilise le concept de sphères dures, mais ici pour le cas des particules d'un gaz afin d'introduire des collisions élastiques entre elles sur leurs trajectoires ballistiques. Notez qu'une sphère est colorée et grossie seulement pour l’effet visuel dans l'animation, la physique de l’algorithme codé considère bien des particules totalement identiques. Les questions sur cette simulation, à répondre directement dans les cellules du carnet _(Notebook)_ ici-même, explorent quelques paramètres de la thermodynamique statistique et introduisent de nouveaux termes utiles à l'étude de la dynamique des électrons dans la matière.\n",
    "\n",
    "_N.B._ \n",
    "- _Pour montrer les animations à l'écran, le script `TDS-2Dsimulation_HXX.py` importe la librairie `VPython` qu'il faut donc installer. Des liens vers sa documentation et de l'information complémentaire sont donnés dans la médiagraphie à la fin._\n",
    "- _Le code dans ce script est abusivement commenté dans notre contexte pédagogique, mais il serait bien sûr préférable de s’en tenir aux recommandations du <a href=\"https://www.python.org/dev/peps/pep-0008\"> PEP 8 — Style Guide for Python Code</a>._\n",
    "- _Notez finalement que la boucle principale à la fin du script laisse l'utilisateur voir l'animation aussi longtemps que souhaité, assurez-vous donc de savoir comment l'interrompre correctement avant de lancer la simulation ou de la remplacer par une boucle `for`._"
   ]
  },
  {
   "cell_type": "markdown",
   "metadata": {
    "nteract": {
     "transient": {
      "deleting": false
     }
    }
   },
   "source": [
    "# Cinétique CLASSIQUE des gaz parfaits #"
   ]
  },
  {
   "cell_type": "markdown",
   "metadata": {
    "nteract": {
     "transient": {
      "deleting": false
     }
    }
   },
   "source": [
    "### Simulation 2D ###"
   ]
  },
  {
   "cell_type": "code",
   "execution_count": 1,
   "metadata": {
    "scrolled": true
   },
   "outputs": [
    {
     "data": {
      "text/html": [
       "<div id=\"glowscript\" class=\"glowscript\"></div>"
      ],
      "text/plain": [
       "<IPython.core.display.HTML object>"
      ]
     },
     "metadata": {},
     "output_type": "display_data"
    },
    {
     "data": {
      "application/javascript": [
       "if (typeof Jupyter !== \"undefined\") { window.__context = { glowscript_container: $(\"#glowscript\").removeAttr(\"id\")};}else{ element.textContent = ' ';}"
      ],
      "text/plain": [
       "<IPython.core.display.Javascript object>"
      ]
     },
     "metadata": {},
     "output_type": "display_data"
    }
   ],
   "source": [
    "import numpy as np\n",
    "import vpython as vp\n",
    "from scipy import constants as cte\n"
   ]
  },
  {
   "cell_type": "code",
   "execution_count": 2,
   "metadata": {},
   "outputs": [],
   "source": [
    "import TDS_H24\n",
    "\n",
    "q = TDS_H24.HardSphere()\n",
    "q.run(500)\n"
   ]
  },
  {
   "cell_type": "code",
   "execution_count": 31,
   "metadata": {
    "scrolled": true
   },
   "outputs": [
    {
     "data": {
      "text/html": [
       "<div id=\"glowscript\" class=\"glowscript\"></div>"
      ],
      "text/plain": [
       "<IPython.core.display.HTML object>"
      ]
     },
     "metadata": {},
     "output_type": "display_data"
    },
    {
     "data": {
      "application/javascript": [
       "if (typeof Jupyter !== \"undefined\") { window.__context = { glowscript_container: $(\"#glowscript\").removeAttr(\"id\")};}else{ element.textContent = ' ';}"
      ],
      "text/plain": [
       "<IPython.core.display.Javascript object>"
      ]
     },
     "metadata": {},
     "output_type": "display_data"
    }
   ],
   "source": [
    "%run TDS_2Dsimulation_H24.py\n"
   ]
  },
  {
   "cell_type": "markdown",
   "metadata": {},
   "source": [
    "### Questions statistiques ###"
   ]
  },
  {
   "cell_type": "markdown",
   "metadata": {},
   "source": [
    "**I.** _(3 points)_  &mdash; Utilisez la liste finale des vecteurs de quantité de mouvement $\\vec{p}$ de toutes les sphères pour trouver la moyenne de son carré $\\langle p^2\\rangle=\\langle\\vec{p}\\cdot\\vec{p}\\rangle$ et l'imprimer avec la fonction `print()` dans la cellule qui suit. "
   ]
  },
  {
   "cell_type": "code",
   "execution_count": 32,
   "metadata": {},
   "outputs": [
    {
     "name": "stdout",
     "output_type": "stream",
     "text": [
      "5.504363703526125e-47\n"
     ]
    }
   ],
   "source": [
    "# p à la fin de la simulation\n",
    "psquare_mean = np.mean([vp.mag2(atome.p) for atome in atoms])\n",
    "print(psquare_mean)"
   ]
  },
  {
   "cell_type": "markdown",
   "metadata": {},
   "source": [
    "\n",
    "**II.** _(2 points)_  &mdash; La température $T$ (macroscopique) est proportionnelle à l'énergie cinétique moyenne $E_{cin}$ de l'ensemble des particules lorsque ce système est rendu à l'équilibre. Celle-ci peut se calculer classiquement selon son <a href=\"https://fr.wikipedia.org/wiki/%C3%89quipartition_de_l%27%C3%A9nergie\">principe d'équipartition</a>, _i.e._ répartissant l'énergie également sur chaque degré de liberté ici en translation seulement, d'où au total pour $i=1,2\\text{ ou } 3$ dimensions d'espace réel\n",
    "\\begin{equation}\n",
    "E_{cin}=\\frac{\\langle p^2 \\rangle}{2m}=i\\times\\frac{1}{2}k_BT\n",
    "\\end{equation}\n",
    "avec $k_B$, la constante de Boltzmann et $m$, la masse de chaque particule. Quelle est la température du gaz de sphères dures à la fin de la simulation? Est-ce qu'elle a changé significativement par rapport à sa valeur initiale?"
   ]
  },
  {
   "cell_type": "code",
   "execution_count": 33,
   "metadata": {},
   "outputs": [
    {
     "name": "stdout",
     "output_type": "stream",
     "text": [
      "300.0000000000001 1.1368683772161603e-13\n"
     ]
    }
   ],
   "source": [
    "def calculate_temperature(p2, m): #calcul la temperature en K en fonction de E_cin (p2 = <p^2>)\n",
    "    i = 2 #degré de liberté 2D en simulation\n",
    "    kB = cte.k #constante de Boltzman\n",
    "    T = p2/(kB*m*i)\n",
    "    return T\n",
    "\n",
    "\n",
    "mass: float = cte.value(\"alpha particle mass\")\n",
    "TEnd = calculate_temperature(psquare_mean, mass)\n",
    "print(TEnd, TEnd-300)"
   ]
  },
  {
   "cell_type": "markdown",
   "metadata": {},
   "source": [
    "On voit que la température n'a essentiellement pas changée, ce qui est logique, puisque l'énergie est directement proportionnelle à la température et que c'est un système fermé, impliquant une conservation de l'énergie."
   ]
  },
  {
   "cell_type": "markdown",
   "metadata": {
    "nteract": {
     "transient": {
      "deleting": false
     }
    }
   },
   "source": [
    "**III.** _(10 points)_ &mdash; Modifiez le code de la simulation pour ajouter une fonction qui suit la trajectoire d'UNE SEULE particule, c'est-à-dire qu'elle doit enregistrer, dans une liste, des valeurs de variables pour cette particule et ce, à chacune de ses collisions avec une autre particule (_i.e._ excluez les collisions avec les parois de la boîte). Les deux variables scalaires à lister sont:\n",
    "- la distance que la particule a parcouru entre chaque collision,\n",
    "- le temps écoulé entre ces collisions.\n",
    "\n",
    "Copiez le code de votre fonction dans la cellule qui suit en y commentant clairement les variables pour ces listes qui devront persister après avoir interrompu l'exécution de la simulation. N'oubliez pas d'inclure votre fichier Python (`.py`) modifié avec la simulation complète lors de la remise."
   ]
  },
  {
   "cell_type": "code",
   "execution_count": 34,
   "metadata": {
    "nteract": {
     "transient": {
      "deleting": false
     }
    }
   },
   "outputs": [
    {
     "name": "stdout",
     "output_type": "stream",
     "text": [
      "Distance et temps parcourrue par l'atome 106. \n",
      "\n",
      "Distances: ['0.022435', '0.11318', '0.40097', '0.57244', '0.03356', '0.14708', '0.21954', '0.05588', '0.033225', '0.0081327', '0.14228', '0.13049', '0.043803', '0.30985', '0.1345', '0.077508', '0.2911', '0.032934', '0.011173', '0.067184', '0.011253', '0.031359', '0.030838', '0.16317', '0.059059', '0.12893', '0.18046', '0.0072152', '0.019359', '0.18395', '0.2654', '0.14557', '0.018618', '0.074478', '0.22392', '0.065756', '0.11724', '0.013899', '0.014788', '0.035901', '0.0067195', '0.034908', '0.0098493', '0.11744', '0.052139', '0.022593', '0.014433', '0.030613', '0.11464', '0.19536', '0.11239', '0.017557', '0.096217', '0.030976', '0.1145', '0.041093', '0.045195', '0.12763', '0.18476', '0.16172', '0.032725', '0.063361', '0.033704', '0.083454', '0.11667', '0.049132', '0.066536', '0.0089904', '0.058004', '0.1531', '0.056528', '0.045775', '0.022241', '0.019007', '0.062188', '0.10045', '0.22111', '0.16565', '0.095874', '0.090244', '0.1062', '0.0059002', '0.17409', '0.060447', '0.027786', '0.006257', '0.015209', '0.016652', '0.010044', '0.090648', '0.025789', '0.07572', '0.055549', '0.018005', '0.069187', '0.06729', '0.0075976', '0.015024', '0.058173', '0.053104', '0.20631', '0.024939', '0.0063298'].\n",
      "\n",
      "Temps: ['2e-05', '0.0001', '0.00031', '0.00035', '3e-05', '0.00022', '0.00023', '7e-05', '5e-05', '1e-05', '0.00018', '0.00016', '8e-05', '0.0002', '0.0001', '6e-05', '0.00023', '3e-05', '1e-05', '6e-05', '1e-05', '2e-05', '4e-05', '0.00042', '0.00013', '0.00015', '0.00015', '1e-05', '7e-05', '0.00014', '0.00018', '0.0001', '2e-05', '0.00022', '0.00024', '9e-05', '0.00016', '9e-05', '2e-05', '3e-05', '1e-05', '9e-05', '3e-05', '0.0004', '0.00013', '6e-05', '5e-05', '4e-05', '0.00015', '0.00025', '0.00014', '3e-05', '6e-05', '3e-05', '9e-05', '0.0001', '3e-05', '7e-05', '9e-05', '7e-05', '7e-05', '0.00015', '4e-05', '0.0001', '0.00014', '4e-05', '0.00011', '2e-05', '4e-05', '0.00011', '0.00014', '5e-05', '0.00012', '4e-05', '3e-05', '5e-05', '0.00014', '8e-05', '5e-05', '6e-05', '8e-05', '1e-05', '0.00025', '7e-05', '0.00022', '1e-05', '1e-05', '1e-05', '4e-05', '8e-05', '2e-05', '0.0001', '3e-05', '1e-05', '9e-05', '0.00016', '1e-05', '2e-05', '4e-05', '5e-05', '0.0003', '8e-05', '2e-05']\n"
     ]
    }
   ],
   "source": [
    "# Il faut initier les valeur analyseSphere, accuTime, accuDist, timeCollision et distanceCollision en début de code\n",
    "# Ces même valeur restent ensuite \n",
    "# Dans la boucle temporelle, on fait un check si analseSphere est dans hitlist, détermine si collison True or False\n",
    "\"\"\"\n",
    "def trackingParticule(sphere: int, List: list[list[int]], count: int):\n",
    "    # Fonction ajoutée pour track la particule\n",
    "    # Liste de tous les index des sphères en collision\n",
    "    collisions: list[int] = []\n",
    "    [collisions.extend(elem) for elem in List]\n",
    "\n",
    "    # Ajoute le temps écoulé et la distance parcourue pendant le temps dt\n",
    "    # au total depuis la dernière collision\n",
    "    timeCollision[-1] += dt\n",
    "    \n",
    "    varX = histPosSphereX[count] - histPosSphereX[count - 1]\n",
    "    varY = histPosSphereY[count] - histPosSphereY[count - 1]\n",
    "    xCollision[-1] += varX\n",
    "    yCollision[-1] += varY\n",
    "    distanceCollision[-1] += np.sqrt(varX**2+varY**2)\n",
    "\n",
    "    # Si la sphère subit une collision, passer à la prochaine valeur\n",
    "    # de temps et de distance entre collisions\n",
    "    if sphere in collisions:\n",
    "        xCollision.append(0)\n",
    "        yCollision.append(0)\n",
    "        distanceCollision.append(0)\n",
    "        timeCollision.append(0)\n",
    "\"\"\"\n",
    "dOutput = [f\"{float(elem):.5}\" for elem in dScalaire]\n",
    "tOutput = [f\"{float(elem):.5}\" for elem in tCollision]\n",
    "print(f\"Distance et temps parcourrue par l'atome {analyseSphere}. \\n\\nDistances: {dOutput}.\\n\\nTemps: {tOutput}\")\n"
   ]
  },
  {
   "cell_type": "markdown",
   "metadata": {
    "nteract": {
     "transient": {
      "deleting": false
     }
    }
   },
   "source": [
    "**IV.** _(2 points)_ &mdash; Calculez le **libre parcours moyen** $l_{moy}$ et le **temps de collision** $\\tau$ qui sont les valeurs moyennes des deux listes compilées au numéro précédent.\n",
    "\n",
    "_(Pour votre information, le libre parcours moyen est de l’ordre de 100 nm dans l'air à température et pression ambiantes, mais_ $l_{moy}$ _peut dépasser 100 000 km dans une enceinte sous vide avec les technologies de pompes modernes!)_\n",
    "\n"
   ]
  },
  {
   "cell_type": "code",
   "execution_count": 35,
   "metadata": {
    "nteract": {
     "transient": {
      "deleting": false
     }
    }
   },
   "outputs": [
    {
     "name": "stdout",
     "output_type": "stream",
     "text": [
      "0.086507, 9.7087e-05\n"
     ]
    }
   ],
   "source": [
    "lmoy = np.mean(dScalaire) #m\n",
    "tau = np.mean(tCollision) #s\n",
    "print(f\"{lmoy:.5}, {tau:.5}\")"
   ]
  },
  {
   "cell_type": "markdown",
   "metadata": {
    "nteract": {
     "transient": {
      "deleting": false
     }
    }
   },
   "source": [
    "**V.** _(2 points)_ Calculez la vitesse $\\vec{v}$ de la particule entre chaque paire de collisions. Quelle est la vitesse moyenne $\\langle\\vec{v}\\rangle$ de la particule?"
   ]
  },
  {
   "cell_type": "code",
   "execution_count": 38,
   "metadata": {
    "nteract": {
     "transient": {
      "deleting": false
     }
    }
   },
   "outputs": [
    {
     "name": "stdout",
     "output_type": "stream",
     "text": [
      "[<-1084.05, -161.972, 0>, <-948.721, -575.889, 0>, <898.152, -923.983, 0>, <184.734, -421.413, 0>, <-627.891, 925.458, 0>, <-405.244, -531.291, 0>, <-426.123, -159.054, 0>, <-692.606, -395.449, 0>, <-617.464, -245.405, 0>, <340.034, -738.776, 0>, <364.667, 378.961, 0>, <706.829, 405.621, 0>, <501.682, 74.5116, 0>, <-1410.05, 634.882, 0>, <-749.07, 1116.83, 0>, <-644.39, 1119.11, 0>, <-765.842, 1007.64, 0>, <-539.053, 947.643, 0>, <1116.09, -53.0936, 0>, <1074.93, -302.402, 0>, <903.755, 670.476, 0>, <501.583, 1485.56, 0>, <-485.426, -595.52, 0>, <129.146, -365.939, 0>, <18.1844, -453.55, 0>, <149.205, -844.887, 0>, <501.098, -1093.75, 0>, <-309.423, 651.803, 0>, <73.4901, -262.886, 0>, <-63.4333, -1241.04, 0>, <1467.58, -132.302, 0>, <1024.4, 827.924, 0>, <-87.1711, 888.942, 0>, <-334.644, 15.7788, 0>, <159.025, -80.6579, 0>, <-6.19044, 725.201, 0>, <-346.563, -645.555, 0>, <-1.45325, 117.759, 0>, <729.55, 17.9962, 0>, <1021.3, -509.906, 0>, <-277.514, 611.964, 0>, <-357.344, 133.144, 0>, <200.347, -29.7288, 0>, <-293.084, -16.358, 0>, <-363.715, -169.006, 0>, <-339.779, -159.155, 0>, <-253.713, 113.979, 0>, <-456.249, 614.299, 0>, <-485.935, 589.891, 0>, <-518.267, 573.964, 0>, <89.088, 794.449, 0>, <232, 519.717, 0>, <-610.532, 1482.81, 0>, <643.727, -771.842, 0>, <-633.811, -1103.15, 0>, <-141.705, -229.724, 0>, <1448.86, 389.147, 0>, <1812.77, 155.939, 0>, <2043.34, -185.05, 0>, <1588.13, 1677.88, 0>, <140.169, 349.073, 0>, <225.271, -341.675, 0>, <-655.364, -500.186, 0>, <-348.13, -757.489, 0>, <785.787, 77.6864, 0>, <801.518, -930.021, 0>, <-235.169, 557.046, 0>, <224.847, 243.12, 0>, <1266.53, 700.936, 0>, <1314.62, 457.022, 0>, <352.491, 138.162, 0>, <-249.12, -875.826, 0>, <131.455, -117.62, 0>, <-36.2776, -465.623, 0>, <-570.562, 1984.4, 0>, <353.969, 1977.05, 0>, <-657.27, -453.739, 0>, <-2061.77, -180.965, 0>, <-1870, 276.384, 0>, <-525.384, 1409.31, 0>, <-327.362, 1280.9, 0>, <-589.453, -25.8781, 0>, <579.052, 385.533, 0>, <317.064, -803.115, 0>, <-108.133, -62.1687, 0>, <-596.411, 189.193, 0>, <-1465.13, -407.926, 0>, <1659.26, 140.95, 0>, <-143.839, 125.539, 0>, <-174.075, 1115.04, 0>, <-1033.8, 666.31, 0>, <-622.023, -431.67, 0>, <-1505.55, -1026.47, 0>, <-629.916, -1686.67, 0>, <370.824, -673.063, 0>, <-409.194, -90.26, 0>, <-758.393, 45.4773, 0>, <-732.347, -137.73, 0>, <-678.375, -1277.26, 0>, <-804.036, -640.756, 0>, <68.7591, -683.175, 0>, <-308.696, -43.4401, 0>, <-312.703, -48.8155, 0>]\n",
      "<v> = <-14.4808, -31.2312, 0>\n",
      "sqrt(<v^2>) = 891.0187603814321\n"
     ]
    }
   ],
   "source": [
    "vVec = [d/t for d, t in zip(dVec, tCollision)]\n",
    "vMoy = sum(dVec, vp.vector(0, 0, 0)) / (dt*timeLoopLen)\n",
    "\n",
    "print(vVec)\n",
    "print(f\"<v> = {vMoy}\")\n",
    "print(f\"sqrt(<v^2>) = {lmoy/tau}\")"
   ]
  },
  {
   "cell_type": "markdown",
   "metadata": {
    "nteract": {
     "transient": {
      "deleting": false
     }
    }
   },
   "source": [
    "**VI.** _(5 points)_ &mdash; Pour cette même liste de vitesses, comparez les distributions de la norme $||\\vec{v}||$, du carré $v^2$ et d’une de ses composantes $v_x^2$ en étalonnant l’abscisse pour contraster les histogrammes avec une échelle appropriée. Indiquez sur ce graphique la moyenne, le mode, la médiane et la moyenne quadratique des distributions."
   ]
  },
  {
   "cell_type": "code",
   "execution_count": 42,
   "metadata": {
    "nteract": {
     "transient": {
      "deleting": false
     }
    }
   },
   "outputs": [
    {
     "data": {
      "text/plain": [
       "<matplotlib.legend.Legend at 0x7f81586a1a50>"
      ]
     },
     "execution_count": 42,
     "metadata": {},
     "output_type": "execute_result"
    },
    {
     "data": {
      "image/png": "[encoded data removed]",
      "text/plain": [
       "<Figure size 1500x400 with 3 Axes>"
      ]
     },
     "metadata": {},
     "output_type": "display_data"
    }
   ],
   "source": [
    "import matplotlib.pyplot as plt\n",
    "%matplotlib inline\n",
    "\n",
    "vNorm = [vp.mag(v) for v in vVec]\n",
    "v2Norm = [vp.mag2(v) for v in vVec]\n",
    "vxNorm = [v.x**2 for v in vVec]\n",
    "\n",
    "NBINS = 50\n",
    "fig, axs = plt.subplots(1, 3, figsize=(15, 4))\n",
    "axs[0].hist(vNorm, NBINS, density=True, color=\"b\", label=\"Frequency\")\n",
    "axs[1].hist(v2Norm, NBINS, density=True, color=\"b\", label=\"Frequency\")\n",
    "axs[2].hist(vxNorm, NBINS, density=True, color=\"b\", label=\"Frequency\")\n",
    "axs[0].set_xlabel(r\"$|\\mathbf{v}|$\")\n",
    "axs[1].set_xlabel(r\"$\\mathbf{v}^2$\")\n",
    "axs[2].set_xlabel(r\"$\\mathbf{v}_x^2$\")\n",
    "[axs[i].set_ylabel(\"Fréquence relative\") for i in range(2)]\n",
    "#axs[0].set_title(\"Dataset\")\n",
    "axs[0].legend()"
   ]
  },
  {
   "cell_type": "markdown",
   "metadata": {},
   "source": [
    "**Bonus.** _(4 points)_ &mdash; Montrez que \n",
    "- (a) le théorème central limite est satisfait par une des distributions de vitesse du numéro précédent,\n",
    "- (b) le système simulé est ergodique."
   ]
  },
  {
   "cell_type": "code",
   "execution_count": null,
   "metadata": {
    "nteract": {
     "transient": {
      "deleting": false
     }
    }
   },
   "outputs": [],
   "source": [
    "# la distciubtuon de v_x suit une loi normale dont en moyenne, vx = 0\n",
    "#\n"
   ]
  },
  {
   "cell_type": "markdown",
   "metadata": {
    "jp-MarkdownHeadingCollapsed": true,
    "nteract": {
     "transient": {
      "deleting": false
     }
    }
   },
   "source": [
    "# Médiagraphie #\n",
    " - La simulation utilise la librairie <a href=\"https://vpython.org\">VPython</a> conçue pour faciliter la visualisation de physique en 3D, avec les instructions d’installation <a href=\"https://vpython.org/presentation2018/install.html\">ici</a> et la documentation <a href=\"https://www.glowscript.org/docs/VPythonDocs/index.html\">ici</a>. Le code adapte en 2D et commente en détail l’exemple <a href=\"https://www.glowscript.org/#/user/GlowScriptDemos/folder/Examples/program/HardSphereGas-VPython\">HardSphereGas-VPython</a> du site interactif <a href=\"https://www.glowscript.org\">GlowScript</a> pour programmer des animations avec VPython directement en ligne."
   ]
  }
 ],
 "metadata": {
  "kernelspec": {
   "display_name": "Python 3 (ipykernel)",
   "language": "python",
   "name": "python3"
  },
  "language_info": {
   "codemirror_mode": {
    "name": "ipython",
    "version": 3
   },
   "file_extension": ".py",
   "mimetype": "text/x-python",
   "name": "python",
   "nbconvert_exporter": "python",
   "pygments_lexer": "ipython3",
   "version": "3.11.8"
  }
 },
 "nbformat": 4,
 "nbformat_minor": 4
}
